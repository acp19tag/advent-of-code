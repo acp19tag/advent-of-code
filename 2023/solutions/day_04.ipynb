{
 "cells": [
  {
   "cell_type": "code",
   "execution_count": 1,
   "metadata": {},
   "outputs": [],
   "source": [
    "# import useful libraries\n",
    "\n",
    "import numpy as np\n",
    "import itertools\n",
    "from collections import Counter\n",
    "from utils import *"
   ]
  },
  {
   "cell_type": "code",
   "execution_count": 2,
   "metadata": {},
   "outputs": [],
   "source": [
    "# which day is it? \n",
    "\n",
    "day = 4"
   ]
  },
  {
   "cell_type": "code",
   "execution_count": 3,
   "metadata": {},
   "outputs": [
    {
     "name": "stdout",
     "output_type": "stream",
     "text": [
      "['Card   1: 57 76 72 11  8 28 15 38 54 46 | 77 87 71 98 40  7 84 43 61 64  5 50 19 83 79 99 36 47  4 95 30 44 37 55 26', 'Card   2: 44 69 14 83 54 48 21  6 20 26 | 80 26 86  3  9  4 62 34 15 87 60 88 90 29 65 46 92 73 24 12 40 10 99 37 74', 'Card   3: 15 60 63 84 20 93 36 39 17 19 | 68 80 17 91 20 84 69 72 15 39  5 61 74 99 60 85 19 45 24 79 53 36  7 63 93']\n"
     ]
    }
   ],
   "source": [
    "# load puzzle input\n",
    "    \n",
    "puzzle_input = load_puzzle_input(day)\n",
    "\n",
    "print(puzzle_input[:3])"
   ]
  },
  {
   "cell_type": "markdown",
   "metadata": {},
   "source": [
    "### Part 1"
   ]
  },
  {
   "cell_type": "code",
   "execution_count": 4,
   "metadata": {},
   "outputs": [],
   "source": [
    "# code for preparing and testing examples for part 1\n",
    "\n",
    "example_input_1 = load_example_input(day, 1)\n",
    "example_output_1 = 13"
   ]
  },
  {
   "cell_type": "code",
   "execution_count": null,
   "metadata": {},
   "outputs": [],
   "source": []
  },
  {
   "cell_type": "code",
   "execution_count": 8,
   "metadata": {},
   "outputs": [],
   "source": [
    "def parse_card_info(card_info):\n",
    "    numbers_you_have, winning_numbers = card_info.split('|')\n",
    "    numbers_you_have = [int(x) for x in numbers_you_have.split()]\n",
    "    winning_numbers = [int(x) for x in winning_numbers.split()]\n",
    "    return numbers_you_have, winning_numbers\n",
    "\n",
    "def parse_card(card_str):\n",
    "    \n",
    "    # first get the card id\n",
    "    game_id, set_info = card_str.split(':')\n",
    "    game_id = int(game_id[5:])\n",
    "    \n",
    "    # process each set\n",
    "    numbers_you_have, winning_numbers = parse_card_info(set_info)\n",
    "    \n",
    "    return game_id, numbers_you_have, winning_numbers\n",
    "\n",
    "def calculate_score(numbers_you_have, winning_numbers):\n",
    "    overlap = len(set(numbers_you_have).intersection(set(winning_numbers)))\n",
    "    return 0 if not overlap else 2**(overlap-1)\n",
    "\n",
    "def part_1_solution(puzzle_input):\n",
    "    cards = [parse_card(x) for x in puzzle_input]\n",
    "    scores = [calculate_score(numbers_you_have, winning_numbers) for _, numbers_you_have, winning_numbers in cards]\n",
    "    return sum(scores)"
   ]
  },
  {
   "cell_type": "code",
   "execution_count": 9,
   "metadata": {},
   "outputs": [
    {
     "data": {
      "text/plain": [
       "13"
      ]
     },
     "execution_count": 9,
     "metadata": {},
     "output_type": "execute_result"
    }
   ],
   "source": [
    "part_1_solution(example_input_1)"
   ]
  },
  {
   "cell_type": "code",
   "execution_count": 10,
   "metadata": {},
   "outputs": [
    {
     "data": {
      "text/plain": [
       "24160"
      ]
     },
     "execution_count": 10,
     "metadata": {},
     "output_type": "execute_result"
    }
   ],
   "source": [
    "part_1_solution(puzzle_input)"
   ]
  },
  {
   "cell_type": "markdown",
   "metadata": {},
   "source": [
    "### Part 2"
   ]
  },
  {
   "cell_type": "code",
   "execution_count": 11,
   "metadata": {},
   "outputs": [],
   "source": [
    "example_input_2 = load_example_input(day, 1)\n",
    "example_output_2 = 30"
   ]
  },
  {
   "cell_type": "code",
   "execution_count": 13,
   "metadata": {},
   "outputs": [],
   "source": [
    "def calculate_score(numbers_you_have, winning_numbers):\n",
    "    return len(set(numbers_you_have).intersection(set(winning_numbers)))\n",
    "\n",
    "def part_2_solution(puzzle_input):\n",
    "    card_counter_dict = {x: 1 for x in range(1, len(puzzle_input)+1)}\n",
    "    \n",
    "    for card_str in puzzle_input:\n",
    "        game_id, numbers_you_have, winning_numbers = parse_card(card_str)\n",
    "        cards_to_add = calculate_score(numbers_you_have, winning_numbers)\n",
    "        copies_to_add = card_counter_dict[game_id]\n",
    "        for card_to_add in range(game_id+1, game_id+cards_to_add+1):\n",
    "            if card_to_add in card_counter_dict:\n",
    "                card_counter_dict[card_to_add] += copies_to_add\n",
    "        \n",
    "    return sum(card_counter_dict.values())"
   ]
  },
  {
   "cell_type": "code",
   "execution_count": 14,
   "metadata": {},
   "outputs": [
    {
     "data": {
      "text/plain": [
       "30"
      ]
     },
     "execution_count": 14,
     "metadata": {},
     "output_type": "execute_result"
    }
   ],
   "source": [
    "part_2_solution(example_input_2)"
   ]
  },
  {
   "cell_type": "code",
   "execution_count": 15,
   "metadata": {},
   "outputs": [
    {
     "data": {
      "text/plain": [
       "5659035"
      ]
     },
     "execution_count": 15,
     "metadata": {},
     "output_type": "execute_result"
    }
   ],
   "source": [
    "part_2_solution(puzzle_input)"
   ]
  }
 ],
 "metadata": {
  "kernelspec": {
   "display_name": "Python 3.10.6 64-bit",
   "language": "python",
   "name": "python3"
  },
  "language_info": {
   "codemirror_mode": {
    "name": "ipython",
    "version": 3
   },
   "file_extension": ".py",
   "mimetype": "text/x-python",
   "name": "python",
   "nbconvert_exporter": "python",
   "pygments_lexer": "ipython3",
   "version": "3.9.1"
  },
  "orig_nbformat": 4,
  "vscode": {
   "interpreter": {
    "hash": "31f2aee4e71d21fbe5cf8b01ff0e069b9275f58929596ceb00d14d90e3e16cd6"
   }
  }
 },
 "nbformat": 4,
 "nbformat_minor": 2
}
