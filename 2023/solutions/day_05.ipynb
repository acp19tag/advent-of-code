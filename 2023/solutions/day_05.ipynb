{
 "cells": [
  {
   "cell_type": "code",
   "execution_count": 1,
   "metadata": {},
   "outputs": [],
   "source": [
    "# import useful libraries\n",
    "\n",
    "import numpy as np\n",
    "import itertools\n",
    "from collections import Counter\n",
    "from utils import *\n",
    "import re"
   ]
  },
  {
   "cell_type": "code",
   "execution_count": 2,
   "metadata": {},
   "outputs": [],
   "source": [
    "# which day is it? \n",
    "\n",
    "day = 5"
   ]
  },
  {
   "cell_type": "code",
   "execution_count": 3,
   "metadata": {},
   "outputs": [
    {
     "name": "stdout",
     "output_type": "stream",
     "text": [
      "['seeds: 2276375722 160148132 3424292843 82110297 1692203766 342813967 3289792522 103516087 2590548294 590357761 1365412380 80084180 3574751516 584781136 4207087048 36194356 1515742281 174009980 6434225 291842774', '', 'seed-to-soil map:']\n"
     ]
    }
   ],
   "source": [
    "# load puzzle input\n",
    "    \n",
    "puzzle_input = load_puzzle_input(day)\n",
    "\n",
    "print(puzzle_input[:3])"
   ]
  },
  {
   "cell_type": "markdown",
   "metadata": {},
   "source": [
    "### Part 1"
   ]
  },
  {
   "cell_type": "code",
   "execution_count": 4,
   "metadata": {},
   "outputs": [],
   "source": [
    "# code for preparing and testing examples for part 1\n",
    "\n",
    "example_input = load_example_input(day, 1)\n",
    "example_output = 35"
   ]
  },
  {
   "cell_type": "code",
   "execution_count": 5,
   "metadata": {},
   "outputs": [
    {
     "data": {
      "text/plain": [
       "'79 14 55 13'"
      ]
     },
     "execution_count": 5,
     "metadata": {},
     "output_type": "execute_result"
    }
   ],
   "source": [
    "example_input[0][7:]"
   ]
  },
  {
   "cell_type": "code",
   "execution_count": 6,
   "metadata": {},
   "outputs": [
    {
     "data": {
      "text/plain": [
       "False"
      ]
     },
     "execution_count": 6,
     "metadata": {},
     "output_type": "execute_result"
    }
   ],
   "source": [
    "bool(example_input[5])"
   ]
  },
  {
   "cell_type": "code",
   "execution_count": 7,
   "metadata": {},
   "outputs": [],
   "source": [
    "# solution here\n",
    "\n",
    "def parse_puzzle_input(puzzle_input):\n",
    "    \n",
    "    map_dict = {}\n",
    "    capture = False\n",
    "    captured_map_line = []\n",
    "    from_to_tuple = None\n",
    "    \n",
    "    for line in puzzle_input:\n",
    "    \n",
    "        # seeds first\n",
    "        if 'seeds' in line:\n",
    "            seeds = [int(x) for x in line[7:].split()]\n",
    "    \n",
    "        elif 'map' in line and not capture:\n",
    "            capture = True\n",
    "            from_to_tuple = re.match(r\"(\\w+)-to-(\\w+)\", line).groups()\n",
    "\n",
    "        elif line and capture:\n",
    "            captured_map_line.append([int(x) for x in line.split()])\n",
    "\n",
    "        elif not line and capture:\n",
    "            \n",
    "            map_dict[from_to_tuple] = captured_map_line\n",
    "            capture = False\n",
    "            captured_map_line = []\n",
    "            from_to_tuple = None\n",
    "            \n",
    "    # one last time for the last one\n",
    "    if capture:\n",
    "        map_dict[from_to_tuple] = captured_map_line\n",
    "        \n",
    "    return seeds, map_dict\n",
    "\n",
    "def lookup_mapping(value_for_lookup, from_key, to_key, map_dict):\n",
    "    \n",
    "    return next(\n",
    "        (\n",
    "            destination_range_start + value_for_lookup - source_range_start\n",
    "            for destination_range_start, source_range_start, range_length in map_dict[\n",
    "                (from_key, to_key)\n",
    "            ]\n",
    "            if value_for_lookup\n",
    "            in range(source_range_start, source_range_start + range_length)\n",
    "        ),\n",
    "        value_for_lookup,\n",
    "    )\n",
    "    \n",
    "def lookup_seed_location(seed_value, map_dict):\n",
    "    \n",
    "    lookup_value = seed_value\n",
    "    \n",
    "    for from_key, to_key in [\n",
    "        ('seed', 'soil'),\n",
    "        ('soil', 'fertilizer'),\n",
    "        ('fertilizer', 'water'),\n",
    "        ('water', 'light'),\n",
    "        ('light', 'temperature'),\n",
    "        ('temperature', 'humidity'),\n",
    "        ('humidity', 'location')\n",
    "    ]:\n",
    "        lookup_value = lookup_mapping(lookup_value, from_key, to_key, map_dict)\n",
    "    \n",
    "    return lookup_value\n",
    "\n",
    "\n",
    "\n",
    "def part_1_solution(puzzle_input):\n",
    "    \n",
    "    seeds, map_dict = parse_puzzle_input(puzzle_input)\n",
    "    locations = [lookup_seed_location(seed, map_dict) for seed in seeds]\n",
    "    return min(locations)"
   ]
  },
  {
   "cell_type": "code",
   "execution_count": 8,
   "metadata": {},
   "outputs": [
    {
     "data": {
      "text/plain": [
       "35"
      ]
     },
     "execution_count": 8,
     "metadata": {},
     "output_type": "execute_result"
    }
   ],
   "source": [
    "part_1_solution(example_input)"
   ]
  },
  {
   "cell_type": "code",
   "execution_count": 9,
   "metadata": {},
   "outputs": [
    {
     "data": {
      "text/plain": [
       "484023871"
      ]
     },
     "execution_count": 9,
     "metadata": {},
     "output_type": "execute_result"
    }
   ],
   "source": [
    "part_1_solution(puzzle_input)"
   ]
  },
  {
   "cell_type": "markdown",
   "metadata": {},
   "source": [
    "### Part 2"
   ]
  },
  {
   "cell_type": "code",
   "execution_count": 10,
   "metadata": {},
   "outputs": [],
   "source": [
    "example_output_2 = 46"
   ]
  },
  {
   "cell_type": "code",
   "execution_count": 11,
   "metadata": {},
   "outputs": [
    {
     "name": "stdout",
     "output_type": "stream",
     "text": [
      "1:2\n",
      "3:4\n",
      "5:6\n"
     ]
    }
   ],
   "source": [
    "data = [1,2,3,4,5,6]\n",
    "for i,k in zip(data[0::2], data[1::2]):\n",
    "    print(f'{i}:{k}')\n"
   ]
  },
  {
   "cell_type": "code",
   "execution_count": 12,
   "metadata": {},
   "outputs": [],
   "source": [
    "def parse_seed_info(seed_info):\n",
    "    \n",
    "    seeds = []\n",
    "\n",
    "    for start, length in zip(seed_info[::2], seed_info[1::2]):\n",
    "\n",
    "        seeds.extend(range(start, start + length))\n",
    "\n",
    "    return seeds\n",
    "                    \n",
    "    \n",
    "\n",
    "def part_2_solution(puzzle_input):\n",
    "    \n",
    "    seed_info, map_dict = parse_puzzle_input(puzzle_input)\n",
    "    \n",
    "    seeds = parse_seed_info(seed_info)\n",
    "    \n",
    "    min_value = None\n",
    "    \n",
    "    for seed in seeds:\n",
    "        \n",
    "        if not min_value:\n",
    "            \n",
    "            min_value = lookup_seed_location(seed, map_dict)\n",
    "            \n",
    "        else:\n",
    "            \n",
    "            min_value = min(min_value, lookup_seed_location(seed, map_dict))\n",
    "            \n",
    "    return min_value"
   ]
  },
  {
   "cell_type": "code",
   "execution_count": 13,
   "metadata": {},
   "outputs": [
    {
     "data": {
      "text/plain": [
       "46"
      ]
     },
     "execution_count": 13,
     "metadata": {},
     "output_type": "execute_result"
    }
   ],
   "source": [
    "part_2_solution(example_input)"
   ]
  }
 ],
 "metadata": {
  "kernelspec": {
   "display_name": "Python 3.10.6 64-bit",
   "language": "python",
   "name": "python3"
  },
  "language_info": {
   "codemirror_mode": {
    "name": "ipython",
    "version": 3
   },
   "file_extension": ".py",
   "mimetype": "text/x-python",
   "name": "python",
   "nbconvert_exporter": "python",
   "pygments_lexer": "ipython3",
   "version": "3.9.1"
  },
  "orig_nbformat": 4,
  "vscode": {
   "interpreter": {
    "hash": "31f2aee4e71d21fbe5cf8b01ff0e069b9275f58929596ceb00d14d90e3e16cd6"
   }
  }
 },
 "nbformat": 4,
 "nbformat_minor": 2
}
