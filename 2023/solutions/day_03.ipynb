{
 "cells": [
  {
   "cell_type": "code",
   "execution_count": 1,
   "metadata": {},
   "outputs": [],
   "source": [
    "# import useful libraries\n",
    "\n",
    "import numpy as np\n",
    "import itertools\n",
    "from collections import Counter\n",
    "from utils import *"
   ]
  },
  {
   "cell_type": "code",
   "execution_count": 2,
   "metadata": {},
   "outputs": [],
   "source": [
    "# which day is it? \n",
    "\n",
    "day = 3"
   ]
  },
  {
   "cell_type": "code",
   "execution_count": 3,
   "metadata": {},
   "outputs": [
    {
     "name": "stdout",
     "output_type": "stream",
     "text": [
      "['....411...............838......721.....44..............................................607..................................................', '...&......519..................*..........#.97.........994..............404..............*...&43........440...882.......673.505.............', '.....*......*...892.........971...%....131....*..........*.......515...$.......157.....412.............-.....*.............*............594.']\n"
     ]
    }
   ],
   "source": [
    "# load puzzle input\n",
    "    \n",
    "puzzle_input = load_puzzle_input(day)\n",
    "\n",
    "print(puzzle_input[:3])"
   ]
  },
  {
   "cell_type": "markdown",
   "metadata": {},
   "source": [
    "### Part 1"
   ]
  },
  {
   "cell_type": "code",
   "execution_count": 5,
   "metadata": {},
   "outputs": [],
   "source": [
    "# code for preparing and testing examples for part 1\n",
    "\n",
    "example_input_1 = load_example_input(day, 1)\n",
    "example_output_1 = 4361"
   ]
  },
  {
   "cell_type": "code",
   "execution_count": 26,
   "metadata": {},
   "outputs": [],
   "source": [
    "def find_symbol_coordinates(puzzle_input):\n",
    "    non_symbols = [str(x) for x in range(10)] + ['.']\n",
    "    symbol_coordinates = set()\n",
    "    for row_id, row in enumerate(puzzle_input):\n",
    "        for column_id, str_value in enumerate(row):\n",
    "            if str_value not in non_symbols:\n",
    "                symbol_coordinates.add((row_id, column_id))\n",
    "    return symbol_coordinates\n",
    "\n",
    "def find_valid_part_coordinates(symbol_coordinates):\n",
    "    valid_part_coordinates = set()\n",
    "    for row_id, column_id in symbol_coordinates:\n",
    "        for x_delta in [-1, 0, 1]:\n",
    "            for y_delta in [-1, 0, 1]:\n",
    "                valid_part_coordinates.add((row_id + x_delta, column_id + y_delta))\n",
    "    return valid_part_coordinates\n",
    "\n",
    "def find_part_numbers(puzzle_input):\n",
    "    part_numbers = []\n",
    "    valid_part_coordinates = find_valid_part_coordinates(find_symbol_coordinates(puzzle_input))\n",
    "    for row_id, row in enumerate(puzzle_input):\n",
    "        str_int_capture = False\n",
    "        str_int_value = ''\n",
    "        start_column_id = 0\n",
    "        for column_id, str_value in enumerate(row):\n",
    "            if str_value in [str(x) for x in range(10)] and not str_int_capture:\n",
    "                str_int_capture = True\n",
    "                str_int_value = str_value\n",
    "                start_column_id = column_id\n",
    "            elif str_value in [str(x) for x in range(10)]:\n",
    "                str_int_value += str_value\n",
    "            elif str_int_capture:\n",
    "                coords_to_check = {\n",
    "                    (row_id, column_id)\n",
    "                    for column_id in range(start_column_id, column_id)\n",
    "                }\n",
    "                if coords_to_check.intersection(valid_part_coordinates):\n",
    "                    part_numbers.append(int(str_int_value))\n",
    "                str_int_capture = False\n",
    "                str_int_value = ''\n",
    "        # one more time for the last element of the row\n",
    "        if str_int_capture:\n",
    "            coords_to_check = {\n",
    "                (row_id, column_id)\n",
    "                for column_id in range(start_column_id, column_id)\n",
    "            }\n",
    "            if coords_to_check.intersection(valid_part_coordinates):\n",
    "                part_numbers.append(int(str_int_value))\n",
    "    return part_numbers\n",
    "\n",
    "def part_1_solution(puzzle_input):\n",
    "    part_numbers = find_part_numbers(puzzle_input)\n",
    "    return sum(part_numbers)\n",
    "                "
   ]
  },
  {
   "cell_type": "code",
   "execution_count": 27,
   "metadata": {},
   "outputs": [
    {
     "data": {
      "text/plain": [
       "4361"
      ]
     },
     "execution_count": 27,
     "metadata": {},
     "output_type": "execute_result"
    }
   ],
   "source": [
    "part_1_solution(example_input_1)"
   ]
  },
  {
   "cell_type": "code",
   "execution_count": 29,
   "metadata": {},
   "outputs": [
    {
     "data": {
      "text/plain": [
       "527446"
      ]
     },
     "execution_count": 29,
     "metadata": {},
     "output_type": "execute_result"
    }
   ],
   "source": [
    "part_1_solution(puzzle_input)"
   ]
  },
  {
   "cell_type": "markdown",
   "metadata": {},
   "source": [
    "### Part 2"
   ]
  },
  {
   "cell_type": "code",
   "execution_count": 30,
   "metadata": {},
   "outputs": [],
   "source": [
    "example_input_2 = load_example_input(day, 1)\n",
    "example_output_2 = 467835"
   ]
  },
  {
   "cell_type": "code",
   "execution_count": 55,
   "metadata": {},
   "outputs": [],
   "source": [
    "# solution here\n",
    "\n",
    "def find_all_part_coords(puzzle_input):\n",
    "    \"\"\"\n",
    "    {\n",
    "        key: row number\n",
    "        value: {\n",
    "            key: (column start, column end)\n",
    "            value: int part value\n",
    "        }\n",
    "    }\n",
    "    \"\"\"\n",
    "    part_coords = {}\n",
    "    for row_id, row in enumerate(puzzle_input):\n",
    "        str_int_capture = False\n",
    "        str_int_value = ''\n",
    "        start_column_id = 0\n",
    "        for column_id, str_value in enumerate(row):\n",
    "            if str_value in [str(x) for x in range(10)] and not str_int_capture:\n",
    "                str_int_capture = True\n",
    "                str_int_value = str_value\n",
    "                start_column_id = column_id\n",
    "            elif str_value in [str(x) for x in range(10)]:\n",
    "                str_int_value += str_value\n",
    "            elif str_int_capture:\n",
    "                part_coords.setdefault(row_id, {})\n",
    "                part_coords[row_id][(start_column_id, column_id - 1)] = int(str_int_value)\n",
    "                str_int_capture = False\n",
    "                str_int_value = ''\n",
    "        # one more time for the last element of the row\n",
    "        if str_int_capture:\n",
    "            part_coords.setdefault(row_id, {})\n",
    "            part_coords[row_id][(start_column_id, column_id)] = int(str_int_value)\n",
    "    return part_coords\n",
    "\n",
    "def find_all_gear_coords(puzzle_input):\n",
    "    gear_coords = []\n",
    "    for row_id, row in enumerate(puzzle_input):\n",
    "        gear_coords.extend(\n",
    "            (row_id, column_id)\n",
    "            for column_id, str_value in enumerate(row)\n",
    "            if str_value == '*'\n",
    "        )\n",
    "    return gear_coords\n",
    "\n",
    "def check_if_coord_is_adjacent(start_stop_tuple, single_value):\n",
    "    \"\"\"\n",
    "    Checks whether a single value (+/- 1) is adjacent to any value between start and stop\n",
    "    \"\"\"\n",
    "    return any(\n",
    "        abs(moving_value - single_value) <= 1\n",
    "        for moving_value in range(start_stop_tuple[0], start_stop_tuple[1] + 1)\n",
    "    )\n",
    "    \n",
    "\n",
    "def find_gear_ratio(gear_coords, part_coords):\n",
    "    adjacent_part_values = []\n",
    "    row_gear, column_gear = gear_coords\n",
    "    for row_delta in [-1, 0, 1]:\n",
    "        if row_gear + row_delta in part_coords:\n",
    "            adjacent_part_values.extend(\n",
    "                part_coords[row_gear + row_delta][part_column_start_stop_tuple]\n",
    "                for part_column_start_stop_tuple in part_coords[\n",
    "                    row_gear + row_delta\n",
    "                ]\n",
    "                if check_if_coord_is_adjacent(\n",
    "                    part_column_start_stop_tuple, column_gear\n",
    "                )\n",
    "            )\n",
    "    if len(adjacent_part_values) == 2:\n",
    "        return adjacent_part_values[0] * adjacent_part_values[1]\n",
    "    return 0\n",
    "\n",
    "def part_2_solution(puzzle_input):\n",
    "    part_coords = find_all_part_coords(puzzle_input)\n",
    "    gear_coords = find_all_gear_coords(puzzle_input)\n",
    "    return sum(find_gear_ratio(gear_coord, part_coords) for gear_coord in gear_coords)"
   ]
  },
  {
   "cell_type": "code",
   "execution_count": 50,
   "metadata": {},
   "outputs": [
    {
     "data": {
      "text/plain": [
       "[(1, 3), (4, 3), (8, 5)]"
      ]
     },
     "execution_count": 50,
     "metadata": {},
     "output_type": "execute_result"
    }
   ],
   "source": [
    "find_all_gear_coords(example_input_2)"
   ]
  },
  {
   "cell_type": "code",
   "execution_count": 51,
   "metadata": {},
   "outputs": [
    {
     "data": {
      "text/plain": [
       "{0: {(0, 2): 467, (5, 7): 114},\n",
       " 2: {(2, 3): 35, (6, 8): 633},\n",
       " 4: {(0, 2): 617},\n",
       " 5: {(7, 8): 58},\n",
       " 6: {(2, 4): 592},\n",
       " 7: {(6, 8): 755},\n",
       " 9: {(1, 3): 664, (5, 7): 598}}"
      ]
     },
     "execution_count": 51,
     "metadata": {},
     "output_type": "execute_result"
    }
   ],
   "source": [
    "find_all_part_coords(example_input_2)"
   ]
  },
  {
   "cell_type": "code",
   "execution_count": 52,
   "metadata": {},
   "outputs": [
    {
     "name": "stdout",
     "output_type": "stream",
     "text": [
      "(1, 3)\n",
      "[467, 35]\n",
      "16345\n",
      "\n",
      "(4, 3)\n",
      "[617]\n",
      "0\n",
      "\n",
      "(8, 5)\n",
      "[755, 598]\n",
      "451490\n",
      "\n"
     ]
    }
   ],
   "source": [
    "for gear_coords in find_all_gear_coords(example_input_2):\n",
    "    print(gear_coords)\n",
    "    print(find_gear_ratio(gear_coords, find_all_part_coords(example_input_2)))\n",
    "    print()"
   ]
  },
  {
   "cell_type": "code",
   "execution_count": 56,
   "metadata": {},
   "outputs": [
    {
     "data": {
      "text/plain": [
       "467835"
      ]
     },
     "execution_count": 56,
     "metadata": {},
     "output_type": "execute_result"
    }
   ],
   "source": [
    "part_2_solution(example_input_2)"
   ]
  },
  {
   "cell_type": "code",
   "execution_count": 57,
   "metadata": {},
   "outputs": [
    {
     "data": {
      "text/plain": [
       "73201705"
      ]
     },
     "execution_count": 57,
     "metadata": {},
     "output_type": "execute_result"
    }
   ],
   "source": [
    "part_2_solution(puzzle_input)"
   ]
  }
 ],
 "metadata": {
  "kernelspec": {
   "display_name": "Python 3.10.6 64-bit",
   "language": "python",
   "name": "python3"
  },
  "language_info": {
   "codemirror_mode": {
    "name": "ipython",
    "version": 3
   },
   "file_extension": ".py",
   "mimetype": "text/x-python",
   "name": "python",
   "nbconvert_exporter": "python",
   "pygments_lexer": "ipython3",
   "version": "3.9.1"
  },
  "orig_nbformat": 4,
  "vscode": {
   "interpreter": {
    "hash": "31f2aee4e71d21fbe5cf8b01ff0e069b9275f58929596ceb00d14d90e3e16cd6"
   }
  }
 },
 "nbformat": 4,
 "nbformat_minor": 2
}
