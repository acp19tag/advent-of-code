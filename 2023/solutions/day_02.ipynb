{
 "cells": [
  {
   "cell_type": "code",
   "execution_count": 15,
   "metadata": {},
   "outputs": [],
   "source": [
    "# import useful libraries\n",
    "\n",
    "import numpy as np\n",
    "import itertools\n",
    "from collections import Counter\n",
    "from utils import *\n",
    "import re"
   ]
  },
  {
   "cell_type": "code",
   "execution_count": 2,
   "metadata": {},
   "outputs": [],
   "source": [
    "# which day is it? \n",
    "\n",
    "day = 2"
   ]
  },
  {
   "cell_type": "code",
   "execution_count": 3,
   "metadata": {},
   "outputs": [
    {
     "name": "stdout",
     "output_type": "stream",
     "text": [
      "['Game 1: 3 blue, 2 green, 6 red; 17 green, 4 red, 8 blue; 2 red, 1 green, 10 blue; 1 blue, 5 green', 'Game 2: 9 red, 2 green; 5 red, 1 blue, 6 green; 3 green, 13 red, 1 blue; 3 red, 6 green; 1 blue, 14 red, 6 green', 'Game 3: 6 red, 3 blue, 8 green; 6 blue, 12 green, 15 red; 3 blue, 18 green, 4 red']\n"
     ]
    }
   ],
   "source": [
    "# load puzzle input\n",
    "    \n",
    "puzzle_input = load_puzzle_input(day)\n",
    "\n",
    "print(puzzle_input[:3])"
   ]
  },
  {
   "cell_type": "markdown",
   "metadata": {},
   "source": [
    "### Part 1"
   ]
  },
  {
   "cell_type": "code",
   "execution_count": 6,
   "metadata": {},
   "outputs": [],
   "source": [
    "# code for preparing and testing examples for part 1\n",
    "\n",
    "# example_dict_part_1 = {\n",
    "#     load_example_input(day, 1): 8\n",
    "# }\n",
    "\n",
    "example_input = load_example_input(day, 1)\n",
    "example_output = 8"
   ]
  },
  {
   "cell_type": "code",
   "execution_count": 21,
   "metadata": {},
   "outputs": [
    {
     "name": "stdout",
     "output_type": "stream",
     "text": [
      " 1 red, 2 green, 6 blue\n",
      "blue\n",
      "6\n"
     ]
    }
   ],
   "source": [
    "# find the digit in front of the string 'red' in a larger string\n",
    "\n",
    "colour = 'blue'\n",
    "\n",
    "larger_string = example_input[0].split(':')[1].split(';')[1]\n",
    "digit = re.search(rf'\\d+(?=\\s{colour})', larger_string).group()\n",
    "print(larger_string)\n",
    "print(colour)\n",
    "print(digit)\n",
    "\n",
    "\n",
    "# (example_input[0].split(':')[1].split(';')[1])"
   ]
  },
  {
   "cell_type": "code",
   "execution_count": 25,
   "metadata": {},
   "outputs": [],
   "source": [
    "def parse_set(set_str):\n",
    "    return {\n",
    "        i: {\n",
    "            colour: 0\n",
    "            if colour not in set\n",
    "            else int(re.search(rf'\\d+(?=\\s{colour})', set).group())\n",
    "            for colour in ['red', 'green', 'blue']\n",
    "        }\n",
    "        for i, set in enumerate(set_str.split(';'))\n",
    "    }"
   ]
  },
  {
   "cell_type": "code",
   "execution_count": 27,
   "metadata": {},
   "outputs": [
    {
     "data": {
      "text/plain": [
       "{0: {'red': 4, 'green': 0, 'blue': 3},\n",
       " 1: {'red': 1, 'green': 2, 'blue': 6},\n",
       " 2: {'red': 0, 'green': 2, 'blue': 0}}"
      ]
     },
     "execution_count": 27,
     "metadata": {},
     "output_type": "execute_result"
    }
   ],
   "source": [
    "parse_set(example_input[0].split(':')[1])"
   ]
  },
  {
   "cell_type": "code",
   "execution_count": 28,
   "metadata": {},
   "outputs": [],
   "source": [
    "def parse_game(game_str):\n",
    "    \n",
    "    # first get the game id\n",
    "    game_id, set_info = game_str.split(':')\n",
    "    game_id = int(game_id[5:])\n",
    "    \n",
    "    # process each set\n",
    "    set_dict = parse_set(set_info)\n",
    "    \n",
    "    return game_id, set_dict"
   ]
  },
  {
   "cell_type": "code",
   "execution_count": 30,
   "metadata": {},
   "outputs": [],
   "source": [
    "game_limits = {'red': 12, 'green': 13, 'blue': 14}\n",
    "\n",
    "def check_if_valid_game(game_str, game_limits):\n",
    "    \n",
    "    game_id, set_dict = parse_game(game_str)\n",
    "    \n",
    "    for _, set in set_dict.items():\n",
    "        for colour, limit in game_limits.items():\n",
    "            if set[colour] > limit:\n",
    "                return 0\n",
    "    return int(game_id)"
   ]
  },
  {
   "cell_type": "code",
   "execution_count": 32,
   "metadata": {},
   "outputs": [],
   "source": [
    "def part_1_solution(puzzle_input, game_limits):\n",
    "    return sum(\n",
    "        check_if_valid_game(game_str, game_limits) for game_str in puzzle_input\n",
    "    )"
   ]
  },
  {
   "cell_type": "code",
   "execution_count": 34,
   "metadata": {},
   "outputs": [
    {
     "data": {
      "text/plain": [
       "8"
      ]
     },
     "execution_count": 34,
     "metadata": {},
     "output_type": "execute_result"
    }
   ],
   "source": [
    "part_1_solution(example_input, game_limits)"
   ]
  },
  {
   "cell_type": "code",
   "execution_count": 33,
   "metadata": {},
   "outputs": [
    {
     "data": {
      "text/plain": [
       "2727"
      ]
     },
     "execution_count": 33,
     "metadata": {},
     "output_type": "execute_result"
    }
   ],
   "source": [
    "part_1_solution(puzzle_input, game_limits)"
   ]
  },
  {
   "cell_type": "markdown",
   "metadata": {},
   "source": [
    "### Part 2"
   ]
  },
  {
   "cell_type": "code",
   "execution_count": 35,
   "metadata": {},
   "outputs": [],
   "source": [
    "# code for preparing and testing examples for part 2\n",
    "\n",
    "example_output_2 = 2286"
   ]
  },
  {
   "cell_type": "code",
   "execution_count": 40,
   "metadata": {},
   "outputs": [],
   "source": [
    "def get_minimum_requirements(game_str):\n",
    "    \n",
    "    min_requirements = {\n",
    "        colour: 0\n",
    "        for colour in ['red', 'green', 'blue']\n",
    "    }\n",
    "    \n",
    "    _, set_dict = parse_game(game_str)\n",
    "    \n",
    "    for _, set in set_dict.items():\n",
    "        for colour in set:\n",
    "            if set[colour] > min_requirements[colour]:\n",
    "                min_requirements[colour] = set[colour]\n",
    "                \n",
    "    return min_requirements['red'] * min_requirements['green'] * min_requirements['blue']"
   ]
  },
  {
   "cell_type": "code",
   "execution_count": 41,
   "metadata": {},
   "outputs": [],
   "source": [
    "# solution here\n",
    "\n",
    "def part_2_solution(example_input):\n",
    "    return sum(\n",
    "        get_minimum_requirements(game_str) for game_str in example_input\n",
    "    )"
   ]
  },
  {
   "cell_type": "code",
   "execution_count": 42,
   "metadata": {},
   "outputs": [
    {
     "data": {
      "text/plain": [
       "2286"
      ]
     },
     "execution_count": 42,
     "metadata": {},
     "output_type": "execute_result"
    }
   ],
   "source": [
    "part_2_solution(example_input)"
   ]
  },
  {
   "cell_type": "code",
   "execution_count": 43,
   "metadata": {},
   "outputs": [
    {
     "data": {
      "text/plain": [
       "56580"
      ]
     },
     "execution_count": 43,
     "metadata": {},
     "output_type": "execute_result"
    }
   ],
   "source": [
    "part_2_solution(puzzle_input)"
   ]
  }
 ],
 "metadata": {
  "kernelspec": {
   "display_name": "Python 3.10.6 64-bit",
   "language": "python",
   "name": "python3"
  },
  "language_info": {
   "codemirror_mode": {
    "name": "ipython",
    "version": 3
   },
   "file_extension": ".py",
   "mimetype": "text/x-python",
   "name": "python",
   "nbconvert_exporter": "python",
   "pygments_lexer": "ipython3",
   "version": "3.9.1"
  },
  "orig_nbformat": 4,
  "vscode": {
   "interpreter": {
    "hash": "31f2aee4e71d21fbe5cf8b01ff0e069b9275f58929596ceb00d14d90e3e16cd6"
   }
  }
 },
 "nbformat": 4,
 "nbformat_minor": 2
}
