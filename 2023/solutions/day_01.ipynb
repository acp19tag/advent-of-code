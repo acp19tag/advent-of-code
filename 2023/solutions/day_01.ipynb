{
 "cells": [
  {
   "cell_type": "code",
   "execution_count": 1,
   "metadata": {},
   "outputs": [],
   "source": [
    "# import useful libraries\n",
    "\n",
    "import numpy as np\n",
    "import itertools\n",
    "from collections import Counter\n",
    "from utils import *"
   ]
  },
  {
   "cell_type": "code",
   "execution_count": 2,
   "metadata": {},
   "outputs": [],
   "source": [
    "# which day is it? \n",
    "\n",
    "day = 1"
   ]
  },
  {
   "cell_type": "code",
   "execution_count": 3,
   "metadata": {},
   "outputs": [
    {
     "name": "stdout",
     "output_type": "stream",
     "text": [
      "['four9one', 'bbzhsmnmtf8kftwosevenxfkssgrcjthree', '6pkkcddsixsixjgnjvdtjtwo']\n"
     ]
    }
   ],
   "source": [
    "# load puzzle input\n",
    "    \n",
    "puzzle_input = load_puzzle_input(day)\n",
    "\n",
    "print(puzzle_input[:3])"
   ]
  },
  {
   "cell_type": "markdown",
   "metadata": {},
   "source": [
    "### Part 1"
   ]
  },
  {
   "cell_type": "code",
   "execution_count": 4,
   "metadata": {},
   "outputs": [],
   "source": [
    "# code for preparing and testing examples for part 1\n",
    "\n",
    "example_dict_part_1 = dict(zip(load_example_input(day, 1), [12, 38, 15, 77]))"
   ]
  },
  {
   "cell_type": "code",
   "execution_count": 5,
   "metadata": {},
   "outputs": [],
   "source": [
    "# solution here\n",
    "\n",
    "numbers = [str(x) for x in range(10)]\n",
    "\n",
    "def find_first_number(input_str):\n",
    "    # try:\n",
    "    #     return int(input_str[0])\n",
    "    # except ValueError:\n",
    "    #     return find_first_number(input_str[1:])\n",
    "    if input_str[0] in numbers:\n",
    "        return int(input_str[0])\n",
    "    return find_first_number(input_str[1:])\n",
    "\n",
    "def find_last_number(input_str):\n",
    "    # try:\n",
    "    #     return int(input_str[-1])\n",
    "    # except ValueError:\n",
    "    #     return find_last_number(input_str[:-1])\n",
    "    if input_str[-1] in numbers:\n",
    "        return int(input_str[-1])\n",
    "    return find_last_number(input_str[:-1])\n",
    "\n",
    "def multiply_first_last_numbers(input_str):\n",
    "    return int(str(find_first_number(input_str)) + str(find_last_number(input_str)))\n",
    "\n",
    "def part_1_solution(puzzle_input):\n",
    "    calibration_values = [multiply_first_last_numbers(line) for line in puzzle_input]\n",
    "    return sum(calibration_values)"
   ]
  },
  {
   "cell_type": "code",
   "execution_count": 6,
   "metadata": {},
   "outputs": [
    {
     "data": {
      "text/plain": [
       "{'1abc2': 12, 'pqr3stu8vwx': 38, 'a1b2c3d4e5f': 15, 'treb7uchet': 77}"
      ]
     },
     "execution_count": 6,
     "metadata": {},
     "output_type": "execute_result"
    }
   ],
   "source": [
    "example_dict_part_1"
   ]
  },
  {
   "cell_type": "code",
   "execution_count": 10,
   "metadata": {},
   "outputs": [
    {
     "name": "stdout",
     "output_type": "stream",
     "text": [
      "Test 0 passed: Input <1abc2> gives output <12>.\n",
      "Test 1 passed: Input <pqr3stu8vwx> gives output <38>.\n",
      "Test 2 passed: Input <a1b2c3d4e5f> gives output <15>.\n",
      "Test 3 passed: Input <treb7uchet> gives output <77>.\n",
      "\n",
      "Congratulations! Looks like you cracked it! Good job!\n"
     ]
    }
   ],
   "source": [
    "test_code(multiply_first_last_numbers, example_dict_part_1)"
   ]
  },
  {
   "cell_type": "code",
   "execution_count": 43,
   "metadata": {},
   "outputs": [
    {
     "data": {
      "text/plain": [
       "142"
      ]
     },
     "execution_count": 43,
     "metadata": {},
     "output_type": "execute_result"
    }
   ],
   "source": [
    "part_1_solution(example_dict_part_1)"
   ]
  },
  {
   "cell_type": "code",
   "execution_count": 44,
   "metadata": {},
   "outputs": [
    {
     "data": {
      "text/plain": [
       "53334"
      ]
     },
     "execution_count": 44,
     "metadata": {},
     "output_type": "execute_result"
    }
   ],
   "source": [
    "part_1_solution(puzzle_input)"
   ]
  },
  {
   "cell_type": "markdown",
   "metadata": {},
   "source": [
    "### Part 2"
   ]
  },
  {
   "cell_type": "code",
   "execution_count": 45,
   "metadata": {},
   "outputs": [],
   "source": [
    "# code for preparing and testing examples for part 2\n",
    "\n",
    "example_dict_part_2 = dict(zip(load_example_input(day, 2), [29, 83, 13, 24, 42, 14, 76]))"
   ]
  },
  {
   "cell_type": "code",
   "execution_count": 65,
   "metadata": {},
   "outputs": [],
   "source": [
    "# solution here\n",
    "\n",
    "# solution here\n",
    "\n",
    "digit_numbers = [str(x) for x in range(10)]\n",
    "word_numbers = dict(zip(['one', 'two', 'three', 'four', 'five', 'six', 'seven', 'eight', 'nine'], [str(x) for x in range(1, 10)]))\n",
    "\n",
    "def find_first_number(input_str):\n",
    "    for index in range(len(input_str)):\n",
    "        if input_str[index] in digit_numbers: \n",
    "            return input_str[index]\n",
    "        for word_number in word_numbers:\n",
    "            if word_number in input_str[:index+1]:\n",
    "                return word_numbers[word_number]\n",
    "\n",
    "\n",
    "\n",
    "def find_last_number(input_str):\n",
    "    for index in range(len(input_str)):\n",
    "        reverse_index = len(input_str) - index - 1\n",
    "        if input_str[reverse_index] in digit_numbers:\n",
    "            return input_str[reverse_index]\n",
    "        for word_number in word_numbers:\n",
    "            if word_number in input_str[reverse_index:]:\n",
    "                return word_numbers[word_number]\n",
    "\n",
    "def multiply_first_last_numbers(input_str):\n",
    "    return int(str(find_first_number(input_str)) + str(find_last_number(input_str)))\n",
    "\n",
    "def part_2_solution(puzzle_input):\n",
    "    calibration_values = [multiply_first_last_numbers(line) for line in puzzle_input]\n",
    "    return sum(calibration_values)"
   ]
  },
  {
   "cell_type": "code",
   "execution_count": 64,
   "metadata": {},
   "outputs": [
    {
     "name": "stdout",
     "output_type": "stream",
     "text": [
      "29\n",
      "83\n",
      "13\n",
      "24\n",
      "42\n",
      "14\n",
      "76\n"
     ]
    }
   ],
   "source": [
    "for input_str in example_dict_part_2:\n",
    "    print(multiply_first_last_numbers(input_str))"
   ]
  },
  {
   "cell_type": "code",
   "execution_count": 66,
   "metadata": {},
   "outputs": [
    {
     "data": {
      "text/plain": [
       "281"
      ]
     },
     "execution_count": 66,
     "metadata": {},
     "output_type": "execute_result"
    }
   ],
   "source": [
    "# test part 2 solution\n",
    "\n",
    "part_2_solution(example_dict_part_2)"
   ]
  },
  {
   "cell_type": "code",
   "execution_count": 68,
   "metadata": {},
   "outputs": [
    {
     "data": {
      "text/plain": [
       "52834"
      ]
     },
     "execution_count": 68,
     "metadata": {},
     "output_type": "execute_result"
    }
   ],
   "source": [
    "part_2_solution(puzzle_input)"
   ]
  }
 ],
 "metadata": {
  "kernelspec": {
   "display_name": "Python 3.10.6 64-bit",
   "language": "python",
   "name": "python3"
  },
  "language_info": {
   "codemirror_mode": {
    "name": "ipython",
    "version": 3
   },
   "file_extension": ".py",
   "mimetype": "text/x-python",
   "name": "python",
   "nbconvert_exporter": "python",
   "pygments_lexer": "ipython3",
   "version": "3.9.1"
  },
  "orig_nbformat": 4,
  "vscode": {
   "interpreter": {
    "hash": "31f2aee4e71d21fbe5cf8b01ff0e069b9275f58929596ceb00d14d90e3e16cd6"
   }
  }
 },
 "nbformat": 4,
 "nbformat_minor": 2
}
