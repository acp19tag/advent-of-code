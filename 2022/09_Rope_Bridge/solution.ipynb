{
 "cells": [
  {
   "cell_type": "code",
   "execution_count": 1,
   "metadata": {},
   "outputs": [],
   "source": [
    "# import useful libraries\n",
    "\n",
    "import numpy as np\n",
    "import itertools\n",
    "from collections import Counter\n",
    "from utils import load_puzzle_input, test_code"
   ]
  },
  {
   "cell_type": "code",
   "execution_count": 2,
   "metadata": {},
   "outputs": [
    {
     "name": "stdout",
     "output_type": "stream",
     "text": [
      "['D 1', 'L 2', 'D 2']\n"
     ]
    }
   ],
   "source": [
    "# load puzzle input\n",
    "    \n",
    "puzzle_input = load_puzzle_input('input.txt')\n",
    "\n",
    "print(puzzle_input[:3])"
   ]
  },
  {
   "cell_type": "markdown",
   "metadata": {},
   "source": [
    "### Part 1"
   ]
  },
  {
   "cell_type": "code",
   "execution_count": 3,
   "metadata": {},
   "outputs": [],
   "source": [
    "# code for preparing and testing examples for part 1\n",
    "\n",
    "example_dict_part_1 = {\n",
    "    tuple(load_puzzle_input('example_1.txt')): 13\n",
    "}"
   ]
  },
  {
   "cell_type": "code",
   "execution_count": 4,
   "metadata": {},
   "outputs": [],
   "source": [
    "def calulate_distance(x_h, y_h, x_t, y_t):\n",
    "    return max(\n",
    "        abs(\n",
    "            x_h - x_t\n",
    "            ), \n",
    "        abs(\n",
    "            y_h - y_t\n",
    "            )\n",
    "    )"
   ]
  },
  {
   "cell_type": "code",
   "execution_count": 30,
   "metadata": {},
   "outputs": [],
   "source": [
    "def determine_T_movement(x_h, y_h, x_t, y_t):\n",
    "\n",
    "    # vertical movement only\n",
    "    if x_h == x_t:\n",
    "        if y_h > y_t:\n",
    "            y_t += 1\n",
    "        else:\n",
    "            y_t -= 1\n",
    "            \n",
    "    # horizontal movement only\n",
    "    elif y_h == y_t:\n",
    "        if x_h > x_t:\n",
    "            x_t += 1\n",
    "        else:\n",
    "            x_t -= 1\n",
    "    \n",
    "    # diagonal movement\n",
    "    else:\n",
    "        if y_h > y_t:\n",
    "            y_t += 1\n",
    "        elif y_h < y_t:\n",
    "            y_t -= 1\n",
    "            \n",
    "        if x_h > x_t:\n",
    "            x_t += 1\n",
    "        elif x_h < x_t:\n",
    "            x_t -= 1\n",
    "\n",
    "    return x_t, y_t"
   ]
  },
  {
   "cell_type": "code",
   "execution_count": 14,
   "metadata": {},
   "outputs": [],
   "source": [
    "def visualise_grid(x_h, y_h, x_t, y_t, shape = (6, 5)):\n",
    "    \"\"\"For debugging only\"\"\"\n",
    "    \n",
    "    grid = np.array(\n",
    "        [['.' for _ in range(shape[0])] for _ in range(shape[1])]\n",
    "    )\n",
    "\n",
    "    grid[shape[1] - 0 - 1][0] = 's'\n",
    "    grid[shape[1] - y_t - 1][x_t] = 'T'\n",
    "    grid[shape[1] - y_h - 1][x_h] = 'H'\n",
    "    for row in grid:\n",
    "        print(' '.join(row))"
   ]
  },
  {
   "cell_type": "code",
   "execution_count": 35,
   "metadata": {},
   "outputs": [],
   "source": [
    "def resolve_instruction(direction_str, n_steps, x_h, y_h, x_t, y_t, visited_set, verbose = False, shape = (6, 5)):\n",
    "    \n",
    "    if verbose:\n",
    "        print(f\"== {direction_str} {n_steps} ==\")\n",
    "        print()\n",
    "\n",
    "    for _ in range(n_steps): \n",
    "\n",
    "        if direction_str == 'U':\n",
    "            y_h += 1\n",
    "        elif direction_str == 'R':\n",
    "            x_h += 1\n",
    "        elif direction_str == 'D':\n",
    "            y_h -= 1\n",
    "        elif direction_str == 'L':\n",
    "            x_h -= 1\n",
    "            \n",
    "        # print(x_h, y_h, x_t, y_t)\n",
    "\n",
    "        if calulate_distance(x_h, y_h, x_t, y_t) > 2:\n",
    "            print('ERROR')\n",
    "            print(x_h, y_h, x_t, y_t)\n",
    "            raise ValueError\n",
    "\n",
    "        if calulate_distance(x_h, y_h, x_t, y_t) > 1:\n",
    "            x_t, y_t = determine_T_movement(x_h, y_h, x_t, y_t)\n",
    "            \n",
    "            visited_set.add((x_t, y_t))\n",
    "\n",
    "        if verbose:\n",
    "            visualise_grid(x_h, y_h, x_t, y_t)\n",
    "            print()\n",
    "\n",
    "    return x_h, y_h, x_t, y_t, visited_set"
   ]
  },
  {
   "cell_type": "code",
   "execution_count": 36,
   "metadata": {},
   "outputs": [],
   "source": [
    "def part_1_solution(puzzle_input, verbose = False):\n",
    "\n",
    "    visited_set = {(0, 0)}\n",
    "    x_h, y_h, x_t, y_t = 0, 0, 0, 0\n",
    "\n",
    "    for instruction_str in puzzle_input:\n",
    "        \n",
    "        # print(instruction_str)\n",
    "\n",
    "        direction_str, n_steps = instruction_str.split()\n",
    "        n_steps = int(n_steps)\n",
    "        \n",
    "        # print(f\"{direction_str} : {n_steps}\")\n",
    "        # print()\n",
    "\n",
    "        x_h, y_h, x_t, y_t, visited_set = resolve_instruction(direction_str, n_steps, x_h, y_h, x_t, y_t, visited_set, verbose = verbose)\n",
    "\n",
    "    return len(visited_set)"
   ]
  },
  {
   "cell_type": "code",
   "execution_count": 37,
   "metadata": {},
   "outputs": [
    {
     "name": "stdout",
     "output_type": "stream",
     "text": [
      "Test 0 passed: Input <('R 4', 'U 4', 'L 3', 'D 1', 'R 4', 'D 1', 'L 5', 'R 2')> gives output <13>.\n",
      "\n",
      "Congratulations! Looks like you cracked it! Good job!\n"
     ]
    }
   ],
   "source": [
    "# test part 1 solution\n",
    "\n",
    "test_code(part_1_solution, example_dict_part_1)"
   ]
  },
  {
   "cell_type": "code",
   "execution_count": 39,
   "metadata": {},
   "outputs": [
    {
     "data": {
      "text/plain": [
       "6745"
      ]
     },
     "execution_count": 39,
     "metadata": {},
     "output_type": "execute_result"
    }
   ],
   "source": [
    "part_1_solution(puzzle_input)"
   ]
  },
  {
   "cell_type": "markdown",
   "metadata": {},
   "source": [
    "### Part 2"
   ]
  },
  {
   "cell_type": "code",
   "execution_count": 45,
   "metadata": {},
   "outputs": [],
   "source": [
    "# code for preparing and testing examples for part 2\n",
    "\n",
    "example_dict_part_2 = {\n",
    "    tuple(load_puzzle_input('example_1.txt')): 1,\n",
    "    tuple(load_puzzle_input('example_2.txt')): 36,\n",
    "}"
   ]
  },
  {
   "cell_type": "code",
   "execution_count": 64,
   "metadata": {},
   "outputs": [],
   "source": [
    "def resolve_instruction_2(direction_str, n_steps, x_h, y_h, mid_knots, x_t, y_t, visited_set, verbose = False, shape = (6, 5)):\n",
    "    \n",
    "    if verbose:\n",
    "        print(f\"== {direction_str} {n_steps} ==\")\n",
    "        print()\n",
    "\n",
    "    for _ in range(n_steps): \n",
    "\n",
    "        if direction_str == 'U':\n",
    "            y_h += 1\n",
    "        elif direction_str == 'R':\n",
    "            x_h += 1\n",
    "        elif direction_str == 'D':\n",
    "            y_h -= 1\n",
    "        elif direction_str == 'L':\n",
    "            x_h -= 1\n",
    "            \n",
    "        # print(x_h, y_h, x_t, y_t)\n",
    "        \n",
    "        x_prev, y_prev = x_h, y_h\n",
    "\n",
    "        for idx, (x_n, y_n) in enumerate(mid_knots):\n",
    "            \n",
    "            if calulate_distance(x_prev, y_prev, x_n, y_n) > 1:\n",
    "                mid_knots[idx] = determine_T_movement(x_prev, y_prev, x_n, y_n)\n",
    "\n",
    "            x_prev, y_prev = mid_knots[idx]\n",
    "            \n",
    "        # print(mid_knots)\n",
    "            \n",
    "        if calulate_distance(x_prev, y_prev, x_t, y_t) > 1:\n",
    "            x_t, y_t = determine_T_movement(x_prev, y_prev, x_t, y_t)\n",
    "                \n",
    "        visited_set.add((x_t, y_t))\n",
    "\n",
    "        # if verbose:\n",
    "        #     visualise_grid(x_h, y_h, x_t, y_t)\n",
    "        #     print()\n",
    "\n",
    "    return x_h, y_h, mid_knots, x_t, y_t, visited_set"
   ]
  },
  {
   "cell_type": "code",
   "execution_count": 68,
   "metadata": {},
   "outputs": [],
   "source": [
    "def part_2_solution(puzzle_input):\n",
    "    \n",
    "    visited_set = {(0, 0)}\n",
    "    x_h, y_h, x_t, y_t = 0, 0, 0, 0\n",
    "    mid_knots = [(0,0) for _ in range(8)]\n",
    "\n",
    "    for instruction_str in puzzle_input:\n",
    "        \n",
    "        # print(instruction_str)\n",
    "\n",
    "        direction_str, n_steps = instruction_str.split()\n",
    "        n_steps = int(n_steps)\n",
    "        \n",
    "        # print(f\"{direction_str} : {n_steps}\")\n",
    "        # print()\n",
    "\n",
    "        x_h, y_h, mid_knots, x_t, y_t, visited_set = resolve_instruction_2(direction_str, n_steps, x_h, y_h, mid_knots, x_t, y_t, visited_set)\n",
    "\n",
    "    return len(visited_set)"
   ]
  },
  {
   "cell_type": "code",
   "execution_count": 69,
   "metadata": {},
   "outputs": [
    {
     "name": "stdout",
     "output_type": "stream",
     "text": [
      "Test 0 passed: Input <('R 4', 'U 4', 'L 3', 'D 1', 'R 4', 'D 1', 'L 5', 'R 2')> gives output <1>.\n",
      "Test 1 passed: Input <('R 5', 'U 8', 'L 8', 'D 3', 'R 17', 'D 10', 'L 25', 'U 20')> gives output <36>.\n",
      "\n",
      "Congratulations! Looks like you cracked it! Good job!\n"
     ]
    }
   ],
   "source": [
    "# test part 2 solution\n",
    "\n",
    "test_code(part_2_solution, example_dict_part_2)"
   ]
  },
  {
   "cell_type": "code",
   "execution_count": 70,
   "metadata": {},
   "outputs": [
    {
     "data": {
      "text/plain": [
       "2793"
      ]
     },
     "execution_count": 70,
     "metadata": {},
     "output_type": "execute_result"
    }
   ],
   "source": [
    "part_2_solution(puzzle_input)"
   ]
  }
 ],
 "metadata": {
  "kernelspec": {
   "display_name": "Python 3.10.6 64-bit",
   "language": "python",
   "name": "python3"
  },
  "language_info": {
   "codemirror_mode": {
    "name": "ipython",
    "version": 3
   },
   "file_extension": ".py",
   "mimetype": "text/x-python",
   "name": "python",
   "nbconvert_exporter": "python",
   "pygments_lexer": "ipython3",
   "version": "3.10.6"
  },
  "orig_nbformat": 4,
  "vscode": {
   "interpreter": {
    "hash": "31f2aee4e71d21fbe5cf8b01ff0e069b9275f58929596ceb00d14d90e3e16cd6"
   }
  }
 },
 "nbformat": 4,
 "nbformat_minor": 2
}
