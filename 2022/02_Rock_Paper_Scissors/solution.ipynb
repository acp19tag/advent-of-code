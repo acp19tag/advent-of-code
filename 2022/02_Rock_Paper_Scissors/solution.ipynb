{
 "cells": [
  {
   "cell_type": "code",
   "execution_count": 1,
   "metadata": {},
   "outputs": [],
   "source": [
    "# import useful libraries\n",
    "\n",
    "import numpy as np\n",
    "import itertools\n",
    "from collections import Counter\n",
    "from utils import load_puzzle_input, test_code"
   ]
  },
  {
   "cell_type": "code",
   "execution_count": 3,
   "metadata": {},
   "outputs": [
    {
     "name": "stdout",
     "output_type": "stream",
     "text": [
      "['C Y', 'C Y', 'B Y']\n"
     ]
    }
   ],
   "source": [
    "# load puzzle input\n",
    "    \n",
    "puzzle_input = load_puzzle_input('input.txt')\n",
    "\n",
    "print(puzzle_input[:3])"
   ]
  },
  {
   "cell_type": "markdown",
   "metadata": {},
   "source": [
    "### Part 1"
   ]
  },
  {
   "cell_type": "code",
   "execution_count": 4,
   "metadata": {},
   "outputs": [],
   "source": [
    "# code for preparing and testing examples for part 1\n",
    "\n",
    "example_dict_part_1 = {\n",
    "    tuple(load_puzzle_input('example_1.txt')): 15\n",
    "}"
   ]
  },
  {
   "cell_type": "code",
   "execution_count": 5,
   "metadata": {},
   "outputs": [],
   "source": [
    "def parse_puzzle_input(puzzle_input):\n",
    "    return [x.split() for x in puzzle_input]"
   ]
  },
  {
   "cell_type": "code",
   "execution_count": 6,
   "metadata": {},
   "outputs": [],
   "source": [
    "def calculate_shape_score(my_shape):\n",
    "    if my_shape == 'X':\n",
    "        return 1\n",
    "    elif my_shape == 'Y':\n",
    "        return 2\n",
    "    elif my_shape == 'Z':\n",
    "        return 3"
   ]
  },
  {
   "cell_type": "code",
   "execution_count": 8,
   "metadata": {},
   "outputs": [],
   "source": [
    "def calculate_outcome_score(their_shape, my_shape):\n",
    "    \n",
    "    score_chart = {\n",
    "        'A': {\n",
    "            'X': 3,\n",
    "            'Y': 6,\n",
    "            'Z': 0\n",
    "        },\n",
    "        'B': {\n",
    "            'X': 0,\n",
    "            'Y': 3,\n",
    "            'Z': 6\n",
    "        },\n",
    "        'C': {\n",
    "            'X': 6,\n",
    "            'Y': 0,\n",
    "            'Z': 3\n",
    "        }\n",
    "    }\n",
    "    \n",
    "    return score_chart[their_shape][my_shape]"
   ]
  },
  {
   "cell_type": "code",
   "execution_count": 9,
   "metadata": {},
   "outputs": [],
   "source": [
    "def solve_part_1(puzzle_input):\n",
    "    counter = 0\n",
    "    for round in puzzle_input:\n",
    "        their_shape, my_shape = round.split()\n",
    "        counter += calculate_shape_score(my_shape)\n",
    "        counter += calculate_outcome_score(their_shape, my_shape)\n",
    "    return counter"
   ]
  },
  {
   "cell_type": "code",
   "execution_count": 10,
   "metadata": {},
   "outputs": [
    {
     "name": "stdout",
     "output_type": "stream",
     "text": [
      "Test 0 passed: Input <('A Y', 'B X', 'C Z')> gives output <15>.\n",
      "\n",
      "Congratulations! Looks like you cracked it! Good job!\n"
     ]
    }
   ],
   "source": [
    "# test part 1 solution\n",
    "\n",
    "test_code(solve_part_1, example_dict_part_1)\n"
   ]
  },
  {
   "cell_type": "code",
   "execution_count": 11,
   "metadata": {},
   "outputs": [
    {
     "data": {
      "text/plain": [
       "14827"
      ]
     },
     "execution_count": 11,
     "metadata": {},
     "output_type": "execute_result"
    }
   ],
   "source": [
    "solve_part_1(puzzle_input)"
   ]
  },
  {
   "cell_type": "markdown",
   "metadata": {},
   "source": [
    "### Part 2"
   ]
  },
  {
   "cell_type": "code",
   "execution_count": 12,
   "metadata": {},
   "outputs": [],
   "source": [
    "# code for preparing and testing examples for part 2\n",
    "\n",
    "example_dict_part_2 = {\n",
    "    tuple(load_puzzle_input('example_1.txt')): 12\n",
    "}"
   ]
  },
  {
   "cell_type": "code",
   "execution_count": 13,
   "metadata": {},
   "outputs": [],
   "source": [
    "def find_my_shape(their_shape, outcome):\n",
    "    \n",
    "    outcome_chart = {\n",
    "        'A': {\n",
    "            'X': 'Z',\n",
    "            'Y': 'X',\n",
    "            'Z': 'Y',\n",
    "        },\n",
    "        'B': {\n",
    "            'X': 'X',\n",
    "            'Y': 'Y',\n",
    "            'Z': 'Z'\n",
    "        },\n",
    "        'C': {\n",
    "            'X': 'Y',\n",
    "            'Y': 'Z',\n",
    "            'Z': 'X'\n",
    "        }\n",
    "    }\n",
    "    \n",
    "    return outcome_chart[their_shape][outcome]"
   ]
  },
  {
   "cell_type": "code",
   "execution_count": 14,
   "metadata": {},
   "outputs": [],
   "source": [
    "def solve_part_2(puzzle_input):\n",
    "    counter = 0\n",
    "    for round in puzzle_input:\n",
    "        their_shape, outcome = round.split()\n",
    "        my_shape = find_my_shape(their_shape, outcome)\n",
    "        counter += calculate_shape_score(my_shape)\n",
    "        counter += calculate_outcome_score(their_shape, my_shape)\n",
    "    return counter"
   ]
  },
  {
   "cell_type": "code",
   "execution_count": 15,
   "metadata": {},
   "outputs": [
    {
     "name": "stdout",
     "output_type": "stream",
     "text": [
      "Test 0 passed: Input <('A Y', 'B X', 'C Z')> gives output <12>.\n",
      "\n",
      "Congratulations! Looks like you cracked it! Good job!\n"
     ]
    }
   ],
   "source": [
    "# test part 2 solution\n",
    "\n",
    "test_code(solve_part_2, example_dict_part_2)\n"
   ]
  },
  {
   "cell_type": "code",
   "execution_count": 16,
   "metadata": {},
   "outputs": [
    {
     "data": {
      "text/plain": [
       "13889"
      ]
     },
     "execution_count": 16,
     "metadata": {},
     "output_type": "execute_result"
    }
   ],
   "source": [
    "solve_part_2(puzzle_input)"
   ]
  }
 ],
 "metadata": {
  "kernelspec": {
   "display_name": "Python 3.10.6 64-bit",
   "language": "python",
   "name": "python3"
  },
  "language_info": {
   "codemirror_mode": {
    "name": "ipython",
    "version": 3
   },
   "file_extension": ".py",
   "mimetype": "text/x-python",
   "name": "python",
   "nbconvert_exporter": "python",
   "pygments_lexer": "ipython3",
   "version": "3.10.6"
  },
  "orig_nbformat": 4,
  "vscode": {
   "interpreter": {
    "hash": "31f2aee4e71d21fbe5cf8b01ff0e069b9275f58929596ceb00d14d90e3e16cd6"
   }
  }
 },
 "nbformat": 4,
 "nbformat_minor": 2
}
