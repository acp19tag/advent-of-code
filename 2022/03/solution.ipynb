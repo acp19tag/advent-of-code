{
 "cells": [
  {
   "cell_type": "code",
   "execution_count": 11,
   "metadata": {},
   "outputs": [],
   "source": [
    "# import useful libraries\n",
    "\n",
    "import numpy as np\n",
    "import itertools\n",
    "import more_itertools\n",
    "from collections import Counter\n",
    "from utils import load_puzzle_input, test_code\n",
    "import string"
   ]
  },
  {
   "cell_type": "code",
   "execution_count": 3,
   "metadata": {},
   "outputs": [
    {
     "name": "stdout",
     "output_type": "stream",
     "text": [
      "['QtGHnGlcwQGvHwMHGnnGfRFCJnRBfVVJRVBfCFBh', 'qsDjzNWhmspNNqVrfjVfjJCbBVfB', 'DLhPTmNDTzTqzpmzLpswGMHtMgwglcPQMQvSGM']\n"
     ]
    }
   ],
   "source": [
    "# load puzzle input\n",
    "    \n",
    "puzzle_input = load_puzzle_input('input.txt')\n",
    "\n",
    "print(puzzle_input[:3])"
   ]
  },
  {
   "cell_type": "markdown",
   "metadata": {},
   "source": [
    "### Part 1"
   ]
  },
  {
   "cell_type": "code",
   "execution_count": 5,
   "metadata": {},
   "outputs": [],
   "source": [
    "# code for preparing and testing examples for part 1\n",
    "\n",
    "example_dict_part_1 = {\n",
    "    tuple(load_puzzle_input('example_1.txt')): 157\n",
    "}"
   ]
  },
  {
   "cell_type": "code",
   "execution_count": 12,
   "metadata": {},
   "outputs": [],
   "source": [
    "def compartmentalise(rucksack_str, n_compartments = 2):\n",
    "    return [list(x) for x in more_itertools.divide(n_compartments, rucksack_str)]"
   ]
  },
  {
   "cell_type": "code",
   "execution_count": 25,
   "metadata": {},
   "outputs": [],
   "source": [
    "def identify_shared_item(compartment_a, compartment_b):\n",
    "    return list(set(compartment_a).intersection(set(compartment_b)))[0]"
   ]
  },
  {
   "cell_type": "code",
   "execution_count": 19,
   "metadata": {},
   "outputs": [],
   "source": [
    "def convert_to_priority(item_type):\n",
    "    return string.ascii_letters.index(item_type) + 1"
   ]
  },
  {
   "cell_type": "code",
   "execution_count": 21,
   "metadata": {},
   "outputs": [],
   "source": [
    "def solve_part_1(puzzle_input):\n",
    "    counter = 0\n",
    "    for rucksack_str in puzzle_input:\n",
    "        compartment_a, compartment_b = compartmentalise(rucksack_str)\n",
    "        shared_item = identify_shared_item(compartment_a, compartment_b)\n",
    "        counter += convert_to_priority(shared_item)\n",
    "    return counter"
   ]
  },
  {
   "cell_type": "code",
   "execution_count": 26,
   "metadata": {},
   "outputs": [
    {
     "name": "stdout",
     "output_type": "stream",
     "text": [
      "Test 0 passed: Input <('vJrwpWtwJgWrhcsFMMfFFhFp', 'jqHRNqRjqzjGDLGLrsFMfFZSrLrFZsSL', 'PmmdzqPrVvPwwTWBwg', 'wMqvLMZHhHMvwLHjbvcjnnSBnvTQFn', 'ttgJtRGJQctTZtZT', 'CrZsJsPPZsGzwwsLwLmpwMDw')> gives output <157>.\n",
      "\n",
      "Congratulations! Looks like you cracked it! Good job!\n"
     ]
    }
   ],
   "source": [
    "# test part 1 solution\n",
    "\n",
    "test_code(solve_part_1, example_dict_part_1)"
   ]
  },
  {
   "cell_type": "code",
   "execution_count": 27,
   "metadata": {},
   "outputs": [
    {
     "data": {
      "text/plain": [
       "8349"
      ]
     },
     "execution_count": 27,
     "metadata": {},
     "output_type": "execute_result"
    }
   ],
   "source": [
    "solve_part_1(puzzle_input)"
   ]
  },
  {
   "cell_type": "markdown",
   "metadata": {},
   "source": [
    "### Part 2"
   ]
  },
  {
   "cell_type": "code",
   "execution_count": 28,
   "metadata": {},
   "outputs": [],
   "source": [
    "# code for preparing and testing examples for part 2\n",
    "\n",
    "example_dict_part_2 = {\n",
    "    tuple(load_puzzle_input('example_1.txt')): 70\n",
    "}"
   ]
  },
  {
   "cell_type": "code",
   "execution_count": 32,
   "metadata": {},
   "outputs": [],
   "source": [
    "def identify_shared_item(list_of_compartments):\n",
    "    first_time = True\n",
    "    for compartment in list_of_compartments:\n",
    "        if first_time:\n",
    "            compartment_set = set(compartment)\n",
    "            first_time = False\n",
    "        else:\n",
    "            compartment_set = compartment_set.intersection(set(compartment))\n",
    "    return list(compartment_set)[0]"
   ]
  },
  {
   "cell_type": "code",
   "execution_count": 33,
   "metadata": {},
   "outputs": [],
   "source": [
    "def solve_part_2(puzzle_input):\n",
    "    counter = 0\n",
    "    for set_of_rucksacks in [puzzle_input[i:i + 3] for i in range(0, len(puzzle_input), 3)]:\n",
    "        shared_item = identify_shared_item(set_of_rucksacks)\n",
    "        counter += convert_to_priority(shared_item)\n",
    "    return counter"
   ]
  },
  {
   "cell_type": "code",
   "execution_count": 34,
   "metadata": {},
   "outputs": [
    {
     "name": "stdout",
     "output_type": "stream",
     "text": [
      "Test 0 passed: Input <('vJrwpWtwJgWrhcsFMMfFFhFp', 'jqHRNqRjqzjGDLGLrsFMfFZSrLrFZsSL', 'PmmdzqPrVvPwwTWBwg', 'wMqvLMZHhHMvwLHjbvcjnnSBnvTQFn', 'ttgJtRGJQctTZtZT', 'CrZsJsPPZsGzwwsLwLmpwMDw')> gives output <70>.\n",
      "\n",
      "Congratulations! Looks like you cracked it! Good job!\n"
     ]
    }
   ],
   "source": [
    "# test part 2 solution\n",
    "\n",
    "test_code(solve_part_2, example_dict_part_2)"
   ]
  },
  {
   "cell_type": "code",
   "execution_count": 35,
   "metadata": {},
   "outputs": [
    {
     "data": {
      "text/plain": [
       "2681"
      ]
     },
     "execution_count": 35,
     "metadata": {},
     "output_type": "execute_result"
    }
   ],
   "source": [
    "solve_part_2(puzzle_input)"
   ]
  }
 ],
 "metadata": {
  "kernelspec": {
   "display_name": "Python 3.9.1 64-bit",
   "language": "python",
   "name": "python3"
  },
  "language_info": {
   "codemirror_mode": {
    "name": "ipython",
    "version": 3
   },
   "file_extension": ".py",
   "mimetype": "text/x-python",
   "name": "python",
   "nbconvert_exporter": "python",
   "pygments_lexer": "ipython3",
   "version": "3.9.1"
  },
  "orig_nbformat": 4,
  "vscode": {
   "interpreter": {
    "hash": "81794d4967e6c3204c66dcd87b604927b115b27c00565d3d43f05ba2f3a2cb0d"
   }
  }
 },
 "nbformat": 4,
 "nbformat_minor": 2
}
