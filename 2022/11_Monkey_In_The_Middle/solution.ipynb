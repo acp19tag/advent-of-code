{
 "cells": [
  {
   "cell_type": "code",
   "execution_count": 1,
   "metadata": {},
   "outputs": [],
   "source": [
    "# import useful libraries\n",
    "\n",
    "import numpy as np\n",
    "import itertools\n",
    "from collections import Counter\n",
    "from utils import load_puzzle_input, test_code\n",
    "import ast\n",
    "import re\n",
    "from tqdm import tqdm\n",
    "import math"
   ]
  },
  {
   "cell_type": "code",
   "execution_count": 2,
   "metadata": {},
   "outputs": [
    {
     "name": "stdout",
     "output_type": "stream",
     "text": [
      "['Monkey 0:', '  Starting items: 66, 71, 94', '  Operation: new = old * 5']\n"
     ]
    }
   ],
   "source": [
    "# load puzzle input\n",
    "    \n",
    "puzzle_input = load_puzzle_input('input.txt')\n",
    "\n",
    "print(puzzle_input[:3])"
   ]
  },
  {
   "cell_type": "markdown",
   "metadata": {},
   "source": [
    "### Part 1"
   ]
  },
  {
   "cell_type": "code",
   "execution_count": 3,
   "metadata": {},
   "outputs": [],
   "source": [
    "# code for preparing and testing examples for part 1\n",
    "\n",
    "example_dict_part_1 = {\n",
    "    tuple(load_puzzle_input('example_1.txt')): 10605\n",
    "}"
   ]
  },
  {
   "cell_type": "code",
   "execution_count": 4,
   "metadata": {},
   "outputs": [],
   "source": [
    "def parse_puzzle_input(puzzle_input):\n",
    "    \n",
    "    return {\n",
    "        i: {\n",
    "            'items': [int(x) for x in puzzle_input[(i * 7) + 1][18:].split(',')], \n",
    "            'operation_operation': puzzle_input[(i * 7) + 2][23:24], \n",
    "            'operation_x': puzzle_input[(i * 7) + 2][25:], # could be int, could be 'old'\n",
    "            'division_test': int(puzzle_input[(i * 7) + 3][21:]), \n",
    "            'if_true': int(puzzle_input[(i * 7) + 4][-1]), \n",
    "            'if_false': int(puzzle_input[(i * 7) + 5][-1]),\n",
    "            'inspect_count': 0\n",
    "            } for i in range((len(puzzle_input) // 7) + 1)\n",
    "        }  "
   ]
  },
  {
   "cell_type": "code",
   "execution_count": 5,
   "metadata": {},
   "outputs": [],
   "source": [
    "def perform_operation(value, operation_operation, operation_x):\n",
    "    x = value if operation_x == 'old' else int(operation_x)\n",
    "    \n",
    "    if operation_operation == '*':\n",
    "        return value * x\n",
    "    elif operation_operation == '+':\n",
    "        return value + x"
   ]
  },
  {
   "cell_type": "code",
   "execution_count": 6,
   "metadata": {},
   "outputs": [],
   "source": [
    "def solve_part_1(puzzle_input):\n",
    "\n",
    "    monkey_dict = parse_puzzle_input(puzzle_input)\n",
    "\n",
    "    # print(monkey_dict)\n",
    "\n",
    "    for _ in range(20):\n",
    "\n",
    "        for monkey_id in monkey_dict:\n",
    "\n",
    "            monkey_dict[monkey_id]['inspect_count'] += len(monkey_dict[monkey_id]['items'])\n",
    "\n",
    "            for item in monkey_dict[monkey_id]['items']:\n",
    "\n",
    "                new_value = perform_operation(\n",
    "                    item,\n",
    "                    monkey_dict[monkey_id]['operation_operation'],\n",
    "                    monkey_dict[monkey_id]['operation_x'] \n",
    "                    )\n",
    "\n",
    "                new_value = int(new_value / 3) # monkey boredom\n",
    "\n",
    "                if not new_value % monkey_dict[monkey_id]['division_test']: #i.e. it IS divisible\n",
    "                    monkey_dict[monkey_dict[monkey_id]['if_true']]['items'].append(new_value)\n",
    "                else:\n",
    "                    monkey_dict[monkey_dict[monkey_id]['if_false']]['items'].append(new_value)\n",
    "\n",
    "            monkey_dict[monkey_id]['items'] = []\n",
    "\n",
    "    monkey_activity_list = [monkey_dict[id]['inspect_count'] for id in monkey_dict]\n",
    "    monkey_activity_list.sort()\n",
    "    return np.prod(monkey_activity_list[-2:])\n"
   ]
  },
  {
   "cell_type": "code",
   "execution_count": 7,
   "metadata": {},
   "outputs": [
    {
     "name": "stdout",
     "output_type": "stream",
     "text": [
      "Test 0 passed: Input <('Monkey 0:', '  Starting items: 79, 98', '  Operation: new = old * 19', '  Test: divisible by 23', '    If true: throw to monkey 2', '    If false: throw to monkey 3', '', 'Monkey 1:', '  Starting items: 54, 65, 75, 74', '  Operation: new = old + 6', '  Test: divisible by 19', '    If true: throw to monkey 2', '    If false: throw to monkey 0', '', 'Monkey 2:', '  Starting items: 79, 60, 97', '  Operation: new = old * old', '  Test: divisible by 13', '    If true: throw to monkey 1', '    If false: throw to monkey 3', '', 'Monkey 3:', '  Starting items: 74', '  Operation: new = old + 3', '  Test: divisible by 17', '    If true: throw to monkey 0', '    If false: throw to monkey 1')> gives output <10605>.\n",
      "\n",
      "Congratulations! Looks like you cracked it! Good job!\n"
     ]
    }
   ],
   "source": [
    "# test part 1 solution\n",
    "\n",
    "test_code(solve_part_1, example_dict_part_1)"
   ]
  },
  {
   "cell_type": "code",
   "execution_count": 8,
   "metadata": {},
   "outputs": [
    {
     "data": {
      "text/plain": [
       "55944"
      ]
     },
     "execution_count": 8,
     "metadata": {},
     "output_type": "execute_result"
    }
   ],
   "source": [
    "solve_part_1(puzzle_input)"
   ]
  },
  {
   "cell_type": "markdown",
   "metadata": {},
   "source": [
    "### Part 2"
   ]
  },
  {
   "cell_type": "code",
   "execution_count": 9,
   "metadata": {},
   "outputs": [],
   "source": [
    "# code for preparing and testing examples for part 2\n",
    "\n",
    "example_dict_part_2 = {\n",
    "    tuple(load_puzzle_input('example_1.txt')): 2713310158\n",
    "}"
   ]
  },
  {
   "cell_type": "code",
   "execution_count": 16,
   "metadata": {},
   "outputs": [
    {
     "data": {
      "text/plain": [
       "0"
      ]
     },
     "execution_count": 16,
     "metadata": {},
     "output_type": "execute_result"
    }
   ],
   "source": [
    "a = 25\n",
    "a %= 5\n",
    "a"
   ]
  },
  {
   "cell_type": "code",
   "execution_count": 31,
   "metadata": {},
   "outputs": [],
   "source": [
    "def find_common_multiple(monkey_dict):\n",
    "    # lcm = 1\n",
    "    # for monkey_id in monkey_dict:\n",
    "    #     lcm *= monkey_dict[monkey_id]['division_test']\n",
    "    # return lcm\n",
    "    return math.lcm(*[monkey_dict[monkey_id]['division_test'] for monkey_id in monkey_dict])"
   ]
  },
  {
   "cell_type": "code",
   "execution_count": 55,
   "metadata": {},
   "outputs": [],
   "source": [
    "def solve_part_2(puzzle_input):\n",
    "\n",
    "    monkey_dict = parse_puzzle_input(puzzle_input)\n",
    "\n",
    "    # find a number that we can always modulo the 'worry' by\n",
    "    # so that it doesn't change the way that the other modulos work\n",
    "    common_multiple = find_common_multiple(monkey_dict)\n",
    "\n",
    "    for _ in tqdm(range(10000)): # should be 10000 in the real thing\n",
    "\n",
    "        for monkey_id in monkey_dict:\n",
    "\n",
    "            monkey_dict[monkey_id]['inspect_count'] += len(monkey_dict[monkey_id]['items'])\n",
    "\n",
    "            for item in monkey_dict[monkey_id]['items']:\n",
    "\n",
    "                new_value = perform_operation(\n",
    "                    item,\n",
    "                    monkey_dict[monkey_id]['operation_operation'],\n",
    "                    monkey_dict[monkey_id]['operation_x'] \n",
    "                    )\n",
    "\n",
    "                # no more monkey boredom, instead we modulo by our common multiple\n",
    "                new_value = new_value % common_multiple\n",
    "\n",
    "                if new_value < 0:\n",
    "                    print(new_value)\n",
    "                    print(monkey_id)\n",
    "                    print(item)\n",
    "                    break\n",
    "\n",
    "                if not new_value % monkey_dict[monkey_id]['division_test']: #i.e. it IS divisible\n",
    "                    monkey_dict[monkey_dict[monkey_id]['if_true']]['items'].append(new_value)\n",
    "                else:\n",
    "                    monkey_dict[monkey_dict[monkey_id]['if_false']]['items'].append(new_value)\n",
    "\n",
    "            monkey_dict[monkey_id]['items'] = []\n",
    "\n",
    "    monkey_activity_list = [monkey_dict[id]['inspect_count'] for id in monkey_dict]\n",
    "    monkey_activity_list.sort()\n",
    "    # print(monkey_activity_list)\n",
    "    # return np.prod(monkey_activity_list[-2:]) # well this sucks. np prod gives a negative result even though I got the question right...\n",
    "    return math.prod(monkey_activity_list[-2:])\n"
   ]
  },
  {
   "cell_type": "code",
   "execution_count": 56,
   "metadata": {},
   "outputs": [
    {
     "name": "stderr",
     "output_type": "stream",
     "text": [
      "100%|██████████| 10000/10000 [00:00<00:00, 102040.52it/s]"
     ]
    },
    {
     "name": "stdout",
     "output_type": "stream",
     "text": [
      "Test 0 passed: Input <('Monkey 0:', '  Starting items: 79, 98', '  Operation: new = old * 19', '  Test: divisible by 23', '    If true: throw to monkey 2', '    If false: throw to monkey 3', '', 'Monkey 1:', '  Starting items: 54, 65, 75, 74', '  Operation: new = old + 6', '  Test: divisible by 19', '    If true: throw to monkey 2', '    If false: throw to monkey 0', '', 'Monkey 2:', '  Starting items: 79, 60, 97', '  Operation: new = old * old', '  Test: divisible by 13', '    If true: throw to monkey 1', '    If false: throw to monkey 3', '', 'Monkey 3:', '  Starting items: 74', '  Operation: new = old + 3', '  Test: divisible by 17', '    If true: throw to monkey 0', '    If false: throw to monkey 1')> gives output <2713310158>.\n",
      "\n",
      "Congratulations! Looks like you cracked it! Good job!\n"
     ]
    },
    {
     "name": "stderr",
     "output_type": "stream",
     "text": [
      "\n"
     ]
    }
   ],
   "source": [
    "# test part 2 solution\n",
    "\n",
    "test_code(solve_part_2, example_dict_part_2)"
   ]
  },
  {
   "cell_type": "code",
   "execution_count": 57,
   "metadata": {},
   "outputs": [
    {
     "name": "stderr",
     "output_type": "stream",
     "text": [
      "100%|██████████| 10000/10000 [00:00<00:00, 27624.64it/s]\n"
     ]
    },
    {
     "data": {
      "text/plain": [
       "15117269860"
      ]
     },
     "execution_count": 57,
     "metadata": {},
     "output_type": "execute_result"
    }
   ],
   "source": [
    "solve_part_2(puzzle_input)"
   ]
  },
  {
   "cell_type": "code",
   "execution_count": null,
   "metadata": {},
   "outputs": [],
   "source": []
  }
 ],
 "metadata": {
  "kernelspec": {
   "display_name": "Python 3",
   "language": "python",
   "name": "python3"
  },
  "language_info": {
   "codemirror_mode": {
    "name": "ipython",
    "version": 3
   },
   "file_extension": ".py",
   "mimetype": "text/x-python",
   "name": "python",
   "nbconvert_exporter": "python",
   "pygments_lexer": "ipython3",
   "version": "3.9.1"
  },
  "orig_nbformat": 4,
  "vscode": {
   "interpreter": {
    "hash": "81794d4967e6c3204c66dcd87b604927b115b27c00565d3d43f05ba2f3a2cb0d"
   }
  }
 },
 "nbformat": 4,
 "nbformat_minor": 2
}
