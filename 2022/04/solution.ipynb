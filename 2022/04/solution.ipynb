{
 "cells": [
  {
   "cell_type": "code",
   "execution_count": 4,
   "metadata": {},
   "outputs": [],
   "source": [
    "# import useful libraries\n",
    "\n",
    "import numpy as np\n",
    "import itertools\n",
    "from collections import Counter\n",
    "from utils import load_puzzle_input, test_code\n",
    "import re"
   ]
  },
  {
   "cell_type": "code",
   "execution_count": 2,
   "metadata": {},
   "outputs": [
    {
     "name": "stdout",
     "output_type": "stream",
     "text": [
      "['33-62,26-62', '49-89,49-88', '2-4,3-92']\n"
     ]
    }
   ],
   "source": [
    "# load puzzle input\n",
    "    \n",
    "puzzle_input = load_puzzle_input('input.txt')\n",
    "\n",
    "print(puzzle_input[:3])"
   ]
  },
  {
   "cell_type": "markdown",
   "metadata": {},
   "source": [
    "### Part 1"
   ]
  },
  {
   "cell_type": "code",
   "execution_count": 3,
   "metadata": {},
   "outputs": [],
   "source": [
    "# code for preparing and testing examples for part 1\n",
    "\n",
    "example_dict_part_1 = {\n",
    "    tuple(load_puzzle_input('example_1.txt')): 2\n",
    "}"
   ]
  },
  {
   "cell_type": "code",
   "execution_count": 15,
   "metadata": {},
   "outputs": [],
   "source": [
    "def parse_input(puzzle_input):\n",
    "    return [[int(x) for x in re.split('[,-]+', line)] for line in puzzle_input]"
   ]
  },
  {
   "cell_type": "code",
   "execution_count": 23,
   "metadata": {},
   "outputs": [],
   "source": [
    "\"\"\"\n",
    "Oops! Misunderstood the question. \n",
    "The following function looks at whether *any* assignements overlap, \n",
    "regardless of pairing. \n",
    "\n",
    "The real puzzle is much more straightforward!\n",
    "\n",
    "\"\"\"\n",
    "\n",
    "# def solve_part_1(puzzle_input):\n",
    "#     counter = 0\n",
    "#     range_set = set()\n",
    "#     for section_a1, section_a2, section_b1, section_b2 in parse_input(puzzle_input):\n",
    "#         range_a = frozenset(range(section_a1, section_a2 + 1))\n",
    "#         range_b = frozenset(range(section_b1, section_b2 + 1))\n",
    "#         for new_range in [range_a, range_b]:\n",
    "#             for existing_range in range_set:\n",
    "#                 intersection = len(new_range.intersection(existing_range))\n",
    "\n",
    "#                 print(f\"new range: {new_range}\")\n",
    "#                 print(f\"existing range: {existing_range}\")\n",
    "#                 print(f\"intersection: {intersection}\")\n",
    "\n",
    "#                 if intersection in [len(new_range), len(existing_range)]:\n",
    "#                     counter += 1\n",
    "#             range_set.add(new_range)\n",
    "#     return counter"
   ]
  },
  {
   "cell_type": "code",
   "execution_count": 25,
   "metadata": {},
   "outputs": [],
   "source": [
    "def solve_part_1(puzzle_input):\n",
    "    counter = 0\n",
    "    range_set = set()\n",
    "    for section_a1, section_a2, section_b1, section_b2 in parse_input(puzzle_input):\n",
    "        range_a = frozenset(range(section_a1, section_a2 + 1))\n",
    "        range_b = frozenset(range(section_b1, section_b2 + 1))\n",
    "        intersection = len(range_a.intersection(range_b))\n",
    "        if intersection in [len(range_a), len(range_b)]:\n",
    "            counter += 1\n",
    "    return counter"
   ]
  },
  {
   "cell_type": "code",
   "execution_count": 26,
   "metadata": {},
   "outputs": [
    {
     "name": "stdout",
     "output_type": "stream",
     "text": [
      "Test 0 passed: Input <('2-4,6-8', '2-3,4-5', '5-7,7-9', '2-8,3-7', '6-6,4-6', '2-6,4-8')> gives output <2>.\n",
      "\n",
      "Congratulations! Looks like you cracked it! Good job!\n"
     ]
    }
   ],
   "source": [
    "# test part 1 solution\n",
    "\n",
    "test_code(solve_part_1, example_dict_part_1)"
   ]
  },
  {
   "cell_type": "code",
   "execution_count": 27,
   "metadata": {},
   "outputs": [
    {
     "data": {
      "text/plain": [
       "588"
      ]
     },
     "execution_count": 27,
     "metadata": {},
     "output_type": "execute_result"
    }
   ],
   "source": [
    "solve_part_1(puzzle_input)"
   ]
  },
  {
   "cell_type": "markdown",
   "metadata": {},
   "source": [
    "### Part 2"
   ]
  },
  {
   "cell_type": "code",
   "execution_count": 28,
   "metadata": {},
   "outputs": [],
   "source": [
    "# code for preparing and testing examples for part 2\n",
    "\n",
    "example_dict_part_2 = {\n",
    "    tuple(load_puzzle_input('example_1.txt')): 4\n",
    "}"
   ]
  },
  {
   "cell_type": "code",
   "execution_count": 29,
   "metadata": {},
   "outputs": [],
   "source": [
    "def solve_part_2(puzzle_input):\n",
    "    counter = 0\n",
    "    range_set = set()\n",
    "    for section_a1, section_a2, section_b1, section_b2 in parse_input(puzzle_input):\n",
    "        range_a = frozenset(range(section_a1, section_a2 + 1))\n",
    "        range_b = frozenset(range(section_b1, section_b2 + 1))\n",
    "        intersection = len(range_a.intersection(range_b))\n",
    "        if intersection:\n",
    "            counter += 1\n",
    "    return counter"
   ]
  },
  {
   "cell_type": "code",
   "execution_count": 30,
   "metadata": {},
   "outputs": [
    {
     "name": "stdout",
     "output_type": "stream",
     "text": [
      "Test 0 passed: Input <('2-4,6-8', '2-3,4-5', '5-7,7-9', '2-8,3-7', '6-6,4-6', '2-6,4-8')> gives output <4>.\n",
      "\n",
      "Congratulations! Looks like you cracked it! Good job!\n"
     ]
    }
   ],
   "source": [
    "# test part 2 solution\n",
    "\n",
    "test_code(solve_part_2, example_dict_part_2)"
   ]
  },
  {
   "cell_type": "code",
   "execution_count": 31,
   "metadata": {},
   "outputs": [
    {
     "data": {
      "text/plain": [
       "911"
      ]
     },
     "execution_count": 31,
     "metadata": {},
     "output_type": "execute_result"
    }
   ],
   "source": [
    "solve_part_2(puzzle_input)"
   ]
  }
 ],
 "metadata": {
  "kernelspec": {
   "display_name": "Python 3.9.1 64-bit",
   "language": "python",
   "name": "python3"
  },
  "language_info": {
   "codemirror_mode": {
    "name": "ipython",
    "version": 3
   },
   "file_extension": ".py",
   "mimetype": "text/x-python",
   "name": "python",
   "nbconvert_exporter": "python",
   "pygments_lexer": "ipython3",
   "version": "3.9.1"
  },
  "orig_nbformat": 4,
  "vscode": {
   "interpreter": {
    "hash": "81794d4967e6c3204c66dcd87b604927b115b27c00565d3d43f05ba2f3a2cb0d"
   }
  }
 },
 "nbformat": 4,
 "nbformat_minor": 2
}
