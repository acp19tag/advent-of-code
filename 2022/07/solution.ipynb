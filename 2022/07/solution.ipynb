{
 "cells": [
  {
   "cell_type": "code",
   "execution_count": 1,
   "metadata": {},
   "outputs": [],
   "source": [
    "# import useful libraries\n",
    "\n",
    "import numpy as np\n",
    "import itertools\n",
    "from collections import Counter\n",
    "from utils import load_puzzle_input, test_code"
   ]
  },
  {
   "cell_type": "code",
   "execution_count": 2,
   "metadata": {},
   "outputs": [
    {
     "name": "stdout",
     "output_type": "stream",
     "text": [
      "['$ cd /', '$ ls', 'dir dpllhlcv']\n"
     ]
    }
   ],
   "source": [
    "# load puzzle input\n",
    "    \n",
    "puzzle_input = load_puzzle_input('input.txt')\n",
    "\n",
    "print(puzzle_input[:3])"
   ]
  },
  {
   "cell_type": "markdown",
   "metadata": {},
   "source": [
    "### Part 1"
   ]
  },
  {
   "cell_type": "code",
   "execution_count": 3,
   "metadata": {},
   "outputs": [],
   "source": [
    "# code for preparing and testing examples for part 1\n",
    "\n",
    "example_dict_part_1 = {\n",
    "    tuple(load_puzzle_input('example_1.txt')): 95437\n",
    "}"
   ]
  },
  {
   "cell_type": "code",
   "execution_count": 96,
   "metadata": {},
   "outputs": [],
   "source": [
    "def cd(command_str, current_directory):\n",
    "\n",
    "    # print(current_directory)\n",
    "\n",
    "    if command_str not in {'..'}:\n",
    "        current_directory += f'/{command_str}'\n",
    "    else:\n",
    "        current_directory = '/'.join(current_directory.split('/')[:-1])\n",
    "\n",
    "    # print(command_str)\n",
    "    # print(current_directory)\n",
    "    # print()\n",
    "\n",
    "    return current_directory"
   ]
  },
  {
   "cell_type": "code",
   "execution_count": 97,
   "metadata": {},
   "outputs": [],
   "source": [
    "def ls(item_list, current_directory, directory_tree):\n",
    "\n",
    "    # print(item_list)\n",
    "    # print(current_directory)\n",
    "    # print(directory_tree)\n",
    "\n",
    "    temp_dict = directory_tree\n",
    "\n",
    "    split_current_directory = current_directory.split('/')\n",
    "\n",
    "    # print(split_current_directory)\n",
    "\n",
    "    if current_directory != '/':\n",
    "        for directory in split_current_directory:\n",
    "            if directory != '':\n",
    "                temp_dict = temp_dict[directory]\n",
    "\n",
    "    # print(item_list)\n",
    "\n",
    "    for item in item_list:\n",
    "        \n",
    "        # print(item)\n",
    "\n",
    "        file_details, filename = item.split()\n",
    "        temp_dict[filename] = {} if file_details == 'dir' else int(file_details)\n",
    "        \n",
    "    return directory_tree"
   ]
  },
  {
   "cell_type": "code",
   "execution_count": 98,
   "metadata": {},
   "outputs": [],
   "source": [
    "def generate_directory_tree(puzzle_input):\n",
    "    current_directory = ''\n",
    "    directory_tree = {}\n",
    "    ls_capture = False\n",
    "    rolling_item_list = []\n",
    "    \n",
    "    for line in puzzle_input:\n",
    "\n",
    "        if line[0] == '$':\n",
    "            if ls_capture:\n",
    "                \n",
    "                directory_tree = ls(rolling_item_list, current_directory, directory_tree)\n",
    "                ls_capture = False\n",
    "\n",
    "            if line[2:4] == 'cd':\n",
    "                current_directory = cd(line[5:], current_directory)\n",
    "            elif line[2:4] == 'ls':\n",
    "                ls_capture = True\n",
    "                rolling_item_list = []\n",
    "        elif ls_capture:\n",
    "            rolling_item_list.append(line)\n",
    "\n",
    "    if ls_capture:\n",
    "        directory_tree = ls(rolling_item_list, current_directory, directory_tree)\n",
    "\n",
    "    return directory_tree"
   ]
  },
  {
   "cell_type": "code",
   "execution_count": 99,
   "metadata": {},
   "outputs": [],
   "source": [
    "def calculate_directory_size(directory_dict, size_count = 0):\n",
    "    for item_name, item_details in directory_dict.items():\n",
    "        if type(item_details) is int:\n",
    "            size_count += item_details\n",
    "        else:\n",
    "            size_count += calculate_directory_size(directory_dict[item_name])\n",
    "    return size_count"
   ]
  },
  {
   "cell_type": "code",
   "execution_count": 115,
   "metadata": {},
   "outputs": [],
   "source": [
    "def calculate_directory_sizes(directory_tree, size_dict=None):\n",
    "    \n",
    "    if size_dict is None:\n",
    "        size_dict = {}\n",
    "\n",
    "    for item_name, item_details in directory_tree.items():\n",
    "\n",
    "        if type(item_details) is not int:\n",
    "            \n",
    "            # print(f\"{item_name}: {calculate_directory_size(directory_tree[item_name])}\")\n",
    "\n",
    "            size_dict[item_name] = calculate_directory_size(directory_tree[item_name])\n",
    "\n",
    "            calculate_directory_sizes(directory_tree[item_name], size_dict = size_dict)\n",
    "\n",
    "    return size_dict\n",
    "\n"
   ]
  },
  {
   "cell_type": "code",
   "execution_count": 116,
   "metadata": {},
   "outputs": [],
   "source": [
    "def solve_part_1(puzzle_input):\n",
    "\n",
    "    directory_tree = generate_directory_tree(puzzle_input)\n",
    "\n",
    "    # print(directory_tree)\n",
    "    # print()\n",
    "\n",
    "    size_dict = calculate_directory_sizes(directory_tree)\n",
    "    \n",
    "    print(size_dict)\n",
    "\n",
    "    return sum(x for x in list(size_dict.values()) if x <= 100000)\n"
   ]
  },
  {
   "cell_type": "code",
   "execution_count": 117,
   "metadata": {},
   "outputs": [
    {
     "name": "stdout",
     "output_type": "stream",
     "text": [
      "{'a': 94853, 'e': 584, 'd': 24933642}\n",
      "Test 0 passed: Input <('$ cd /', '$ ls', 'dir a', '14848514 b.txt', '8504156 c.dat', 'dir d', '$ cd a', '$ ls', 'dir e', '29116 f', '2557 g', '62596 h.lst', '$ cd e', '$ ls', '584 i', '$ cd ..', '$ cd ..', '$ cd d', '$ ls', '4060174 j', '8033020 d.log', '5626152 d.ext', '7214296 k')> gives output <95437>.\n",
      "\n",
      "Congratulations! Looks like you cracked it! Good job!\n"
     ]
    }
   ],
   "source": [
    "# test part 1 solution\n",
    "\n",
    "test_code(solve_part_1, example_dict_part_1)"
   ]
  },
  {
   "cell_type": "code",
   "execution_count": 118,
   "metadata": {},
   "outputs": [
    {
     "name": "stdout",
     "output_type": "stream",
     "text": [
      "{'dpllhlcv': 3339835, 'gpmlznd': 279445, 'lwzcss': 59866, 'bttplh': 59866, 'rzj': 59866, 'rhdllvm': 41266, 'mvqfrq': 41266, 'pgcctrb': 101757, 'dgpfcftj': 214069, 'wmsl': 555904, 'hhtztpm': 1134787, 'ngjd': 289546, 'tzjthwc': 1290363, 'lhccf': 712782, 'nzwbc': 12818, 'zfwffjn': 510382, 'mrd': 139407, 'vnwpddtf': 346983, 'wgnhhl': 120460, 'zpldfrj': 180679, 'mgjdlmrz': 12764747, 'fnfw': 11495286, 'bhjm': 4116403, 'bpl': 1474657, 'btpglc': 276105, 'hqmw': 163168, 'glplnd': 414452, 'rrrj': 1003000, 'dqtbltwp': 27856, 'fwdw': 414925, 'tnpjsgnq': 35566, 'gbddb': 1587, 'gpqssnq': 33979, 'tpvttzv': 152202, 'bqvzmb': 152202, 'tlltjd': 58096, 'dhsvtfc': 6600612, 'cwbq': 3715304, 'ccgdn': 1597017, 'blnzrjm': 1193836, 'pwj': 294466, 'fwdpw': 28780, 'nbldsrfq': 57352, 'wpj': 51243, 'gcfbqh': 376484, 'qtfhz': 301342, 'tpgj': 210570, 'tph': 958241, 'hptp': 420399, 'psndpb': 1943378, 'dbm': 567894, 'ffmrngmj': 299742, 'fbmfpndf': 186758, 'fstgbcrc': 495757, 'vptjzdt': 117403, 'hlh': 96676, 'hwb': 115286, 'nfqzjs': 18103, 'qdgplmrt': 163549, 'znrnj': 893350, 'cdgrjlz': 399714, 'njstc': 1887691, 'jnffc': 201793, 'jnrrwt': 1189837, 'fvmgmn': 159538, 'wjrqnlr': 978684, 'dvcqnv': 66408, 'jnjzlhhw': 682816, 'btcjthr': 593148, 'sbcwwvj': 31258, 'mdts': 191614, 'zchc': 102230, 'ltrg': 304569, 'rvt': 232235, 'mfbhtb': 21538, 'nbdn': 1325905, 'rscwnwt': 714204, 'nzw': 2425469, 'nhzg': 219375, 'qshfn': 2070965, 'pnjhczqg': 284625, 'wrh': 143304, 'lnhmfb': 795885, 'dzzdvmtl': 174378, 'mrg': 174378, 'ttnm': 621507, 'zcv': 3347633, 'cwsqwt': 515296, 'nbq': 1815525, 'gbjtzhj': 43689, 'mfsr': 608375, 'tch': 289238, 'zzgtsqvh': 289069, 'nzbdsvt': 89301, 'qzzfvdh': 14847874, 'lfpltbmd': 503327, 'lmnvgrm': 812477, 'qnfp': 2903941, 'ldq': 759913, 'wfqbv': 491236, 'ljv': 1121661, 'wdfwp': 416556, 'mnd': 124041, 'wdn': 519520, 'cjrtl': 1146036, 'lldcwcf': 508558, 'dnfztwvj': 211224, 'cmqzqrc': 889251, 'bsfqcv': 62520, 'pzfnlzbj': 190720, 'gmlgztg': 613397, 'qflmtrgh': 688818, 'wftzbw': 93504, 'chzs': 93504, 'dfhzcft': 93504, 'wrm': 595314, 'snjv': 3499064, 'grq': 1848135, 'cfwvmwr': 227691, 'njsfv': 608476, 'wjcjqc': 258155, 'fsqdnl': 250732, 'zmvrrdps': 170723, 'vsq': 332198, 'vgnlftjr': 206656, 'vjqzf': 722324, 'gnnstzc': 181151, 'zhmgmmv': 379725, 'fvwm': 214069, 'smvhphf': 202817}\n"
     ]
    },
    {
     "data": {
      "text/plain": [
       "1279412"
      ]
     },
     "execution_count": 118,
     "metadata": {},
     "output_type": "execute_result"
    }
   ],
   "source": [
    "solve_part_1(puzzle_input)"
   ]
  },
  {
   "cell_type": "markdown",
   "metadata": {},
   "source": [
    "### Part 2"
   ]
  },
  {
   "cell_type": "code",
   "execution_count": null,
   "metadata": {},
   "outputs": [],
   "source": [
    "# code for preparing and testing examples for part 2\n",
    "\n",
    "example_dict_part_2 = {\n",
    "    tuple(load_puzzle_input('example_1.txt')): \"example_output\"\n",
    "}"
   ]
  },
  {
   "cell_type": "code",
   "execution_count": null,
   "metadata": {},
   "outputs": [],
   "source": []
  },
  {
   "cell_type": "code",
   "execution_count": null,
   "metadata": {},
   "outputs": [],
   "source": [
    "# test part 2 solution\n",
    "\n",
    "# test_code(func, example_dict_part_2)"
   ]
  }
 ],
 "metadata": {
  "kernelspec": {
   "display_name": "Python 3.9.1 64-bit",
   "language": "python",
   "name": "python3"
  },
  "language_info": {
   "codemirror_mode": {
    "name": "ipython",
    "version": 3
   },
   "file_extension": ".py",
   "mimetype": "text/x-python",
   "name": "python",
   "nbconvert_exporter": "python",
   "pygments_lexer": "ipython3",
   "version": "3.9.1"
  },
  "orig_nbformat": 4,
  "vscode": {
   "interpreter": {
    "hash": "81794d4967e6c3204c66dcd87b604927b115b27c00565d3d43f05ba2f3a2cb0d"
   }
  }
 },
 "nbformat": 4,
 "nbformat_minor": 2
}
