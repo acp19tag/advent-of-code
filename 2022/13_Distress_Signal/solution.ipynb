{
 "cells": [
  {
   "cell_type": "code",
   "execution_count": 67,
   "metadata": {},
   "outputs": [],
   "source": [
    "# import useful libraries\n",
    "\n",
    "import numpy as np\n",
    "import itertools\n",
    "from collections import Counter\n",
    "from utils import load_puzzle_input, test_code\n",
    "import ast\n",
    "from itertools import combinations"
   ]
  },
  {
   "cell_type": "code",
   "execution_count": 53,
   "metadata": {},
   "outputs": [
    {
     "name": "stdout",
     "output_type": "stream",
     "text": [
      "['[[[],[3,[],4,[2,1,3]],8,7],[0,7,[[5,2,1,0],5],9],[10,[[],4,[7,2],2,8],[[2,1,0,5]],[[7,2],0,[],[3,5,1],5]],[0,10,2]]', '[[],[3,[[6,3],[2],[8,3]],[[1,6],[3,9,1],[]]]]', '']\n"
     ]
    }
   ],
   "source": [
    "# load puzzle input\n",
    "    \n",
    "puzzle_input = load_puzzle_input('input.txt')\n",
    "\n",
    "print(puzzle_input[:3])"
   ]
  },
  {
   "cell_type": "markdown",
   "metadata": {},
   "source": [
    "### Part 1"
   ]
  },
  {
   "cell_type": "code",
   "execution_count": 54,
   "metadata": {},
   "outputs": [],
   "source": [
    "# code for preparing and testing examples for part 1\n",
    "\n",
    "example_dict_part_1 = {\n",
    "    tuple(load_puzzle_input('example_1.txt')): 13\n",
    "}"
   ]
  },
  {
   "cell_type": "code",
   "execution_count": 55,
   "metadata": {},
   "outputs": [],
   "source": [
    "def parse_puzzle_input(puzzle_input):\n",
    "\n",
    "    return [puzzle_input[i * 3:(i * 3) + 2] for i in range((len(puzzle_input) + 3 - 1) // 3)]"
   ]
  },
  {
   "cell_type": "code",
   "execution_count": 57,
   "metadata": {},
   "outputs": [],
   "source": [
    "def compare_two_ints(int_a, int_b):\n",
    "    \"\"\"returns STOP (bool), CORRECT ORDER (bool or None)\"\"\"\n",
    "    \n",
    "    if int_a < int_b:\n",
    "        return True, True\n",
    "    elif int_a > int_b: \n",
    "        return True, False\n",
    "    return False, None"
   ]
  },
  {
   "cell_type": "code",
   "execution_count": 62,
   "metadata": {},
   "outputs": [],
   "source": [
    "def compare_two_lists(list_a, list_b):\n",
    "    \n",
    "    for idx in range(max(len(list_a), len(list_b))):\n",
    "        \n",
    "        # print(idx)\n",
    "        # print(list_a)\n",
    "        # print(list_b)\n",
    "        # print()\n",
    "\n",
    "        # catch end-of-list\n",
    "        if idx >= len(list_a):\n",
    "            return True, True\n",
    "        elif idx >= len(list_b):\n",
    "            return True, False\n",
    "\n",
    "        item_a = list_a[idx]\n",
    "        item_b = list_b[idx]\n",
    "\n",
    "        if type(item_a) is int and type(item_b) is int:\n",
    "            \n",
    "            stop, correct = compare_two_ints(item_a, item_b)\n",
    "            \n",
    "        elif type(item_a) is list and type(item_b) is list:\n",
    "            \n",
    "            stop, correct = compare_two_lists(item_a, item_b)\n",
    "            \n",
    "        else: # i.e. one of them is a list. I don't know how to do 'either or but not and' so we're doing it this way.\n",
    "            \n",
    "            if type(item_a) is int:\n",
    "                item_a = [item_a]\n",
    "            else:\n",
    "                item_b = [item_b]\n",
    "\n",
    "            stop, correct = compare_two_lists(item_a, item_b)\n",
    "        if stop:\n",
    "            return True, correct\n",
    "\n",
    "    return False, None"
   ]
  },
  {
   "cell_type": "code",
   "execution_count": 59,
   "metadata": {},
   "outputs": [],
   "source": [
    "def check_right_order(packet_1, packet_2):\n",
    "    \n",
    "    # literal evaluation\n",
    "    packet_1 = ast.literal_eval(packet_1)\n",
    "    packet_2 = ast.literal_eval(packet_2)\n",
    "    \n",
    "    stop = False\n",
    "    \n",
    "    while not stop:\n",
    "        \n",
    "        stop, correct = compare_two_lists(packet_1, packet_2)\n",
    "        \n",
    "    return correct"
   ]
  },
  {
   "cell_type": "code",
   "execution_count": 60,
   "metadata": {},
   "outputs": [],
   "source": [
    "def part_1_solution(puzzle_input):\n",
    "    \n",
    "    packet_tuple_list = parse_puzzle_input(puzzle_input)\n",
    "    \n",
    "    correct_indices = []\n",
    "    \n",
    "    for packet_idx, packet_tuple in enumerate(packet_tuple_list):\n",
    "        \n",
    "        packet_1, packet_2 = packet_tuple\n",
    "        \n",
    "        if check_right_order(packet_1, packet_2):\n",
    "            correct_indices.append(packet_idx + 1)\n",
    "    \n",
    "    return sum(correct_indices)"
   ]
  },
  {
   "cell_type": "code",
   "execution_count": 63,
   "metadata": {},
   "outputs": [
    {
     "name": "stdout",
     "output_type": "stream",
     "text": [
      "Test 0 passed: Input <('[1,1,3,1,1]', '[1,1,5,1,1]', '', '[[1],[2,3,4]]', '[[1],4]', '', '[9]', '[[8,7,6]]', '', '[[4,4],4,4]', '[[4,4],4,4,4]', '', '[7,7,7,7]', '[7,7,7]', '', '[]', '[3]', '', '[[[]]]', '[[]]', '', '[1,[2,[3,[4,[5,6,7]]]],8,9]', '[1,[2,[3,[4,[5,6,0]]]],8,9]')> gives output <13>.\n",
      "\n",
      "Congratulations! Looks like you cracked it! Good job!\n"
     ]
    }
   ],
   "source": [
    "# test part 1 solution\n",
    "\n",
    "test_code(part_1_solution, example_dict_part_1)"
   ]
  },
  {
   "cell_type": "code",
   "execution_count": 64,
   "metadata": {},
   "outputs": [
    {
     "data": {
      "text/plain": [
       "5330"
      ]
     },
     "execution_count": 64,
     "metadata": {},
     "output_type": "execute_result"
    }
   ],
   "source": [
    "part_1_solution(puzzle_input)"
   ]
  },
  {
   "cell_type": "markdown",
   "metadata": {},
   "source": [
    "### Part 2"
   ]
  },
  {
   "cell_type": "code",
   "execution_count": 65,
   "metadata": {},
   "outputs": [],
   "source": [
    "# code for preparing and testing examples for part 2\n",
    "\n",
    "example_dict_part_2 = {\n",
    "    tuple(load_puzzle_input('example_1.txt')): 140\n",
    "}"
   ]
  },
  {
   "cell_type": "code",
   "execution_count": 68,
   "metadata": {},
   "outputs": [],
   "source": [
    "def get_empty_packet_count_dict(puzzle_input):\n",
    "\n",
    "    return {packet: 0 for packet in puzzle_input if packet != ''}"
   ]
  },
  {
   "cell_type": "code",
   "execution_count": 80,
   "metadata": {},
   "outputs": [],
   "source": [
    "def part_2_solution(puzzle_input):\n",
    "    \n",
    "    packet_count_dict = get_empty_packet_count_dict(puzzle_input)\n",
    "    \n",
    "    # new inclusions - dividers\n",
    "    packet_count_dict['[[2]]'] = 0\n",
    "    packet_count_dict['[[6]]'] = 0\n",
    "\n",
    "    all_combinations = list(combinations(list(packet_count_dict), 2))\n",
    "\n",
    "    for packet_a, packet_b in all_combinations:\n",
    "        \n",
    "        if left_before_right := check_right_order(packet_a, packet_b):\n",
    "            packet_count_dict[packet_a] += 1\n",
    "        else:\n",
    "            packet_count_dict[packet_b] += 1\n",
    "            \n",
    "    correct_sort = sorted(packet_count_dict, key = packet_count_dict.get, reverse = True)\n",
    "    \n",
    "    return (correct_sort.index('[[2]]') + 1) * (correct_sort.index('[[6]]') + 1)"
   ]
  },
  {
   "cell_type": "code",
   "execution_count": 81,
   "metadata": {},
   "outputs": [
    {
     "name": "stdout",
     "output_type": "stream",
     "text": [
      "Test 0 passed: Input <('[1,1,3,1,1]', '[1,1,5,1,1]', '', '[[1],[2,3,4]]', '[[1],4]', '', '[9]', '[[8,7,6]]', '', '[[4,4],4,4]', '[[4,4],4,4,4]', '', '[7,7,7,7]', '[7,7,7]', '', '[]', '[3]', '', '[[[]]]', '[[]]', '', '[1,[2,[3,[4,[5,6,7]]]],8,9]', '[1,[2,[3,[4,[5,6,0]]]],8,9]')> gives output <140>.\n",
      "\n",
      "Congratulations! Looks like you cracked it! Good job!\n"
     ]
    }
   ],
   "source": [
    "# test part 2 solution\n",
    "\n",
    "test_code(part_2_solution, example_dict_part_2)"
   ]
  },
  {
   "cell_type": "code",
   "execution_count": 82,
   "metadata": {},
   "outputs": [
    {
     "data": {
      "text/plain": [
       "27648"
      ]
     },
     "execution_count": 82,
     "metadata": {},
     "output_type": "execute_result"
    }
   ],
   "source": [
    "part_2_solution(puzzle_input)"
   ]
  }
 ],
 "metadata": {
  "kernelspec": {
   "display_name": "Python 3.10.6 64-bit",
   "language": "python",
   "name": "python3"
  },
  "language_info": {
   "codemirror_mode": {
    "name": "ipython",
    "version": 3
   },
   "file_extension": ".py",
   "mimetype": "text/x-python",
   "name": "python",
   "nbconvert_exporter": "python",
   "pygments_lexer": "ipython3",
   "version": "3.10.6"
  },
  "orig_nbformat": 4,
  "vscode": {
   "interpreter": {
    "hash": "31f2aee4e71d21fbe5cf8b01ff0e069b9275f58929596ceb00d14d90e3e16cd6"
   }
  }
 },
 "nbformat": 4,
 "nbformat_minor": 2
}
