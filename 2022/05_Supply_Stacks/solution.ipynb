{
 "cells": [
  {
   "cell_type": "code",
   "execution_count": 26,
   "metadata": {},
   "outputs": [],
   "source": [
    "# import useful libraries\n",
    "\n",
    "import numpy as np\n",
    "import itertools\n",
    "from collections import Counter\n",
    "from utils import load_puzzle_input, test_code\n",
    "import re"
   ]
  },
  {
   "cell_type": "code",
   "execution_count": 2,
   "metadata": {},
   "outputs": [
    {
     "name": "stdout",
     "output_type": "stream",
     "text": [
      "['[W] [V]     [P]                    ', '[B] [T]     [C] [B]     [G]        ', '[G] [S]     [V] [H] [N] [T]        ']\n"
     ]
    }
   ],
   "source": [
    "# load puzzle input\n",
    "    \n",
    "puzzle_input = load_puzzle_input('input.txt')\n",
    "\n",
    "print(puzzle_input[:3])"
   ]
  },
  {
   "cell_type": "markdown",
   "metadata": {},
   "source": [
    "### Part 1"
   ]
  },
  {
   "cell_type": "code",
   "execution_count": 3,
   "metadata": {},
   "outputs": [],
   "source": [
    "# code for preparing and testing examples for part 1\n",
    "\n",
    "example_dict_part_1 = {\n",
    "    tuple(load_puzzle_input('example_1.txt')): 'CMZ'\n",
    "}"
   ]
  },
  {
   "cell_type": "code",
   "execution_count": 44,
   "metadata": {},
   "outputs": [],
   "source": [
    "def parse_stack_line(stack_line):\n",
    "    output_list = []\n",
    "    for block in [stack_line[i*4:(i+1)*4] for i in range(round(len(stack_line)/4))]:\n",
    "        if block.strip():\n",
    "            output_list.append(re.match('\\[(.)\\]', block).group(1))\n",
    "        else:\n",
    "            output_list.append('')\n",
    "    return output_list"
   ]
  },
  {
   "cell_type": "code",
   "execution_count": 81,
   "metadata": {},
   "outputs": [],
   "source": [
    "def parse_instructions_line(instructions_line_str):\n",
    "    return [int(re.match('move (\\d*) from (\\d*) to (\\d*)', instructions_line_str).group(i)) for i in range(1, 4)]"
   ]
  },
  {
   "cell_type": "code",
   "execution_count": 82,
   "metadata": {},
   "outputs": [],
   "source": [
    "def parse_puzzle_input(puzzle_input):\n",
    "    \n",
    "    first_time = True\n",
    "    move_instructions = False\n",
    "    stack_dict = {}\n",
    "    instructions_list = []\n",
    "\n",
    "    for line in puzzle_input:\n",
    "        \n",
    "        if first_time:\n",
    "            stack_dict = {\n",
    "                i: [] for i in range(len(parse_stack_line(line)))\n",
    "            }\n",
    "            first_time = False\n",
    "\n",
    "        if not move_instructions and line:\n",
    "            if '[' not in line:\n",
    "                move_instructions = True\n",
    "            else:\n",
    "                stack_line = parse_stack_line(line)\n",
    "                for idx, block in enumerate(stack_line):\n",
    "                    if block:\n",
    "                        stack_dict[idx].append(block)\n",
    "\n",
    "        if move_instructions and 'move' in line:\n",
    "            instructions_list.append(parse_instructions_line(line))\n",
    "\n",
    "    return stack_dict, instructions_list"
   ]
  },
  {
   "cell_type": "code",
   "execution_count": 83,
   "metadata": {},
   "outputs": [
    {
     "data": {
      "text/plain": [
       "({0: ['N', 'Z'], 1: ['D', 'C', 'M'], 2: ['P']},\n",
       " [[1, 2, 1], [3, 1, 3], [2, 2, 1], [1, 1, 2]])"
      ]
     },
     "execution_count": 83,
     "metadata": {},
     "output_type": "execute_result"
    }
   ],
   "source": [
    "parse_puzzle_input(list(example_dict_part_1.keys())[0])"
   ]
  },
  {
   "cell_type": "code",
   "execution_count": 96,
   "metadata": {},
   "outputs": [],
   "source": [
    "def update_stack_dict(stack_dict, instruction):\n",
    "    new_stack_dict = stack_dict.copy()\n",
    "    number_to_move, from_stack, to_stack = instruction\n",
    "    from_stack -= 1 # account for 0 index start\n",
    "    to_stack -= 1\n",
    "    from_stack_go, from_stack_stay = stack_dict[from_stack][:number_to_move], stack_dict[from_stack][number_to_move:]\n",
    "    from_stack_go.reverse()\n",
    "    new_stack_dict[from_stack] = from_stack_stay\n",
    "    new_stack_dict[to_stack] = from_stack_go + stack_dict[to_stack]\n",
    "    return new_stack_dict"
   ]
  },
  {
   "cell_type": "code",
   "execution_count": null,
   "metadata": {},
   "outputs": [],
   "source": [
    "def solve_part_1(puzzle_input):\n",
    "    output_str = ''\n",
    "    \n",
    "    stack_dict, instructions_list = parse_puzzle_input(puzzle_input)\n",
    "    for instruction in instructions_list:\n",
    "        stack_dict = update_stack_dict(stack_dict, instruction)\n",
    "    for stack in stack_dict:\n",
    "        if stack_dict[stack]:\n",
    "            output_str += stack_dict[stack][0]\n",
    "            \n",
    "    return output_str"
   ]
  },
  {
   "cell_type": "code",
   "execution_count": null,
   "metadata": {},
   "outputs": [],
   "source": [
    "# test part 1 solution\n",
    "\n",
    "# test_code(func, example_dict_part_1)"
   ]
  },
  {
   "cell_type": "code",
   "execution_count": 52,
   "metadata": {},
   "outputs": [
    {
     "name": "stdout",
     "output_type": "stream",
     "text": [
      "1\n",
      "2\n",
      "3\n"
     ]
    }
   ],
   "source": [
    "for i in range(1, 3+1):\n",
    "    print(re.match('move (\\d*) from (\\d*) to (\\d*)', 'move 1 from 2 to 3').group(i))"
   ]
  },
  {
   "cell_type": "markdown",
   "metadata": {},
   "source": [
    "### Part 2"
   ]
  },
  {
   "cell_type": "code",
   "execution_count": null,
   "metadata": {},
   "outputs": [],
   "source": [
    "# code for preparing and testing examples for part 2\n",
    "\n",
    "example_dict_part_2 = {\n",
    "    tuple(load_puzzle_input('example_1.txt')): \"example_output\"\n",
    "}"
   ]
  },
  {
   "cell_type": "code",
   "execution_count": null,
   "metadata": {},
   "outputs": [],
   "source": []
  },
  {
   "cell_type": "code",
   "execution_count": null,
   "metadata": {},
   "outputs": [],
   "source": [
    "# test part 2 solution\n",
    "\n",
    "# test_code(func, example_dict_part_2)"
   ]
  }
 ],
 "metadata": {
  "kernelspec": {
   "display_name": "Python 3.10.6 64-bit",
   "language": "python",
   "name": "python3"
  },
  "language_info": {
   "codemirror_mode": {
    "name": "ipython",
    "version": 3
   },
   "file_extension": ".py",
   "mimetype": "text/x-python",
   "name": "python",
   "nbconvert_exporter": "python",
   "pygments_lexer": "ipython3",
   "version": "3.10.6"
  },
  "orig_nbformat": 4,
  "vscode": {
   "interpreter": {
    "hash": "31f2aee4e71d21fbe5cf8b01ff0e069b9275f58929596ceb00d14d90e3e16cd6"
   }
  }
 },
 "nbformat": 4,
 "nbformat_minor": 2
}
