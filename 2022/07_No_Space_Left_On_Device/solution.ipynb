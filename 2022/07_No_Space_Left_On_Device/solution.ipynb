{
 "cells": [
  {
   "cell_type": "code",
   "execution_count": 1,
   "metadata": {},
   "outputs": [],
   "source": [
    "# import useful libraries\n",
    "\n",
    "import numpy as np\n",
    "import itertools\n",
    "from collections import Counter\n",
    "from utils import load_puzzle_input, test_code"
   ]
  },
  {
   "cell_type": "code",
   "execution_count": 2,
   "metadata": {},
   "outputs": [
    {
     "name": "stdout",
     "output_type": "stream",
     "text": [
      "['$ cd /', '$ ls', 'dir dpllhlcv']\n"
     ]
    }
   ],
   "source": [
    "# load puzzle input\n",
    "    \n",
    "puzzle_input = load_puzzle_input('input.txt')\n",
    "\n",
    "print(puzzle_input[:3])"
   ]
  },
  {
   "cell_type": "markdown",
   "metadata": {},
   "source": [
    "### Part 1"
   ]
  },
  {
   "cell_type": "code",
   "execution_count": 3,
   "metadata": {},
   "outputs": [],
   "source": [
    "# code for preparing and testing examples for part 1\n",
    "\n",
    "example_dict_part_1 = {\n",
    "    tuple(load_puzzle_input('example_1.txt')): 95437\n",
    "}"
   ]
  },
  {
   "cell_type": "code",
   "execution_count": 58,
   "metadata": {},
   "outputs": [],
   "source": [
    "def cd(command_str, current_directory):\n",
    "\n",
    "    # print(current_directory)\n",
    "\n",
    "    if command_str == '/':\n",
    "        current_directory = '/'\n",
    "    elif command_str not in {'..'}:\n",
    "        if current_directory == '/':\n",
    "            current_directory = f'/{command_str}'\n",
    "        else:\n",
    "            current_directory += f'/{command_str}'\n",
    "    else:\n",
    "        current_directory = '/'.join(current_directory.split('/')[:-1])\n",
    "        \n",
    "    if current_directory == '':\n",
    "        current_directory = '/'\n",
    "\n",
    "    # print(command_str)\n",
    "    # print(current_directory)\n",
    "    # print()\n",
    "\n",
    "    return current_directory"
   ]
  },
  {
   "cell_type": "code",
   "execution_count": 14,
   "metadata": {},
   "outputs": [],
   "source": [
    "def ls(item_list, current_directory, directory_tree):\n",
    "\n",
    "    # print(item_list)\n",
    "    # print(current_directory)\n",
    "    # print(directory_tree)\n",
    "\n",
    "    temp_dict = directory_tree\n",
    "    \n",
    "    temp_dict = temp_dict['/']\n",
    "\n",
    "    split_current_directory = current_directory.split('/')\n",
    "\n",
    "    # print(split_current_directory)\n",
    "\n",
    "    if current_directory != '/':\n",
    "        for directory in split_current_directory:\n",
    "            if directory != '':\n",
    "                temp_dict = temp_dict[directory]\n",
    "\n",
    "    # print(item_list)\n",
    "\n",
    "    for item in item_list:\n",
    "        \n",
    "        # print(item)\n",
    "\n",
    "        file_details, filename = item.split()\n",
    "        temp_dict[filename] = {} if file_details == 'dir' else int(file_details)\n",
    "        \n",
    "    return directory_tree"
   ]
  },
  {
   "cell_type": "code",
   "execution_count": 30,
   "metadata": {},
   "outputs": [],
   "source": [
    "def generate_directory_tree(puzzle_input):\n",
    "    current_directory = '/'\n",
    "    directory_tree = {'/': {}}\n",
    "    ls_capture = False\n",
    "    rolling_item_list = []\n",
    "    \n",
    "    for line in puzzle_input:\n",
    "\n",
    "        if line[0] == '$':\n",
    "            if ls_capture:\n",
    "                \n",
    "                directory_tree = ls(rolling_item_list, current_directory, directory_tree)\n",
    "                ls_capture = False\n",
    "                \n",
    "                # print(directory_tree)\n",
    "\n",
    "            if line[2:4] == 'cd':\n",
    "                current_directory = cd(line[5:], current_directory)\n",
    "            elif line[2:4] == 'ls':\n",
    "                ls_capture = True\n",
    "                rolling_item_list = []\n",
    "        elif ls_capture:\n",
    "            rolling_item_list.append(line)\n",
    "\n",
    "    if ls_capture:\n",
    "        directory_tree = ls(rolling_item_list, current_directory, directory_tree)\n",
    "\n",
    "    return directory_tree"
   ]
  },
  {
   "cell_type": "code",
   "execution_count": 108,
   "metadata": {},
   "outputs": [],
   "source": [
    "def calculate_directory_size(directory_dict, size_count = 0):\n",
    "    for item_name, item_details in directory_dict.items():\n",
    "        if type(item_details) is int:\n",
    "            size_count += item_details\n",
    "        else:\n",
    "            size_count += calculate_directory_size(directory_dict[item_name], size_count = 0)\n",
    "    return size_count"
   ]
  },
  {
   "cell_type": "code",
   "execution_count": 116,
   "metadata": {},
   "outputs": [],
   "source": [
    "def calculate_directory_sizes(directory_tree, size_list=None):\n",
    "    \n",
    "    temp_tree = directory_tree\n",
    "    \n",
    "    if size_list is None:\n",
    "        size_list = []\n",
    "\n",
    "    for item_name, item_details in temp_tree.items():\n",
    "        \n",
    "        # print(f\"{item_name}: {item_details}\")\n",
    "        \n",
    "        if type(item_details) is not int:\n",
    "            \n",
    "            # print(f\"{item_name}: {calculate_directory_size(directory_tree[item_name])}\")\n",
    "            \n",
    "            new_tuple = (item_name, calculate_directory_size(temp_tree[item_name]))\n",
    "\n",
    "            if new_tuple not in size_list:\n",
    "                size_list.append(new_tuple)\n",
    "\n",
    "            size_list.extend([x for x in calculate_directory_sizes(temp_tree[item_name], size_list = size_list) if x not in size_list])\n",
    "\n",
    "    return size_list\n",
    "\n"
   ]
  },
  {
   "cell_type": "code",
   "execution_count": 120,
   "metadata": {},
   "outputs": [],
   "source": [
    "def solve_part_1(puzzle_input):\n",
    "\n",
    "    directory_tree = generate_directory_tree(puzzle_input)\n",
    "\n",
    "    # print(directory_tree)\n",
    "    # print()\n",
    "\n",
    "    size_list = calculate_directory_sizes(directory_tree)\n",
    "    \n",
    "    # print(size_list)\n",
    "    \n",
    "    # print(list(size_dict.values()))\n",
    "    \n",
    "    # print([k for k, v in size_dict.items() if v <= 100000])\n",
    "\n",
    "    return sum(x[1] for x in size_list if x[1] <= 100000)\n"
   ]
  },
  {
   "cell_type": "code",
   "execution_count": 121,
   "metadata": {},
   "outputs": [
    {
     "name": "stdout",
     "output_type": "stream",
     "text": [
      "Test 0 passed: Input <('$ cd /', '$ ls', 'dir a', '14848514 b.txt', '8504156 c.dat', 'dir d', '$ cd a', '$ ls', 'dir e', '29116 f', '2557 g', '62596 h.lst', '$ cd e', '$ ls', '584 i', '$ cd ..', '$ cd ..', '$ cd d', '$ ls', '4060174 j', '8033020 d.log', '5626152 d.ext', '7214296 k')> gives output <95437>.\n",
      "\n",
      "Congratulations! Looks like you cracked it! Good job!\n"
     ]
    }
   ],
   "source": [
    "# test part 1 solution\n",
    "\n",
    "test_code(solve_part_1, example_dict_part_1)"
   ]
  },
  {
   "cell_type": "code",
   "execution_count": 122,
   "metadata": {},
   "outputs": [
    {
     "data": {
      "text/plain": [
       "1648397"
      ]
     },
     "execution_count": 122,
     "metadata": {},
     "output_type": "execute_result"
    }
   ],
   "source": [
    "solve_part_1(puzzle_input)"
   ]
  },
  {
   "cell_type": "markdown",
   "metadata": {},
   "source": [
    "### Part 2"
   ]
  },
  {
   "cell_type": "code",
   "execution_count": 123,
   "metadata": {},
   "outputs": [],
   "source": [
    "# code for preparing and testing examples for part 2\n",
    "\n",
    "example_dict_part_2 = {\n",
    "    tuple(load_puzzle_input('example_1.txt')): 24933642\n",
    "}"
   ]
  },
  {
   "cell_type": "code",
   "execution_count": 152,
   "metadata": {},
   "outputs": [],
   "source": [
    "def solve_part_2(puzzle_input):\n",
    "\n",
    "    directory_tree = generate_directory_tree(puzzle_input)\n",
    "\n",
    "    # print(directory_tree)\n",
    "    # print()\n",
    "\n",
    "    size_list = calculate_directory_sizes(directory_tree)\n",
    "    \n",
    "    used_space = size_list[0][1]\n",
    "    \n",
    "    required_space = 30000000\n",
    "    \n",
    "    available_space = 70000000 - used_space\n",
    "    \n",
    "    need_to_free_space = required_space - available_space\n",
    "    \n",
    "    # print(size_list)\n",
    "    \n",
    "    # print(list(size_dict.values()))\n",
    "    \n",
    "    # print([x[1] for x in size_list if x[1] >= need_to_free_space])\n",
    "\n",
    "    return min(x[1] for x in size_list if x[1] >= need_to_free_space)\n"
   ]
  },
  {
   "cell_type": "code",
   "execution_count": 153,
   "metadata": {},
   "outputs": [
    {
     "name": "stdout",
     "output_type": "stream",
     "text": [
      "Test 0 passed: Input <('$ cd /', '$ ls', 'dir a', '14848514 b.txt', '8504156 c.dat', 'dir d', '$ cd a', '$ ls', 'dir e', '29116 f', '2557 g', '62596 h.lst', '$ cd e', '$ ls', '584 i', '$ cd ..', '$ cd ..', '$ cd d', '$ ls', '4060174 j', '8033020 d.log', '5626152 d.ext', '7214296 k')> gives output <24933642>.\n",
      "\n",
      "Congratulations! Looks like you cracked it! Good job!\n"
     ]
    }
   ],
   "source": [
    "# test part 2 solution\n",
    "\n",
    "test_code(solve_part_2, example_dict_part_2)"
   ]
  },
  {
   "cell_type": "code",
   "execution_count": 154,
   "metadata": {},
   "outputs": [
    {
     "data": {
      "text/plain": [
       "1815525"
      ]
     },
     "execution_count": 154,
     "metadata": {},
     "output_type": "execute_result"
    }
   ],
   "source": [
    "solve_part_2(puzzle_input)"
   ]
  }
 ],
 "metadata": {
  "kernelspec": {
   "display_name": "Python 3.10.6 64-bit",
   "language": "python",
   "name": "python3"
  },
  "language_info": {
   "codemirror_mode": {
    "name": "ipython",
    "version": 3
   },
   "file_extension": ".py",
   "mimetype": "text/x-python",
   "name": "python",
   "nbconvert_exporter": "python",
   "pygments_lexer": "ipython3",
   "version": "3.10.6"
  },
  "orig_nbformat": 4,
  "vscode": {
   "interpreter": {
    "hash": "31f2aee4e71d21fbe5cf8b01ff0e069b9275f58929596ceb00d14d90e3e16cd6"
   }
  }
 },
 "nbformat": 4,
 "nbformat_minor": 2
}
