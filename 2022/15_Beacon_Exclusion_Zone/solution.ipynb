{
 "cells": [
  {
   "cell_type": "code",
   "execution_count": 2,
   "metadata": {},
   "outputs": [],
   "source": [
    "# import useful libraries\n",
    "\n",
    "import numpy as np\n",
    "import itertools\n",
    "from collections import Counter\n",
    "from utils import load_puzzle_input, test_code\n",
    "import re\n",
    "from tqdm import tqdm"
   ]
  },
  {
   "cell_type": "code",
   "execution_count": 3,
   "metadata": {},
   "outputs": [
    {
     "name": "stdout",
     "output_type": "stream",
     "text": [
      "['Sensor at x=2924811, y=3544081: closest beacon is at x=3281893, y=3687621', 'Sensor at x=2719183, y=2520103: closest beacon is at x=2872326, y=2415450', 'Sensor at x=3754787, y=3322726: closest beacon is at x=3281893, y=3687621']\n"
     ]
    }
   ],
   "source": [
    "# load puzzle input\n",
    "    \n",
    "puzzle_input = load_puzzle_input('input.txt')\n",
    "\n",
    "print(puzzle_input[:3])"
   ]
  },
  {
   "cell_type": "markdown",
   "metadata": {},
   "source": [
    "### Part 1"
   ]
  },
  {
   "cell_type": "code",
   "execution_count": 4,
   "metadata": {},
   "outputs": [],
   "source": [
    "# code for preparing and testing examples for part 1\n",
    "\n",
    "example_dict_part_1 = {\n",
    "    tuple(load_puzzle_input('example_1.txt')): 26\n",
    "}"
   ]
  },
  {
   "cell_type": "code",
   "execution_count": 5,
   "metadata": {},
   "outputs": [],
   "source": [
    "def parse_line(line):\n",
    "    \n",
    "    matches = re.search(r\"Sensor at x=(.*), y=(.*): closest beacon is at x=(.*), y=(.*)\", line)\n",
    "    \n",
    "    return [int(matches.group(x)) for x in range(1, 4+1)]"
   ]
  },
  {
   "cell_type": "code",
   "execution_count": 6,
   "metadata": {},
   "outputs": [],
   "source": [
    "def calculate_manhattan_distance(x1, y1, x2, y2):\n",
    "    \n",
    "    return sum([abs(x1 - x2), abs(y1 - y2)])"
   ]
  },
  {
   "cell_type": "code",
   "execution_count": 7,
   "metadata": {},
   "outputs": [],
   "source": [
    "def find_all_points_at_distance(distance, origin_x, origin_y, important_y):\n",
    "    \"\"\"Too slow for part 1...\"\"\"\n",
    "    \n",
    "    point_set = set()\n",
    "    \n",
    "    for new_x in range(origin_x - distance, origin_x + distance + 1):\n",
    "        \n",
    "        for new_y in range(origin_y - (distance - abs(origin_x - new_x)), origin_y + (distance - abs(origin_x - new_x)) + 1):\n",
    "            \n",
    "            if new_y == important_y:\n",
    "            \n",
    "                point_set.add((new_x, new_y))\n",
    "            \n",
    "    return point_set"
   ]
  },
  {
   "cell_type": "code",
   "execution_count": 20,
   "metadata": {},
   "outputs": [],
   "source": [
    "def find_x_points_at_distance_on_y(distance, origin_x, origin_y, important_y):\n",
    "    \n",
    "    x_set = set()\n",
    "\n",
    "    if important_y in range(origin_y - distance, origin_y + distance + 1):\n",
    "        \n",
    "        for new_x in range(origin_x - (distance - abs(origin_y - important_y)), origin_x + (distance - abs(origin_y - important_y)) + 1):\n",
    "            \n",
    "            x_set.add(new_x)\n",
    "            \n",
    "    return x_set"
   ]
  },
  {
   "cell_type": "code",
   "execution_count": 29,
   "metadata": {},
   "outputs": [],
   "source": [
    "def identify_beacon_absence_points(sensor_x, sensor_y, beacon_x, beacon_y, important_y):\n",
    "    \"\"\"adjusted to now only store x values\"\"\"\n",
    "    \n",
    "    distance = calculate_manhattan_distance(sensor_x, sensor_y, beacon_x, beacon_y)\n",
    "    \n",
    "    # null_points = find_all_points_at_distance(distance, sensor_x, sensor_y, important_y)\n",
    "    null_x_points = find_x_points_at_distance_on_y(distance, sensor_x, sensor_y, important_y)\n",
    "    \n",
    "    return {x for x in null_x_points if (x, important_y) != (beacon_x, beacon_y)}"
   ]
  },
  {
   "cell_type": "code",
   "execution_count": 35,
   "metadata": {},
   "outputs": [],
   "source": [
    "def part_1_solution(puzzle_input, y = 2000000):\n",
    "    \"\"\" note: y is 10 for test, 2000000 for live \"\"\"\n",
    "    \n",
    "    null_point_set = set()\n",
    "    \n",
    "    for line in tqdm(puzzle_input):\n",
    "        \n",
    "        sensor_x, sensor_y, beacon_x, beacon_y = parse_line(line)\n",
    "        \n",
    "        for new_null_point in identify_beacon_absence_points(sensor_x, sensor_y, beacon_x, beacon_y, y):\n",
    "            \n",
    "            # print(f\"sensor @: {(sensor_x, sensor_y)}, beacon @: {beacon_x, beacon_y}, null_point: {new_null_point}\")\n",
    "            \n",
    "            null_point_set.add(new_null_point)\n",
    "            \n",
    "    return len(null_point_set)"
   ]
  },
  {
   "cell_type": "code",
   "execution_count": 33,
   "metadata": {},
   "outputs": [
    {
     "name": "stderr",
     "output_type": "stream",
     "text": [
      "100%|██████████| 14/14 [00:00<00:00, 81217.50it/s]"
     ]
    },
    {
     "name": "stdout",
     "output_type": "stream",
     "text": [
      "Test 0 passed: Input <('Sensor at x=2, y=18: closest beacon is at x=-2, y=15', 'Sensor at x=9, y=16: closest beacon is at x=10, y=16', 'Sensor at x=13, y=2: closest beacon is at x=15, y=3', 'Sensor at x=12, y=14: closest beacon is at x=10, y=16', 'Sensor at x=10, y=20: closest beacon is at x=10, y=16', 'Sensor at x=14, y=17: closest beacon is at x=10, y=16', 'Sensor at x=8, y=7: closest beacon is at x=2, y=10', 'Sensor at x=2, y=0: closest beacon is at x=2, y=10', 'Sensor at x=0, y=11: closest beacon is at x=2, y=10', 'Sensor at x=20, y=14: closest beacon is at x=25, y=17', 'Sensor at x=17, y=20: closest beacon is at x=21, y=22', 'Sensor at x=16, y=7: closest beacon is at x=15, y=3', 'Sensor at x=14, y=3: closest beacon is at x=15, y=3', 'Sensor at x=20, y=1: closest beacon is at x=15, y=3')> gives output <26>.\n",
      "\n",
      "Congratulations! Looks like you cracked it! Good job!\n"
     ]
    },
    {
     "name": "stderr",
     "output_type": "stream",
     "text": [
      "\n"
     ]
    }
   ],
   "source": [
    "# test part 1 solution\n",
    "\n",
    "test_code(part_1_solution, example_dict_part_1)"
   ]
  },
  {
   "cell_type": "code",
   "execution_count": 36,
   "metadata": {},
   "outputs": [
    {
     "name": "stderr",
     "output_type": "stream",
     "text": [
      "100%|██████████| 24/24 [00:03<00:00,  7.38it/s]\n"
     ]
    },
    {
     "data": {
      "text/plain": [
       "5040643"
      ]
     },
     "execution_count": 36,
     "metadata": {},
     "output_type": "execute_result"
    }
   ],
   "source": [
    "part_1_solution(puzzle_input)"
   ]
  },
  {
   "cell_type": "markdown",
   "metadata": {},
   "source": [
    "### Part 2"
   ]
  },
  {
   "cell_type": "code",
   "execution_count": 37,
   "metadata": {},
   "outputs": [],
   "source": [
    "# code for preparing and testing examples for part 2\n",
    "\n",
    "example_dict_part_2 = {\n",
    "    tuple(load_puzzle_input('example_1.txt')): 56000011\n",
    "}"
   ]
  },
  {
   "cell_type": "code",
   "execution_count": 38,
   "metadata": {},
   "outputs": [],
   "source": [
    "def calculate_tuning_frequency(x, y):\n",
    "    return (x * 4000000) + y"
   ]
  },
  {
   "cell_type": "code",
   "execution_count": 68,
   "metadata": {},
   "outputs": [],
   "source": [
    "def find_x_points_at_distance_on_y_maxed(distance, origin_x, origin_y, important_y, max_x):\n",
    "    \n",
    "    x_set = set()\n",
    "\n",
    "    if important_y in range(origin_y - distance, origin_y + distance + 1):\n",
    "        \n",
    "        for new_x in range(max(0, origin_x - (distance - abs(origin_y - important_y))), min(max_x, origin_x + (distance - abs(origin_y - important_y)) + 1)):\n",
    "            \n",
    "            x_set.add(new_x)\n",
    "            \n",
    "    return x_set"
   ]
  },
  {
   "cell_type": "code",
   "execution_count": 65,
   "metadata": {},
   "outputs": [],
   "source": [
    "def identify_beacon_absence_points_maxed(sensor_x, sensor_y, beacon_x, beacon_y, important_y, max_x):\n",
    "    \"\"\"adjusted to now only store x values\"\"\"\n",
    "    \n",
    "    distance = calculate_manhattan_distance(sensor_x, sensor_y, beacon_x, beacon_y)\n",
    "    \n",
    "    # null_points = find_all_points_at_distance(distance, sensor_x, sensor_y, important_y)\n",
    "    null_x_points = find_x_points_at_distance_on_y_maxed(distance, sensor_x, sensor_y, important_y, max_x)\n",
    "    \n",
    "    return {x for x in null_x_points if (x, important_y) != (beacon_x, beacon_y)}"
   ]
  },
  {
   "cell_type": "code",
   "execution_count": 87,
   "metadata": {},
   "outputs": [],
   "source": [
    "def identify_all_beacon_absences(parsed_line_list, y, max):\n",
    "    \n",
    "    absences_set = set()\n",
    "    \n",
    "    for sensor_x, sensor_y, beacon_x, beacon_y in parsed_line_list:\n",
    "        \n",
    "        for absence_x in identify_beacon_absence_points_maxed(sensor_x, sensor_y, beacon_x, beacon_y, y, max):\n",
    "            \n",
    "            absences_set.add(absence_x)\n",
    "            \n",
    "        if beacon_y == y:\n",
    "            \n",
    "            absences_set.add(beacon_x)\n",
    "            \n",
    "    return absences_set"
   ]
  },
  {
   "cell_type": "code",
   "execution_count": 97,
   "metadata": {},
   "outputs": [],
   "source": [
    "def identify_1_range_out_points(sensor_x, sensor_y, beacon_x, beacon_y, max):\n",
    "    \n",
    "    point_set = set()\n",
    "    \n",
    "    distance = calculate_manhattan_distance(sensor_x, sensor_y, beacon_x, beacon_y)\n",
    "\n",
    "    for new_y in range(sensor_y - distance - 1, sensor_y + distance + 2):\n",
    "           \n",
    "        # for new_x in range(origin_x - (distance - abs(origin_y - important_y)), origin_x + (distance - abs(origin_y - important_y)) + 1):\n",
    "            \n",
    "        #     x_set.add(new_x)\n",
    "        \n",
    "        point_set.add(\n",
    "            (\n",
    "                sensor_x - (distance - abs(sensor_y - new_y)), \n",
    "                new_y\n",
    "            )\n",
    "        )\n",
    "        \n",
    "        point_set.add(\n",
    "            (\n",
    "                sensor_x + (distance - abs(sensor_y - new_y)) + 1, \n",
    "                new_y\n",
    "            )\n",
    "        )\n",
    "            \n",
    "    return point_set"
   ]
  },
  {
   "cell_type": "code",
   "execution_count": 99,
   "metadata": {},
   "outputs": [
    {
     "data": {
      "text/plain": [
       "{(-2, 0),\n",
       " (-1, -1),\n",
       " (-1, 1),\n",
       " (0, -3),\n",
       " (0, -2),\n",
       " (0, 2),\n",
       " (0, 3),\n",
       " (1, -3),\n",
       " (1, -2),\n",
       " (1, 2),\n",
       " (1, 3),\n",
       " (2, -1),\n",
       " (2, 1),\n",
       " (3, 0)}"
      ]
     },
     "execution_count": 99,
     "metadata": {},
     "output_type": "execute_result"
    }
   ],
   "source": [
    "identify_1_range_out_points(0, 0, 2, 0, 10)"
   ]
  },
  {
   "cell_type": "code",
   "execution_count": 95,
   "metadata": {},
   "outputs": [],
   "source": [
    "def part_2_solution(puzzle_input, max = 4000000):\n",
    "    \"\"\" note: max is 20 for test, 4000000 for live\"\"\"\n",
    "    \n",
    "    parsed_line_list = [parse_line(line) for line in puzzle_input]\n",
    "\n",
    "    for y in tqdm(range(max + 1)):\n",
    "        \n",
    "        # absences = [list(identify_beacon_absence_points_maxed(sensor_x, sensor_y, beacon_x, beacon_y, y, max)) for sensor_x, sensor_y, beacon_x, beacon_y in parsed_line_list]\n",
    "        # beacons = [beacon_x for _, _, beacon_x, beacon_y in parsed_line_list if beacon_y == y]\n",
    "        # absences.append(beacons)\n",
    "        # absences = [item for sublist in absences for item in sublist] # flatten list\n",
    "        # absences_set = set(absences)\n",
    "        \n",
    "        absences_set = identify_all_beacon_absences(parsed_line_list, y, max)\n",
    "        \n",
    "        # print(absences_set)\n",
    "        \n",
    "        if len(absences_set) != max:\n",
    "            \n",
    "            print('here we go...')\n",
    "\n",
    "            for x in range(max + 1):\n",
    "\n",
    "                if x not in absences_set:\n",
    "                    \n",
    "                    print(f\"solution: {x}, {y}\")\n",
    "\n",
    "                    return calculate_tuning_frequency(x, y)\n",
    "\n",
    "    return None"
   ]
  },
  {
   "cell_type": "code",
   "execution_count": 93,
   "metadata": {},
   "outputs": [
    {
     "name": "stderr",
     "output_type": "stream",
     "text": [
      " 52%|█████▏    | 11/21 [00:00<00:00, 12151.00it/s]"
     ]
    },
    {
     "name": "stdout",
     "output_type": "stream",
     "text": [
      "{0, 1, 2, 3, 4, 5, 6, 7, 8, 9, 10, 11, 12, 13, 14, 15, 16, 17, 18, 19}\n",
      "{0, 1, 2, 3, 4, 5, 6, 7, 8, 9, 10, 11, 12, 13, 14, 15, 16, 17, 18, 19}\n",
      "{0, 1, 2, 3, 4, 5, 6, 7, 8, 9, 10, 11, 12, 13, 14, 15, 16, 17, 18, 19}\n",
      "{0, 1, 2, 3, 4, 5, 6, 7, 8, 9, 10, 11, 12, 13, 14, 15, 16, 17, 18, 19}\n",
      "{0, 1, 2, 3, 4, 5, 6, 7, 8, 9, 10, 11, 12, 13, 14, 15, 16, 17, 18, 19}\n",
      "{0, 1, 2, 3, 4, 5, 6, 7, 8, 9, 10, 11, 12, 13, 14, 15, 16, 17, 18, 19}\n",
      "{0, 1, 2, 3, 4, 5, 6, 7, 8, 9, 10, 11, 12, 13, 14, 15, 16, 17, 18, 19}\n",
      "{0, 1, 2, 3, 4, 5, 6, 7, 8, 9, 10, 11, 12, 13, 14, 15, 16, 17, 18, 19}\n",
      "{0, 1, 2, 3, 4, 5, 6, 7, 8, 9, 10, 11, 12, 13, 14, 15, 16, 17, 18, 19}\n",
      "{0, 1, 2, 3, 4, 5, 6, 7, 8, 9, 10, 11, 12, 13, 14, 15, 16, 17, 18, 19}\n",
      "{0, 1, 2, 3, 4, 5, 6, 7, 8, 9, 10, 11, 12, 13, 14, 15, 16, 17, 18, 19}\n",
      "{0, 1, 2, 3, 4, 5, 6, 7, 8, 9, 10, 11, 12, 13, 15, 16, 17, 18, 19}\n",
      "here we go...\n",
      "solution: 14, 11\n",
      "Test 0 passed: Input <('Sensor at x=2, y=18: closest beacon is at x=-2, y=15', 'Sensor at x=9, y=16: closest beacon is at x=10, y=16', 'Sensor at x=13, y=2: closest beacon is at x=15, y=3', 'Sensor at x=12, y=14: closest beacon is at x=10, y=16', 'Sensor at x=10, y=20: closest beacon is at x=10, y=16', 'Sensor at x=14, y=17: closest beacon is at x=10, y=16', 'Sensor at x=8, y=7: closest beacon is at x=2, y=10', 'Sensor at x=2, y=0: closest beacon is at x=2, y=10', 'Sensor at x=0, y=11: closest beacon is at x=2, y=10', 'Sensor at x=20, y=14: closest beacon is at x=25, y=17', 'Sensor at x=17, y=20: closest beacon is at x=21, y=22', 'Sensor at x=16, y=7: closest beacon is at x=15, y=3', 'Sensor at x=14, y=3: closest beacon is at x=15, y=3', 'Sensor at x=20, y=1: closest beacon is at x=15, y=3')> gives output <56000011>.\n",
      "\n",
      "Congratulations! Looks like you cracked it! Good job!\n"
     ]
    },
    {
     "name": "stderr",
     "output_type": "stream",
     "text": [
      "\n"
     ]
    }
   ],
   "source": [
    "# test part 2 solution\n",
    "\n",
    "test_code(part_2_solution, example_dict_part_2)"
   ]
  },
  {
   "cell_type": "code",
   "execution_count": 96,
   "metadata": {},
   "outputs": [
    {
     "name": "stderr",
     "output_type": "stream",
     "text": [
      "  0%|          | 22/4000001 [00:49<2505:07:50,  2.25s/it]\n"
     ]
    },
    {
     "ename": "KeyboardInterrupt",
     "evalue": "",
     "output_type": "error",
     "traceback": [
      "\u001b[0;31m---------------------------------------------------------------------------\u001b[0m",
      "\u001b[0;31mKeyboardInterrupt\u001b[0m                         Traceback (most recent call last)",
      "\u001b[0;32m/tmp/ipykernel_14790/2872620019.py\u001b[0m in \u001b[0;36m<module>\u001b[0;34m\u001b[0m\n\u001b[0;32m----> 1\u001b[0;31m \u001b[0mpart_2_solution\u001b[0m\u001b[0;34m(\u001b[0m\u001b[0mpuzzle_input\u001b[0m\u001b[0;34m)\u001b[0m\u001b[0;34m\u001b[0m\u001b[0;34m\u001b[0m\u001b[0m\n\u001b[0m",
      "\u001b[0;32m/tmp/ipykernel_14790/729454177.py\u001b[0m in \u001b[0;36mpart_2_solution\u001b[0;34m(puzzle_input, max)\u001b[0m\n\u001b[1;32m     12\u001b[0m         \u001b[0;31m# absences_set = set(absences)\u001b[0m\u001b[0;34m\u001b[0m\u001b[0;34m\u001b[0m\u001b[0;34m\u001b[0m\u001b[0m\n\u001b[1;32m     13\u001b[0m \u001b[0;34m\u001b[0m\u001b[0m\n\u001b[0;32m---> 14\u001b[0;31m         \u001b[0mabsences_set\u001b[0m \u001b[0;34m=\u001b[0m \u001b[0midentify_all_beacon_absences\u001b[0m\u001b[0;34m(\u001b[0m\u001b[0mparsed_line_list\u001b[0m\u001b[0;34m,\u001b[0m \u001b[0my\u001b[0m\u001b[0;34m,\u001b[0m \u001b[0mmax\u001b[0m\u001b[0;34m)\u001b[0m\u001b[0;34m\u001b[0m\u001b[0;34m\u001b[0m\u001b[0m\n\u001b[0m\u001b[1;32m     15\u001b[0m \u001b[0;34m\u001b[0m\u001b[0m\n\u001b[1;32m     16\u001b[0m         \u001b[0;31m# print(absences_set)\u001b[0m\u001b[0;34m\u001b[0m\u001b[0;34m\u001b[0m\u001b[0;34m\u001b[0m\u001b[0m\n",
      "\u001b[0;32m/tmp/ipykernel_14790/101309859.py\u001b[0m in \u001b[0;36midentify_all_beacon_absences\u001b[0;34m(parsed_line_list, y, max)\u001b[0m\n\u001b[1;32m      5\u001b[0m     \u001b[0;32mfor\u001b[0m \u001b[0msensor_x\u001b[0m\u001b[0;34m,\u001b[0m \u001b[0msensor_y\u001b[0m\u001b[0;34m,\u001b[0m \u001b[0mbeacon_x\u001b[0m\u001b[0;34m,\u001b[0m \u001b[0mbeacon_y\u001b[0m \u001b[0;32min\u001b[0m \u001b[0mparsed_line_list\u001b[0m\u001b[0;34m:\u001b[0m\u001b[0;34m\u001b[0m\u001b[0;34m\u001b[0m\u001b[0m\n\u001b[1;32m      6\u001b[0m \u001b[0;34m\u001b[0m\u001b[0m\n\u001b[0;32m----> 7\u001b[0;31m         \u001b[0;32mfor\u001b[0m \u001b[0mabsence_x\u001b[0m \u001b[0;32min\u001b[0m \u001b[0midentify_beacon_absence_points_maxed\u001b[0m\u001b[0;34m(\u001b[0m\u001b[0msensor_x\u001b[0m\u001b[0;34m,\u001b[0m \u001b[0msensor_y\u001b[0m\u001b[0;34m,\u001b[0m \u001b[0mbeacon_x\u001b[0m\u001b[0;34m,\u001b[0m \u001b[0mbeacon_y\u001b[0m\u001b[0;34m,\u001b[0m \u001b[0my\u001b[0m\u001b[0;34m,\u001b[0m \u001b[0mmax\u001b[0m\u001b[0;34m)\u001b[0m\u001b[0;34m:\u001b[0m\u001b[0;34m\u001b[0m\u001b[0;34m\u001b[0m\u001b[0m\n\u001b[0m\u001b[1;32m      8\u001b[0m \u001b[0;34m\u001b[0m\u001b[0m\n\u001b[1;32m      9\u001b[0m             \u001b[0mabsences_set\u001b[0m\u001b[0;34m.\u001b[0m\u001b[0madd\u001b[0m\u001b[0;34m(\u001b[0m\u001b[0mabsence_x\u001b[0m\u001b[0;34m)\u001b[0m\u001b[0;34m\u001b[0m\u001b[0;34m\u001b[0m\u001b[0m\n",
      "\u001b[0;31mKeyboardInterrupt\u001b[0m: "
     ]
    }
   ],
   "source": [
    "part_2_solution(puzzle_input)"
   ]
  },
  {
   "cell_type": "code",
   "execution_count": null,
   "metadata": {},
   "outputs": [],
   "source": []
  }
 ],
 "metadata": {
  "kernelspec": {
   "display_name": "base",
   "language": "python",
   "name": "python3"
  },
  "language_info": {
   "codemirror_mode": {
    "name": "ipython",
    "version": 3
   },
   "file_extension": ".py",
   "mimetype": "text/x-python",
   "name": "python",
   "nbconvert_exporter": "python",
   "pygments_lexer": "ipython3",
   "version": "3.7.12"
  },
  "orig_nbformat": 4,
  "vscode": {
   "interpreter": {
    "hash": "da4ca1177cb7c45aa8cdfed4af725fb645bb4c5d1e0ddf738a1ef61223310061"
   }
  }
 },
 "nbformat": 4,
 "nbformat_minor": 2
}
