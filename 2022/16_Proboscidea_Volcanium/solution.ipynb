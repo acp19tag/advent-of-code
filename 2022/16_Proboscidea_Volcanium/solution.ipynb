{
 "cells": [
  {
   "cell_type": "code",
   "execution_count": 1,
   "metadata": {},
   "outputs": [],
   "source": [
    "# import useful libraries\n",
    "\n",
    "import numpy as np\n",
    "import itertools\n",
    "from collections import Counter\n",
    "from utils import load_puzzle_input, test_code\n",
    "import re\n",
    "import networkx as nx"
   ]
  },
  {
   "cell_type": "code",
   "execution_count": 2,
   "metadata": {},
   "outputs": [
    {
     "name": "stdout",
     "output_type": "stream",
     "text": [
      "['Valve TN has flow rate=0; tunnels lead to valves IX, ZZ', 'Valve DS has flow rate=0; tunnels lead to valves IF, OU', 'Valve OP has flow rate=0; tunnels lead to valves UH, ZQ']\n"
     ]
    }
   ],
   "source": [
    "# load puzzle input\n",
    "    \n",
    "puzzle_input = load_puzzle_input('input.txt')\n",
    "\n",
    "print(puzzle_input[:3])"
   ]
  },
  {
   "cell_type": "markdown",
   "metadata": {},
   "source": [
    "### Part 1"
   ]
  },
  {
   "cell_type": "code",
   "execution_count": 3,
   "metadata": {},
   "outputs": [],
   "source": [
    "# code for preparing and testing examples for part 1\n",
    "\n",
    "example_dict_part_1 = {\n",
    "    tuple(load_puzzle_input('example_1.txt')): 1651\n",
    "}"
   ]
  },
  {
   "cell_type": "code",
   "execution_count": 4,
   "metadata": {},
   "outputs": [],
   "source": [
    "def parse_puzzle_input(puzzle_input):\n",
    "    \n",
    "    output_list = []\n",
    "    \n",
    "    for line in puzzle_input:\n",
    "    \n",
    "        matches = re.search(r\"Valve (.{2}) has flow rate=(\\d*); .* valve[s]* (.*)\", line)\n",
    "        \n",
    "        output_list.append([matches.group(x) for x in range(1, 3+1)])\n",
    "    \n",
    "    return output_list"
   ]
  },
  {
   "cell_type": "code",
   "execution_count": 5,
   "metadata": {},
   "outputs": [],
   "source": [
    "def build_valve_dict(parsed_puzzle_input):\n",
    "    \n",
    "    return {\n",
    "        valve_name: {\n",
    "            \"flow\": int(flow_rate_str),\n",
    "            \"tunnels\": tunnels.split(\", \"),\n",
    "        }\n",
    "        for valve_name, flow_rate_str, tunnels in parsed_puzzle_input\n",
    "    }"
   ]
  },
  {
   "cell_type": "code",
   "execution_count": 6,
   "metadata": {},
   "outputs": [],
   "source": [
    "def generate_graph(valve_dict):\n",
    "    \n",
    "    G = nx.DiGraph()\n",
    "    \n",
    "    for valve_name, valve_info in valve_dict.items():\n",
    "        \n",
    "        G.add_node(valve_name, flow=valve_info[\"flow\"])\n",
    "        \n",
    "        for tunnel in valve_info[\"tunnels\"]:\n",
    "            \n",
    "            G.add_edge(valve_name, tunnel)\n",
    "            \n",
    "    return G"
   ]
  },
  {
   "cell_type": "code",
   "execution_count": 7,
   "metadata": {},
   "outputs": [],
   "source": [
    "def find_shortest_path_length(start, finish, G):\n",
    "    \n",
    "    return nx.shortest_path_length(G, start, finish)"
   ]
  },
  {
   "cell_type": "code",
   "execution_count": 36,
   "metadata": {},
   "outputs": [],
   "source": [
    "def decide_next_valve(start, remaining_time, G, opened_valves = set()):\n",
    "    \n",
    "    unopened_nodes = set(G.nodes) - opened_valves\n",
    "\n",
    "    if not len(unopened_nodes):\n",
    "        return None, 1\n",
    "\n",
    "    next_node_value_dict = {}\n",
    "    next_node_time_dict = {}\n",
    "\n",
    "    for next_node in unopened_nodes:\n",
    "\n",
    "        time_taken = find_shortest_path_length(start, next_node, G) + 1\n",
    "\n",
    "        if time_taken <= remaining_time:\n",
    "\n",
    "            next_node_value_dict[next_node] = G.nodes[next_node][\"flow\"] * (remaining_time - time_taken - 1)\n",
    "            next_node_time_dict[next_node] = time_taken\n",
    "\n",
    "    print(next_node_value_dict)\n",
    "    print(next_node_time_dict)\n",
    "    print()\n",
    "\n",
    "    return (\n",
    "        (\n",
    "            max(next_node_value_dict, key=next_node_value_dict.get),\n",
    "            next_node_time_dict[\n",
    "                max(next_node_value_dict, key=next_node_value_dict.get)\n",
    "            ],\n",
    "        )\n",
    "        if len(next_node_value_dict)\n",
    "        else (None, 1)\n",
    "    )"
   ]
  },
  {
   "cell_type": "code",
   "execution_count": 37,
   "metadata": {},
   "outputs": [],
   "source": [
    "def calculate_total_flow(open_sequence, G):\n",
    "    \n",
    "    return sum(\n",
    "        G.nodes[node][\"flow\"] * (30 - idx - 1)\n",
    "        for idx, node in enumerate(open_sequence)\n",
    "        if node\n",
    "    )"
   ]
  },
  {
   "cell_type": "code",
   "execution_count": 38,
   "metadata": {},
   "outputs": [],
   "source": [
    "def part_1_solution(puzzle_input):\n",
    "    \n",
    "    parsed_puzzle_input = parse_puzzle_input(puzzle_input)\n",
    "\n",
    "    valve_dict = build_valve_dict(parsed_puzzle_input)\n",
    "\n",
    "    Graph = generate_graph(valve_dict)\n",
    "    \n",
    "    # print(\n",
    "    #     calculate_total_flow(\n",
    "    #         [None, 'DD', None, None, 'BB', None, None, None, 'JJ', None, None, None, None, None, None, None, 'HH', None, None, None, 'EE', None, None, 'CC', None, None, None, None, None, None],\n",
    "    #         Graph\n",
    "    #     )\n",
    "    # )\n",
    "\n",
    "    opened_valves = set()\n",
    "    start = \"AA\"\n",
    "    open_sequence = []\n",
    "\n",
    "    remaining_time = 30\n",
    "\n",
    "    while remaining_time > 0:\n",
    "        \n",
    "        next_valve, time_taken = decide_next_valve(start, remaining_time, Graph, opened_valves)\n",
    "        \n",
    "        # print(f\"next_valve: {next_valve}, time_taken: {time_taken}\")\n",
    "        \n",
    "        open_sequence.extend(None for _ in range(time_taken))\n",
    "        open_sequence.append(next_valve)\n",
    "        opened_valves.add(next_valve)\n",
    "        start = next_valve\n",
    "        remaining_time -= time_taken\n",
    "\n",
    "    print(open_sequence)    \n",
    "\n",
    "    return calculate_total_flow(open_sequence, Graph)"
   ]
  },
  {
   "cell_type": "code",
   "execution_count": 39,
   "metadata": {},
   "outputs": [
    {
     "name": "stdout",
     "output_type": "stream",
     "text": [
      "{'JJ': 546, 'FF': 0, 'GG': 0, 'EE': 78, 'DD': 540, 'II': 0, 'AA': 0, 'CC': 52, 'BB': 351, 'HH': 506}\n",
      "{'JJ': 3, 'FF': 4, 'GG': 5, 'EE': 3, 'DD': 2, 'II': 2, 'AA': 1, 'CC': 3, 'BB': 2, 'HH': 6}\n",
      "\n",
      "{'FF': 0, 'GG': 0, 'EE': 63, 'DD': 440, 'II': 0, 'AA': 0, 'CC': 42, 'BB': 286, 'HH': 396}\n",
      "{'FF': 6, 'GG': 7, 'EE': 5, 'DD': 4, 'II': 2, 'AA': 3, 'CC': 5, 'BB': 4, 'HH': 8}\n",
      "\n",
      "{'GG': 0, 'FF': 0, 'EE': 60, 'II': 0, 'AA': 0, 'CC': 40, 'BB': 247, 'HH': 374}\n",
      "{'GG': 4, 'FF': 3, 'EE': 2, 'II': 3, 'AA': 2, 'CC': 2, 'BB': 3, 'HH': 5}\n",
      "\n",
      "{'GG': 0, 'FF': 0, 'EE': 39, 'II': 0, 'AA': 0, 'CC': 22, 'BB': 130}\n",
      "{'GG': 2, 'FF': 3, 'EE': 4, 'II': 7, 'AA': 6, 'CC': 6, 'BB': 7}\n",
      "\n",
      "{'GG': 0, 'FF': 0, 'EE': 18, 'II': 0, 'AA': 0, 'CC': 16}\n",
      "{'GG': 6, 'FF': 5, 'EE': 4, 'II': 3, 'AA': 2, 'CC': 2}\n",
      "\n",
      "{'GG': 0, 'FF': 0, 'II': 0, 'AA': 0, 'CC': 6}\n",
      "{'GG': 3, 'FF': 2, 'II': 4, 'AA': 3, 'CC': 3}\n",
      "\n",
      "{'FF': 0, 'AA': 0, 'II': 0}\n",
      "{'FF': 4, 'AA': 3, 'II': 4}\n",
      "\n",
      "[None, None, None, 'JJ', None, None, None, None, 'DD', None, None, None, None, None, 'HH', None, None, None, None, None, None, None, 'BB', None, None, None, None, 'EE', None, None, None, 'CC', None, None, None, None, 'FF']\n",
      "{'JJ': 546, 'FF': 0, 'GG': 0, 'EE': 78, 'DD': 540, 'II': 0, 'AA': 0, 'CC': 52, 'BB': 351, 'HH': 506}\n",
      "{'JJ': 3, 'FF': 4, 'GG': 5, 'EE': 3, 'DD': 2, 'II': 2, 'AA': 1, 'CC': 3, 'BB': 2, 'HH': 6}\n",
      "\n",
      "{'FF': 0, 'GG': 0, 'EE': 63, 'DD': 440, 'II': 0, 'AA': 0, 'CC': 42, 'BB': 286, 'HH': 396}\n",
      "{'FF': 6, 'GG': 7, 'EE': 5, 'DD': 4, 'II': 2, 'AA': 3, 'CC': 5, 'BB': 4, 'HH': 8}\n",
      "\n",
      "{'GG': 0, 'FF': 0, 'EE': 60, 'II': 0, 'AA': 0, 'CC': 40, 'BB': 247, 'HH': 374}\n",
      "{'GG': 4, 'FF': 3, 'EE': 2, 'II': 3, 'AA': 2, 'CC': 2, 'BB': 3, 'HH': 5}\n",
      "\n",
      "{'GG': 0, 'FF': 0, 'EE': 39, 'II': 0, 'AA': 0, 'CC': 22, 'BB': 130}\n",
      "{'GG': 2, 'FF': 3, 'EE': 4, 'II': 7, 'AA': 6, 'CC': 6, 'BB': 7}\n",
      "\n",
      "{'GG': 0, 'FF': 0, 'EE': 18, 'II': 0, 'AA': 0, 'CC': 16}\n",
      "{'GG': 6, 'FF': 5, 'EE': 4, 'II': 3, 'AA': 2, 'CC': 2}\n",
      "\n",
      "{'GG': 0, 'FF': 0, 'II': 0, 'AA': 0, 'CC': 6}\n",
      "{'GG': 3, 'FF': 2, 'II': 4, 'AA': 3, 'CC': 3}\n",
      "\n",
      "{'FF': 0, 'AA': 0, 'II': 0}\n",
      "{'FF': 4, 'AA': 3, 'II': 4}\n",
      "\n",
      "[None, None, None, 'JJ', None, None, None, None, 'DD', None, None, None, None, None, 'HH', None, None, None, None, None, None, None, 'BB', None, None, None, None, 'EE', None, None, None, 'CC', None, None, None, None, 'FF']\n",
      "Test 0 failed: Input <('Valve AA has flow rate=0; tunnels lead to valves DD, II, BB', 'Valve BB has flow rate=13; tunnels lead to valves CC, AA', 'Valve CC has flow rate=2; tunnels lead to valves DD, BB', 'Valve DD has flow rate=20; tunnels lead to valves CC, AA, EE', 'Valve EE has flow rate=3; tunnels lead to valves FF, DD', 'Valve FF has flow rate=0; tunnels lead to valves EE, GG', 'Valve GG has flow rate=0; tunnels lead to valves FF, HH', 'Valve HH has flow rate=22; tunnel leads to valve GG', 'Valve II has flow rate=0; tunnels lead to valves AA, JJ', 'Valve JJ has flow rate=21; tunnel leads to valve II')> expected <1651>, but got <1389>.\n",
      "\n",
      "Didn't get it this time... Try again! You got this!\n"
     ]
    }
   ],
   "source": [
    "# test part 1 solution\n",
    "\n",
    "test_code(part_1_solution, example_dict_part_1)"
   ]
  },
  {
   "cell_type": "markdown",
   "metadata": {},
   "source": [
    "### Part 2"
   ]
  },
  {
   "cell_type": "code",
   "execution_count": 12,
   "metadata": {},
   "outputs": [],
   "source": [
    "# code for preparing and testing examples for part 2\n",
    "\n",
    "example_dict_part_2 = {\n",
    "    tuple(load_puzzle_input('example_1.txt')): \"example_output\"\n",
    "}"
   ]
  },
  {
   "cell_type": "code",
   "execution_count": null,
   "metadata": {},
   "outputs": [],
   "source": []
  },
  {
   "cell_type": "code",
   "execution_count": 13,
   "metadata": {},
   "outputs": [],
   "source": [
    "# test part 2 solution\n",
    "\n",
    "# test_code(part_2_solution, example_dict_part_2)"
   ]
  }
 ],
 "metadata": {
  "kernelspec": {
   "display_name": "Python 3.10.6 64-bit",
   "language": "python",
   "name": "python3"
  },
  "language_info": {
   "codemirror_mode": {
    "name": "ipython",
    "version": 3
   },
   "file_extension": ".py",
   "mimetype": "text/x-python",
   "name": "python",
   "nbconvert_exporter": "python",
   "pygments_lexer": "ipython3",
   "version": "3.10.6"
  },
  "orig_nbformat": 4,
  "vscode": {
   "interpreter": {
    "hash": "31f2aee4e71d21fbe5cf8b01ff0e069b9275f58929596ceb00d14d90e3e16cd6"
   }
  }
 },
 "nbformat": 4,
 "nbformat_minor": 2
}
