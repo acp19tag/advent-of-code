{
 "cells": [
  {
   "cell_type": "code",
   "execution_count": 1,
   "metadata": {},
   "outputs": [],
   "source": [
    "# import useful libraries\n",
    "\n",
    "import numpy as np\n",
    "import itertools\n",
    "from collections import Counter\n",
    "from utils import load_puzzle_input, test_code\n",
    "import networkx as nx"
   ]
  },
  {
   "cell_type": "code",
   "execution_count": 2,
   "metadata": {},
   "outputs": [
    {
     "name": "stdout",
     "output_type": "stream",
     "text": [
      "['abcccccccaaaaaaaaccccccccccaaaaaaccccccaccaaaaaaaccccccaacccccccccaaaaaaaaaaccccccccccccccccccccccccccccccccaaaaa', 'abcccccccaaaaaaaaacccccccccaaaaaacccccaaacaaaaaaaaaaaccaacccccccccccaaaaaaccccccccccccccccccccccccccccccccccaaaaa', 'abcccccccaaaaaaaaaaccccccccaaaaaacaaacaaaaaaaaaaaaaaaaaaccccccccccccaaaaaaccccccccccccccaaacccccccccccccccccaaaaa']\n"
     ]
    }
   ],
   "source": [
    "# load puzzle input\n",
    "    \n",
    "puzzle_input = load_puzzle_input('input.txt')\n",
    "\n",
    "print(puzzle_input[:3])"
   ]
  },
  {
   "cell_type": "markdown",
   "metadata": {},
   "source": [
    "### Part 1"
   ]
  },
  {
   "cell_type": "code",
   "execution_count": 3,
   "metadata": {},
   "outputs": [],
   "source": [
    "# code for preparing and testing examples for part 1\n",
    "\n",
    "example_dict_part_1 = {\n",
    "    tuple(load_puzzle_input('example_1.txt')): 31\n",
    "}"
   ]
  },
  {
   "cell_type": "code",
   "execution_count": 4,
   "metadata": {},
   "outputs": [],
   "source": [
    "def convert_character_to_elevation(character):\n",
    "    if character == 'S':\n",
    "        return 1\n",
    "    elif character == 'E':\n",
    "        return 26\n",
    "    return ord(character) - 96"
   ]
  },
  {
   "cell_type": "code",
   "execution_count": 5,
   "metadata": {},
   "outputs": [],
   "source": [
    "def parse_puzzle_input(puzzle_input):\n",
    "    return np.array([[convert_character_to_elevation(character) for character in line] for line in puzzle_input])"
   ]
  },
  {
   "cell_type": "code",
   "execution_count": 6,
   "metadata": {},
   "outputs": [],
   "source": [
    "def identify_start_and_finish(puzzle_input):\n",
    "    key_points = {}\n",
    "    for row_idx, row in enumerate(puzzle_input):\n",
    "        for col_idx, character in enumerate(row): \n",
    "            if character in {'S', 'E'}:\n",
    "                key_points[character] = (row_idx, col_idx)\n",
    "    return key_points['S'], key_points['E']"
   ]
  },
  {
   "cell_type": "code",
   "execution_count": 40,
   "metadata": {},
   "outputs": [],
   "source": [
    "def check_valid_step(elevation_a, elevation_b):\n",
    "    if elevation_b < elevation_a:\n",
    "        return True\n",
    "    return elevation_b in {elevation_a, elevation_a + 1}"
   ]
  },
  {
   "cell_type": "code",
   "execution_count": 42,
   "metadata": {},
   "outputs": [],
   "source": [
    "def generate_link_dict(elevation_array):\n",
    "    \"\"\" Dictionary of possible links from each coordinate \"\"\"\n",
    "    \n",
    "    link_dict = {}\n",
    "    \n",
    "    max_row, max_col = elevation_array.shape\n",
    "    max_row -= 1 \n",
    "    max_col -= 1\n",
    "     \n",
    "    for row_idx, row in enumerate(elevation_array):\n",
    "        for col_idx, elevation in enumerate(row):\n",
    "            \n",
    "            link_dict[(row_idx, col_idx)] = []\n",
    "            \n",
    "            # look up\n",
    "            if row_idx != 0:\n",
    "                \n",
    "                up_elevation = elevation_array[row_idx - 1, col_idx]\n",
    "                if check_valid_step(elevation, up_elevation):\n",
    "                    link_dict[(row_idx, col_idx)].append((row_idx - 1, col_idx))\n",
    "                    \n",
    "            # look down\n",
    "            if row_idx != max_row:\n",
    "                \n",
    "                down_elevation = elevation_array[row_idx + 1, col_idx]\n",
    "                if check_valid_step(elevation, down_elevation):\n",
    "                    link_dict[(row_idx, col_idx)].append((row_idx + 1, col_idx))\n",
    "                    \n",
    "            # look right \n",
    "            if col_idx != max_col:\n",
    "                \n",
    "                right_elevation = elevation_array[row_idx, col_idx + 1]\n",
    "                if check_valid_step(elevation, right_elevation):\n",
    "                    link_dict[(row_idx, col_idx)].append((row_idx, col_idx + 1))\n",
    "\n",
    "                    \n",
    "            # look left \n",
    "            if col_idx != 0:\n",
    "                \n",
    "                left_elevation = elevation_array[row_idx, col_idx - 1]\n",
    "                if check_valid_step(elevation, left_elevation):\n",
    "                    link_dict[(row_idx, col_idx)].append((row_idx, col_idx - 1))\n",
    "                    \n",
    "    return link_dict\n"
   ]
  },
  {
   "cell_type": "code",
   "execution_count": 56,
   "metadata": {},
   "outputs": [],
   "source": [
    "# why reinvent the wheel. go networkx!\n",
    "\n",
    "def find_shortest_path(start, end, link_dict):\n",
    "    \n",
    "    try: # gotta catch that no path error somehow lol\n",
    "        Graph = nx.DiGraph()\n",
    "        \n",
    "        for node in link_dict:\n",
    "            Graph.add_node(node)\n",
    "            \n",
    "        for node in link_dict:\n",
    "            for next_node in link_dict[node]:\n",
    "                Graph.add_edge(node, next_node)\n",
    "                \n",
    "        # print(Graph.nodes)\n",
    "        # print(Graph.edges)\n",
    "                \n",
    "        # print(nx.shortest_path(Graph, source = start, target = end, weight = None, method = 'dijkstra'))\n",
    "        \n",
    "        return nx.shortest_path_length(Graph, source = start, target = end, weight = None, method = 'dijkstra')\n",
    "    except:\n",
    "        return 10**10 # omg I'm so done with this, just a really high number\n",
    "        "
   ]
  },
  {
   "cell_type": "code",
   "execution_count": 45,
   "metadata": {},
   "outputs": [],
   "source": [
    "def part_1_solution(puzzle_input):\n",
    "    \n",
    "    elevation_array = parse_puzzle_input(puzzle_input)\n",
    "    start_point, end_point = identify_start_and_finish(puzzle_input)\n",
    "\n",
    "    # print(start_point)\n",
    "    # print(end_point)\n",
    "\n",
    "    link_dict = generate_link_dict(elevation_array)\n",
    "\n",
    "    return find_shortest_path(start_point, end_point, link_dict)"
   ]
  },
  {
   "cell_type": "code",
   "execution_count": 46,
   "metadata": {},
   "outputs": [
    {
     "name": "stdout",
     "output_type": "stream",
     "text": [
      "Test 0 passed: Input <('Sabqponm', 'abcryxxl', 'accszExk', 'acctuvwj', 'abdefghi')> gives output <31>.\n",
      "\n",
      "Congratulations! Looks like you cracked it! Good job!\n"
     ]
    }
   ],
   "source": [
    "# test part 1 solution\n",
    "\n",
    "test_code(part_1_solution, example_dict_part_1)"
   ]
  },
  {
   "cell_type": "code",
   "execution_count": 47,
   "metadata": {},
   "outputs": [
    {
     "data": {
      "text/plain": [
       "380"
      ]
     },
     "execution_count": 47,
     "metadata": {},
     "output_type": "execute_result"
    }
   ],
   "source": [
    "part_1_solution(puzzle_input)"
   ]
  },
  {
   "cell_type": "markdown",
   "metadata": {},
   "source": [
    "### Part 2"
   ]
  },
  {
   "cell_type": "code",
   "execution_count": 48,
   "metadata": {},
   "outputs": [],
   "source": [
    "# code for preparing and testing examples for part 2\n",
    "\n",
    "example_dict_part_2 = {\n",
    "    tuple(load_puzzle_input('example_1.txt')): 29\n",
    "}"
   ]
  },
  {
   "cell_type": "code",
   "execution_count": 50,
   "metadata": {},
   "outputs": [],
   "source": [
    "def identify_start_points(puzzle_input):\n",
    "    key_points = []\n",
    "    for row_idx, row in enumerate(puzzle_input):\n",
    "        key_points.extend((row_idx, col_idx) for col_idx, character in enumerate(row) if character in {'S', 'a'})\n",
    "    return key_points"
   ]
  },
  {
   "cell_type": "code",
   "execution_count": 51,
   "metadata": {},
   "outputs": [],
   "source": [
    "def part_2_solution(puzzle_input):\n",
    "    \n",
    "    elevation_array = parse_puzzle_input(puzzle_input)\n",
    "    _, end_point = identify_start_and_finish(puzzle_input)\n",
    "    start_points_list = identify_start_points(puzzle_input)\n",
    "\n",
    "    link_dict = generate_link_dict(elevation_array)\n",
    "\n",
    "    step_list = [find_shortest_path(start_point, end_point, link_dict) for start_point in start_points_list]\n",
    "\n",
    "    return min(step_list)"
   ]
  },
  {
   "cell_type": "code",
   "execution_count": 52,
   "metadata": {},
   "outputs": [
    {
     "name": "stdout",
     "output_type": "stream",
     "text": [
      "Test 0 passed: Input <('Sabqponm', 'abcryxxl', 'accszExk', 'acctuvwj', 'abdefghi')> gives output <29>.\n",
      "\n",
      "Congratulations! Looks like you cracked it! Good job!\n"
     ]
    }
   ],
   "source": [
    "# test part 2 solution\n",
    "\n",
    "test_code(part_2_solution, example_dict_part_2)"
   ]
  },
  {
   "cell_type": "code",
   "execution_count": 57,
   "metadata": {},
   "outputs": [
    {
     "data": {
      "text/plain": [
       "375"
      ]
     },
     "execution_count": 57,
     "metadata": {},
     "output_type": "execute_result"
    }
   ],
   "source": [
    "part_2_solution(puzzle_input)"
   ]
  }
 ],
 "metadata": {
  "kernelspec": {
   "display_name": "Python 3.10.6 64-bit",
   "language": "python",
   "name": "python3"
  },
  "language_info": {
   "codemirror_mode": {
    "name": "ipython",
    "version": 3
   },
   "file_extension": ".py",
   "mimetype": "text/x-python",
   "name": "python",
   "nbconvert_exporter": "python",
   "pygments_lexer": "ipython3",
   "version": "3.10.6"
  },
  "orig_nbformat": 4,
  "vscode": {
   "interpreter": {
    "hash": "31f2aee4e71d21fbe5cf8b01ff0e069b9275f58929596ceb00d14d90e3e16cd6"
   }
  }
 },
 "nbformat": 4,
 "nbformat_minor": 2
}
