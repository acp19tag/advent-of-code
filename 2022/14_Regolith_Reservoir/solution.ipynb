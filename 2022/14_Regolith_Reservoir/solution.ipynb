{
 "cells": [
  {
   "cell_type": "code",
   "execution_count": 1,
   "metadata": {},
   "outputs": [],
   "source": [
    "# import useful libraries\n",
    "\n",
    "import numpy as np\n",
    "import itertools\n",
    "from collections import Counter\n",
    "from utils import load_puzzle_input, test_code"
   ]
  },
  {
   "cell_type": "code",
   "execution_count": 2,
   "metadata": {},
   "outputs": [
    {
     "name": "stdout",
     "output_type": "stream",
     "text": [
      "['471,144 -> 471,134 -> 471,144 -> 473,144 -> 473,140 -> 473,144 -> 475,144 -> 475,143 -> 475,144 -> 477,144 -> 477,142 -> 477,144 -> 479,144 -> 479,137 -> 479,144 -> 481,144 -> 481,134 -> 481,144 -> 483,144 -> 483,136 -> 483,144 -> 485,144 -> 485,134 -> 485,144', '475,166 -> 475,159 -> 475,166 -> 477,166 -> 477,156 -> 477,166 -> 479,166 -> 479,165 -> 479,166 -> 481,166 -> 481,156 -> 481,166 -> 483,166 -> 483,163 -> 483,166 -> 485,166 -> 485,156 -> 485,166 -> 487,166 -> 487,159 -> 487,166', '513,69 -> 513,71 -> 511,71 -> 511,76 -> 522,76 -> 522,71 -> 517,71 -> 517,69']\n"
     ]
    }
   ],
   "source": [
    "# load puzzle input\n",
    "    \n",
    "puzzle_input = load_puzzle_input('input.txt')\n",
    "\n",
    "print(puzzle_input[:3])"
   ]
  },
  {
   "cell_type": "markdown",
   "metadata": {},
   "source": [
    "### Part 1"
   ]
  },
  {
   "cell_type": "code",
   "execution_count": 3,
   "metadata": {},
   "outputs": [],
   "source": [
    "# code for preparing and testing examples for part 1\n",
    "\n",
    "example_dict_part_1 = {\n",
    "    tuple(load_puzzle_input('example_1.txt')): 24\n",
    "}"
   ]
  },
  {
   "cell_type": "code",
   "execution_count": 4,
   "metadata": {},
   "outputs": [],
   "source": [
    "def parse_puzzle_input(puzzle_input):\n",
    "    \n",
    "    list_of_tuple_lists = []\n",
    "    rolling_tuple_list = []\n",
    "    \n",
    "    for line in puzzle_input:\n",
    "        coordinates = [x.strip() for x in line.split('->')]\n",
    "        for coordinate in coordinates:\n",
    "            x, y = coordinate.split(',')\n",
    "            rolling_tuple_list.append((int(x), int(y)))\n",
    "        list_of_tuple_lists.append(rolling_tuple_list)\n",
    "        rolling_tuple_list = []\n",
    "    \n",
    "    return list_of_tuple_lists"
   ]
  },
  {
   "cell_type": "code",
   "execution_count": 5,
   "metadata": {},
   "outputs": [],
   "source": [
    "def generate_list_of_points_between_two_points(x1, y1, x2, y2):\n",
    "\n",
    "    if x1 != x2:\n",
    "        \n",
    "        x_list = range(min(x1, x2), max(x1, x2) + 1)\n",
    "\n",
    "        return zip(x_list, [y1] * len(x_list))\n",
    "\n",
    "    else:\n",
    "        \n",
    "        y_list = range(min(y1, y2), max(y1, y2) + 1)\n",
    "\n",
    "        return zip([x1] * len(y_list), y_list)"
   ]
  },
  {
   "cell_type": "code",
   "execution_count": 6,
   "metadata": {},
   "outputs": [],
   "source": [
    "def generate_rock_structure(list_of_tuple_lists):\n",
    "    \n",
    "    rock_coordinate_set = set()\n",
    "    \n",
    "    for tuple_list in list_of_tuple_lists:\n",
    "             \n",
    "        for idx in range(len(tuple_list) - 1):\n",
    "            \n",
    "            coordinate_1, coorindate_2 = tuple_list[idx], tuple_list[idx + 1]\n",
    "            x1, y1 = coordinate_1\n",
    "            x2, y2 = coorindate_2\n",
    "            \n",
    "            for coordinate_to_add in generate_list_of_points_between_two_points(x1, y1, x2, y2):\n",
    "                rock_coordinate_set.add(coordinate_to_add)\n",
    "                \n",
    "    return rock_coordinate_set\n",
    "            "
   ]
  },
  {
   "cell_type": "code",
   "execution_count": 7,
   "metadata": {},
   "outputs": [],
   "source": [
    "def find_void_y(rock_structure_set):\n",
    "    \"\"\"This is the y level where the sand disappears:  max y + 1\"\"\"\n",
    "    \n",
    "    return max(coordinate[1] for coordinate in rock_structure_set) + 1"
   ]
  },
  {
   "cell_type": "code",
   "execution_count": 8,
   "metadata": {},
   "outputs": [],
   "source": [
    "def find_sand_next_move(current_sand_position, rock_structure):\n",
    "    \n",
    "    sand_x, sand_y = current_sand_position\n",
    "    \n",
    "    # downwards first\n",
    "    if (sand_x, sand_y + 1) not in rock_structure:\n",
    "        return (sand_x, sand_y + 1)\n",
    "    \n",
    "    # one step down and to the left\n",
    "    elif (sand_x - 1, sand_y + 1) not in rock_structure:\n",
    "        return (sand_x - 1, sand_y + 1)\n",
    "    \n",
    "    # one step down and to the right\n",
    "    elif (sand_x + 1, sand_y + 1) not in rock_structure:\n",
    "        return (sand_x + 1, sand_y + 1)\n",
    "    \n",
    "    # otherwise, rest\n",
    "    return None"
   ]
  },
  {
   "cell_type": "code",
   "execution_count": 9,
   "metadata": {},
   "outputs": [],
   "source": [
    "def find_sand_settle_point(sand_enter_point, rock_structure, void_point = None):\n",
    "    \n",
    "    current_sand_position = sand_enter_point\n",
    "    \n",
    "    while True: # this line gives me anxiety\n",
    "        \n",
    "        next_sand_move = find_sand_next_move(current_sand_position, rock_structure)\n",
    "        \n",
    "        if not next_sand_move: # i.e. rest\n",
    "            return current_sand_position\n",
    "        \n",
    "        elif void_point:\n",
    "            if next_sand_move[1] >= void_point: # i.e. fallen out of the world\n",
    "                return None\n",
    "        \n",
    "        current_sand_position = next_sand_move"
   ]
  },
  {
   "cell_type": "code",
   "execution_count": 10,
   "metadata": {},
   "outputs": [],
   "source": [
    "def part_1_solution(puzzle_input):\n",
    "    \n",
    "    sand_enter_point = (500, 0)\n",
    "\n",
    "    list_of_tuple_lists = parse_puzzle_input(puzzle_input)\n",
    "    rock_structure = generate_rock_structure(list_of_tuple_lists)\n",
    "    void_y = find_void_y(rock_structure)\n",
    "\n",
    "    sand_counter = 0\n",
    "\n",
    "    while True: # anxiety\n",
    "        \n",
    "        if not (sand_settle_point := find_sand_settle_point(sand_enter_point, rock_structure, void_y)):\n",
    "            return sand_counter\n",
    "        \n",
    "        sand_counter += 1\n",
    "        rock_structure.add(sand_settle_point)\n"
   ]
  },
  {
   "cell_type": "code",
   "execution_count": 11,
   "metadata": {},
   "outputs": [
    {
     "name": "stdout",
     "output_type": "stream",
     "text": [
      "Test 0 passed: Input <('498,4 -> 498,6 -> 496,6', '503,4 -> 502,4 -> 502,9 -> 494,9')> gives output <24>.\n",
      "\n",
      "Congratulations! Looks like you cracked it! Good job!\n"
     ]
    }
   ],
   "source": [
    "# test part 1 solution\n",
    "\n",
    "test_code(part_1_solution, example_dict_part_1)"
   ]
  },
  {
   "cell_type": "code",
   "execution_count": 12,
   "metadata": {},
   "outputs": [
    {
     "data": {
      "text/plain": [
       "1003"
      ]
     },
     "execution_count": 12,
     "metadata": {},
     "output_type": "execute_result"
    }
   ],
   "source": [
    "part_1_solution(puzzle_input)"
   ]
  },
  {
   "cell_type": "markdown",
   "metadata": {},
   "source": [
    "### Part 2"
   ]
  },
  {
   "cell_type": "code",
   "execution_count": 13,
   "metadata": {},
   "outputs": [],
   "source": [
    "# code for preparing and testing examples for part 2\n",
    "\n",
    "example_dict_part_2 = {\n",
    "    tuple(load_puzzle_input('example_1.txt')): 93\n",
    "}"
   ]
  },
  {
   "cell_type": "code",
   "execution_count": 17,
   "metadata": {},
   "outputs": [],
   "source": [
    "def find_floor_line(sand_enter_point, rock_structure):\n",
    "        \n",
    "    floor_y = max(coordinate[1] for coordinate in rock_structure) + 2\n",
    "    \n",
    "    cave_height = floor_y - sand_enter_point[1]\n",
    "    \n",
    "    floor_x = range(sand_enter_point[0] - cave_height, sand_enter_point[0] + cave_height + 1)\n",
    "    \n",
    "    return zip(floor_x, [floor_y] * len(floor_x))"
   ]
  },
  {
   "cell_type": "code",
   "execution_count": 20,
   "metadata": {},
   "outputs": [],
   "source": [
    "def part_2_solution(puzzle_input):\n",
    "    \n",
    "    sand_enter_point = (500, 0)\n",
    "\n",
    "    list_of_tuple_lists = parse_puzzle_input(puzzle_input)\n",
    "    rock_structure = generate_rock_structure(list_of_tuple_lists)\n",
    "    \n",
    "    for floor_point in find_floor_line(sand_enter_point, rock_structure):\n",
    "        rock_structure.add(floor_point)\n",
    "\n",
    "    sand_counter = 0\n",
    "\n",
    "    while True: # anxiety\n",
    "        \n",
    "        sand_settle_point = find_sand_settle_point(sand_enter_point, rock_structure)\n",
    "        \n",
    "        if sand_settle_point == sand_enter_point:\n",
    "            return sand_counter + 1\n",
    "        \n",
    "        sand_counter += 1\n",
    "        rock_structure.add(sand_settle_point)\n"
   ]
  },
  {
   "cell_type": "code",
   "execution_count": 21,
   "metadata": {},
   "outputs": [
    {
     "name": "stdout",
     "output_type": "stream",
     "text": [
      "Test 0 passed: Input <('498,4 -> 498,6 -> 496,6', '503,4 -> 502,4 -> 502,9 -> 494,9')> gives output <93>.\n",
      "\n",
      "Congratulations! Looks like you cracked it! Good job!\n"
     ]
    }
   ],
   "source": [
    "# test part 2 solution\n",
    "\n",
    "test_code(part_2_solution, example_dict_part_2)"
   ]
  },
  {
   "cell_type": "code",
   "execution_count": 22,
   "metadata": {},
   "outputs": [
    {
     "data": {
      "text/plain": [
       "25771"
      ]
     },
     "execution_count": 22,
     "metadata": {},
     "output_type": "execute_result"
    }
   ],
   "source": [
    "part_2_solution(puzzle_input)"
   ]
  }
 ],
 "metadata": {
  "kernelspec": {
   "display_name": "Python 3.10.6 64-bit",
   "language": "python",
   "name": "python3"
  },
  "language_info": {
   "codemirror_mode": {
    "name": "ipython",
    "version": 3
   },
   "file_extension": ".py",
   "mimetype": "text/x-python",
   "name": "python",
   "nbconvert_exporter": "python",
   "pygments_lexer": "ipython3",
   "version": "3.10.6"
  },
  "orig_nbformat": 4,
  "vscode": {
   "interpreter": {
    "hash": "31f2aee4e71d21fbe5cf8b01ff0e069b9275f58929596ceb00d14d90e3e16cd6"
   }
  }
 },
 "nbformat": 4,
 "nbformat_minor": 2
}
