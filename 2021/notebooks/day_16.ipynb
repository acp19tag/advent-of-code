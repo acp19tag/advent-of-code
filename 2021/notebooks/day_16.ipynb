{
 "cells": [
  {
   "cell_type": "code",
   "execution_count": 1,
   "id": "582a7e77",
   "metadata": {},
   "outputs": [],
   "source": [
    "from src.utils import *"
   ]
  },
  {
   "cell_type": "code",
   "execution_count": 2,
   "id": "96f7967a",
   "metadata": {},
   "outputs": [],
   "source": [
    "puzzle_input = parse_puzzle_input(16)"
   ]
  },
  {
   "cell_type": "code",
   "execution_count": 4,
   "id": "7d32e255",
   "metadata": {},
   "outputs": [],
   "source": [
    "puzzle_input = puzzle_input[0]"
   ]
  },
  {
   "cell_type": "code",
   "execution_count": 5,
   "id": "27cffdad",
   "metadata": {},
   "outputs": [
    {
     "data": {
      "text/plain": [
       "'6053231004'"
      ]
     },
     "execution_count": 5,
     "metadata": {},
     "output_type": "execute_result"
    }
   ],
   "source": [
    "puzzle_input[:10]"
   ]
  },
  {
   "cell_type": "code",
   "execution_count": 39,
   "id": "b6bce5fc",
   "metadata": {},
   "outputs": [],
   "source": [
    "def hex_to_binary(hex):\n",
    "    return \"{0:b}\".format(int(str(hex), 16)).zfill(4)"
   ]
  }
 ],
 "metadata": {
  "kernelspec": {
   "display_name": "Python 3",
   "language": "python",
   "name": "python3"
  },
  "language_info": {
   "codemirror_mode": {
    "name": "ipython",
    "version": 3
   },
   "file_extension": ".py",
   "mimetype": "text/x-python",
   "name": "python",
   "nbconvert_exporter": "python",
   "pygments_lexer": "ipython3",
   "version": "3.8.10"
  }
 },
 "nbformat": 4,
 "nbformat_minor": 5
}
