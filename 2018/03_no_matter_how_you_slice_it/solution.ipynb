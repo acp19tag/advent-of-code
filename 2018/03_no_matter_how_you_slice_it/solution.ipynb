{
 "cells": [
  {
   "cell_type": "code",
   "execution_count": 1,
   "metadata": {},
   "outputs": [],
   "source": [
    "# import useful libraries\n",
    "\n",
    "import numpy as np\n",
    "import re\n",
    "import itertools\n",
    "from collections import Counter\n",
    "from utils import load_puzzle_input, test_code"
   ]
  },
  {
   "cell_type": "code",
   "execution_count": 2,
   "metadata": {},
   "outputs": [
    {
     "name": "stdout",
     "output_type": "stream",
     "text": [
      "['#1 @ 53,238: 26x24', '#2 @ 134,11: 27x12', '#3 @ 937,817: 10x25']\n"
     ]
    }
   ],
   "source": [
    "# load puzzle input\n",
    "    \n",
    "puzzle_input = load_puzzle_input()\n",
    "\n",
    "print(puzzle_input[:3])"
   ]
  },
  {
   "cell_type": "code",
   "execution_count": 3,
   "metadata": {},
   "outputs": [],
   "source": [
    "def parse(puzzle_input):\n",
    "\n",
    "    \"\"\"Parse input\"\"\"\n",
    "    return [\n",
    "        [\n",
    "            int(y) for y in re.search(r\"\\#(\\d*) \\@ (\\d*),(\\d*): (\\d*)x(\\d*)\", x).groups()\n",
    "            ] for x in puzzle_input if x is not None\n",
    "        ]  "
   ]
  },
  {
   "cell_type": "markdown",
   "metadata": {},
   "source": [
    "### Part 1"
   ]
  },
  {
   "cell_type": "code",
   "execution_count": 23,
   "metadata": {},
   "outputs": [],
   "source": [
    "# code for preparing and testing examples for part 1\n",
    "\n",
    "example_dict_part_1 = {\n",
    "    \n",
    "    (\"#1 @ 1,3: 4x4\", \"#2 @ 3,1: 4x4\", \"#3 @ 5,5: 2x2\"): 4\n",
    "\n",
    "}"
   ]
  },
  {
   "cell_type": "code",
   "execution_count": 6,
   "metadata": {},
   "outputs": [],
   "source": [
    "def find_covered_points(claim_tuple):\n",
    "    \n",
    "    id, start_x, start_y, x_size, y_size = claim_tuple\n",
    "    \n",
    "    return id, list(\n",
    "        itertools.product(\n",
    "            range(start_x, start_x + x_size),\n",
    "            range(start_y, start_y + y_size)\n",
    "        )\n",
    "    )"
   ]
  },
  {
   "cell_type": "code",
   "execution_count": 7,
   "metadata": {},
   "outputs": [],
   "source": [
    "def generate_covered_dict(parsed_puzzle_input):\n",
    "    \n",
    "    output_dict = {}\n",
    "    for claim_tuple in parsed_puzzle_input:\n",
    "        id, claimed_points_list = find_covered_points(claim_tuple)\n",
    "        output_dict[id] = claimed_points_list\n",
    "    return output_dict"
   ]
  },
  {
   "cell_type": "code",
   "execution_count": 8,
   "metadata": {},
   "outputs": [],
   "source": [
    "def count_covered_points(parsed_puzzle_input, min_cover = 2):\n",
    "    \n",
    "    covered_dict = generate_covered_dict(parsed_puzzle_input)\n",
    "    \n",
    "    all_points = [point for point_list in list(covered_dict.values()) for point in point_list]\n",
    "    \n",
    "    return len([x for x in Counter(all_points).values() if x >= min_cover])"
   ]
  },
  {
   "cell_type": "code",
   "execution_count": 9,
   "metadata": {},
   "outputs": [],
   "source": [
    "def part_1_solution(puzzle_input):\n",
    "    \n",
    "    parsed_puzzle_input = parse(puzzle_input)\n",
    "    \n",
    "    return count_covered_points(parsed_puzzle_input, min_cover = 2)"
   ]
  },
  {
   "cell_type": "code",
   "execution_count": 21,
   "metadata": {},
   "outputs": [
    {
     "name": "stdout",
     "output_type": "stream",
     "text": [
      "Test 0 passed: Input <('#1 @ 1,3: 4x4', '#2 @ 3,1: 4x4', '#3 @ 5,5: 2x2')> gives output <4>.\n",
      "\n",
      "Congratulations! Looks like you cracked it! Good job!\n"
     ]
    }
   ],
   "source": [
    "# test part 1 solution\n",
    "\n",
    "\"\"\"\n",
    "\n",
    "test_code(func, example_dict_part_1)\n",
    "\n",
    "\"\"\"\n",
    "\n",
    "test_code(part_1_solution, example_dict_part_1)"
   ]
  },
  {
   "cell_type": "code",
   "execution_count": 11,
   "metadata": {},
   "outputs": [
    {
     "data": {
      "text/plain": [
       "118322"
      ]
     },
     "execution_count": 11,
     "metadata": {},
     "output_type": "execute_result"
    }
   ],
   "source": [
    "part_1_solution(puzzle_input)"
   ]
  },
  {
   "cell_type": "markdown",
   "metadata": {},
   "source": [
    "### Part 2"
   ]
  },
  {
   "cell_type": "code",
   "execution_count": 24,
   "metadata": {},
   "outputs": [],
   "source": [
    "# code for preparing and testing examples for part 2\n",
    "\n",
    "example_dict_part_2 = {\n",
    "    \n",
    "    (\"#1 @ 1,3: 4x4\", \"#2 @ 3,1: 4x4\", \"#3 @ 5,5: 2x2\"): 3\n",
    "\n",
    "}"
   ]
  },
  {
   "cell_type": "code",
   "execution_count": 25,
   "metadata": {},
   "outputs": [],
   "source": [
    "def find_id_no_overlap(parsed_puzzle_input):\n",
    "    \n",
    "    covered_dict = generate_covered_dict(parsed_puzzle_input)\n",
    "\n",
    "    for id in covered_dict:\n",
    "        \n",
    "        overlap = False\n",
    "\n",
    "        for id_2 in covered_dict:\n",
    "            \n",
    "            if id_2 != id and not overlap and len(set(covered_dict[id]).intersection(set(covered_dict[id_2]))):\n",
    "                overlap = True\n",
    "        \n",
    "        if not overlap:\n",
    "            return id\n",
    "    \n",
    "    return 'ERROR - NOT FOUND'"
   ]
  },
  {
   "cell_type": "code",
   "execution_count": 26,
   "metadata": {},
   "outputs": [],
   "source": [
    "def part_2_solution(puzzle_input):\n",
    "    \n",
    "    parsed_puzzle_input = parse(puzzle_input)\n",
    "    \n",
    "    return find_id_no_overlap(parsed_puzzle_input)"
   ]
  },
  {
   "cell_type": "code",
   "execution_count": 27,
   "metadata": {},
   "outputs": [
    {
     "name": "stdout",
     "output_type": "stream",
     "text": [
      "Test 0 passed: Input <('#1 @ 1,3: 4x4', '#2 @ 3,1: 4x4', '#3 @ 5,5: 2x2')> gives output <3>.\n",
      "\n",
      "Congratulations! Looks like you cracked it! Good job!\n"
     ]
    }
   ],
   "source": [
    "# test part 2 solution\n",
    "\n",
    "test_code(part_2_solution, example_dict_part_2)"
   ]
  },
  {
   "cell_type": "code",
   "execution_count": 28,
   "metadata": {},
   "outputs": [
    {
     "data": {
      "text/plain": [
       "1178"
      ]
     },
     "execution_count": 28,
     "metadata": {},
     "output_type": "execute_result"
    }
   ],
   "source": [
    "part_2_solution(puzzle_input)"
   ]
  }
 ],
 "metadata": {
  "kernelspec": {
   "display_name": "Python 3.8.0 ('gatenlp')",
   "language": "python",
   "name": "python3"
  },
  "language_info": {
   "codemirror_mode": {
    "name": "ipython",
    "version": 3
   },
   "file_extension": ".py",
   "mimetype": "text/x-python",
   "name": "python",
   "nbconvert_exporter": "python",
   "pygments_lexer": "ipython3",
   "version": "3.8.0"
  },
  "orig_nbformat": 4,
  "vscode": {
   "interpreter": {
    "hash": "01a6e37e56735f6d4457edd4cd1aed8d51793622071af3fe7b9acd77ada366d8"
   }
  }
 },
 "nbformat": 4,
 "nbformat_minor": 2
}
