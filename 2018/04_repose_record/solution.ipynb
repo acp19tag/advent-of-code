{
 "cells": [
  {
   "cell_type": "code",
   "execution_count": 64,
   "metadata": {},
   "outputs": [],
   "source": [
    "# import useful libraries\n",
    "\n",
    "import numpy as np\n",
    "import itertools\n",
    "from collections import Counter\n",
    "from utils import load_puzzle_input, test_code\n",
    "from datetime import datetime, date, timedelta\n",
    "import re"
   ]
  },
  {
   "cell_type": "code",
   "execution_count": 2,
   "metadata": {},
   "outputs": [
    {
     "name": "stdout",
     "output_type": "stream",
     "text": [
      "['[1518-07-28 00:10] falls asleep', '[1518-10-16 00:04] Guard #479 begins shift', '[1518-07-18 00:55] falls asleep']\n"
     ]
    }
   ],
   "source": [
    "# load puzzle input\n",
    "    \n",
    "puzzle_input = load_puzzle_input()\n",
    "\n",
    "print(puzzle_input[:3])"
   ]
  },
  {
   "cell_type": "code",
   "execution_count": 18,
   "metadata": {},
   "outputs": [],
   "source": [
    "def to_datetime(input_str):\n",
    "    return datetime.strptime(input_str, '%Y-%m-%d %H:%M')"
   ]
  },
  {
   "cell_type": "code",
   "execution_count": 19,
   "metadata": {},
   "outputs": [],
   "source": [
    "def parse_line(input_line):\n",
    "    date_str, action = re.search(\"\\[(.*)\\] (.*$)\", input_line).groups()\n",
    "    return to_datetime(date_str), action"
   ]
  },
  {
   "cell_type": "code",
   "execution_count": 22,
   "metadata": {},
   "outputs": [],
   "source": [
    "import contextlib\n",
    "def parse(raw_puzzle_input):\n",
    "    \n",
    "    output_dict = {}\n",
    "\n",
    "    for input_line in raw_puzzle_input:\n",
    "        \n",
    "        with contextlib.suppress(Exception):\n",
    "            datetime, action = parse_line(input_line)\n",
    "            output_dict[datetime] = action\n",
    "            \n",
    "    return output_dict\n",
    "        "
   ]
  },
  {
   "cell_type": "markdown",
   "metadata": {},
   "source": [
    "### Part 1"
   ]
  },
  {
   "cell_type": "code",
   "execution_count": 29,
   "metadata": {},
   "outputs": [],
   "source": [
    "# code for preparing and testing examples for part 1\n",
    "\n",
    "example_dict_part_1 = {\n",
    "(\"[1518-11-01 00:00] Guard #10 begins shift\",\n",
    "\"[1518-11-01 00:05] falls asleep\",\n",
    "\"[1518-11-01 00:25] wakes up\",\n",
    "\"[1518-11-01 00:30] falls asleep\",\n",
    "\"[1518-11-01 00:55] wakes up\",\n",
    "\"[1518-11-01 23:58] Guard #99 begins shift\",\n",
    "\"[1518-11-02 00:40] falls asleep\",\n",
    "\"[1518-11-02 00:50] wakes up\",\n",
    "\"[1518-11-03 00:05] Guard #10 begins shift\",\n",
    "\"[1518-11-03 00:24] falls asleep\",\n",
    "\"[1518-11-03 00:29] wakes up\",\n",
    "\"[1518-11-04 00:02] Guard #99 begins shift\",\n",
    "\"[1518-11-04 00:36] falls asleep\",\n",
    "\"[1518-11-04 00:46] wakes up\",\n",
    "\"[1518-11-05 00:03] Guard #99 begins shift\",\n",
    "\"[1518-11-05 00:45] falls asleep\",\n",
    "\"[1518-11-05 00:55] wakes up\"): 240\n",
    "}"
   ]
  },
  {
   "cell_type": "code",
   "execution_count": 33,
   "metadata": {},
   "outputs": [
    {
     "data": {
      "text/plain": [
       "{datetime.datetime(1518, 11, 1, 0, 0): 'Guard #10 begins shift',\n",
       " datetime.datetime(1518, 11, 1, 0, 5): 'falls asleep',\n",
       " datetime.datetime(1518, 11, 1, 0, 25): 'wakes up',\n",
       " datetime.datetime(1518, 11, 1, 0, 30): 'falls asleep',\n",
       " datetime.datetime(1518, 11, 1, 0, 55): 'wakes up',\n",
       " datetime.datetime(1518, 11, 1, 23, 58): 'Guard #99 begins shift',\n",
       " datetime.datetime(1518, 11, 2, 0, 40): 'falls asleep',\n",
       " datetime.datetime(1518, 11, 2, 0, 50): 'wakes up',\n",
       " datetime.datetime(1518, 11, 3, 0, 5): 'Guard #10 begins shift',\n",
       " datetime.datetime(1518, 11, 3, 0, 24): 'falls asleep',\n",
       " datetime.datetime(1518, 11, 3, 0, 29): 'wakes up',\n",
       " datetime.datetime(1518, 11, 4, 0, 2): 'Guard #99 begins shift',\n",
       " datetime.datetime(1518, 11, 4, 0, 36): 'falls asleep',\n",
       " datetime.datetime(1518, 11, 4, 0, 46): 'wakes up',\n",
       " datetime.datetime(1518, 11, 5, 0, 3): 'Guard #99 begins shift',\n",
       " datetime.datetime(1518, 11, 5, 0, 45): 'falls asleep',\n",
       " datetime.datetime(1518, 11, 5, 0, 55): 'wakes up'}"
      ]
     },
     "execution_count": 33,
     "metadata": {},
     "output_type": "execute_result"
    }
   ],
   "source": [
    "parse(list(example_dict_part_1.keys())[0])"
   ]
  },
  {
   "cell_type": "code",
   "execution_count": 34,
   "metadata": {},
   "outputs": [
    {
     "name": "stdout",
     "output_type": "stream",
     "text": [
      "1518-11-01 00:00:00\n",
      "1518-11-01 00:05:00\n",
      "1518-11-01 00:25:00\n",
      "1518-11-01 00:30:00\n",
      "1518-11-01 00:55:00\n",
      "1518-11-01 23:58:00\n",
      "1518-11-02 00:40:00\n",
      "1518-11-02 00:50:00\n",
      "1518-11-03 00:05:00\n",
      "1518-11-03 00:24:00\n",
      "1518-11-03 00:29:00\n",
      "1518-11-04 00:02:00\n",
      "1518-11-04 00:36:00\n",
      "1518-11-04 00:46:00\n",
      "1518-11-05 00:03:00\n",
      "1518-11-05 00:45:00\n",
      "1518-11-05 00:55:00\n"
     ]
    }
   ],
   "source": [
    "state_dict = {}\n",
    "\n",
    "for datetime_stamp in sorted(list(parse(list(example_dict_part_1.keys())[0]).keys())):\n",
    "    print(datetime_stamp)\n",
    "    \n",
    "    "
   ]
  },
  {
   "cell_type": "code",
   "execution_count": 66,
   "metadata": {},
   "outputs": [],
   "source": [
    "sorted_timestamps = sorted(list(parse(list(example_dict_part_1.keys())[0]).keys()))"
   ]
  },
  {
   "cell_type": "code",
   "execution_count": 79,
   "metadata": {},
   "outputs": [
    {
     "name": "stdout",
     "output_type": "stream",
     "text": [
      "0\n",
      "1518-11-01 00:00:00\n",
      "1\n",
      "1518-11-01 00:01:00\n",
      "2\n",
      "1518-11-01 00:02:00\n",
      "3\n",
      "1518-11-01 00:03:00\n",
      "4\n",
      "1518-11-01 00:04:00\n",
      "5\n",
      "1518-11-01 00:05:00\n",
      "6\n",
      "1518-11-01 00:06:00\n",
      "7\n",
      "1518-11-01 00:07:00\n",
      "8\n",
      "1518-11-01 00:08:00\n",
      "9\n",
      "1518-11-01 00:09:00\n",
      "10\n",
      "1518-11-01 00:10:00\n",
      "11\n",
      "1518-11-01 00:11:00\n",
      "12\n",
      "1518-11-01 00:12:00\n",
      "13\n",
      "1518-11-01 00:13:00\n",
      "14\n",
      "1518-11-01 00:14:00\n",
      "15\n",
      "1518-11-01 00:15:00\n",
      "16\n",
      "1518-11-01 00:16:00\n",
      "17\n",
      "1518-11-01 00:17:00\n",
      "18\n",
      "1518-11-01 00:18:00\n",
      "19\n",
      "1518-11-01 00:19:00\n",
      "20\n",
      "1518-11-01 00:20:00\n",
      "21\n",
      "1518-11-01 00:21:00\n",
      "22\n",
      "1518-11-01 00:22:00\n",
      "23\n",
      "1518-11-01 00:23:00\n",
      "24\n",
      "1518-11-01 00:24:00\n",
      "25\n",
      "1518-11-01 00:25:00\n",
      "26\n",
      "1518-11-01 00:26:00\n",
      "27\n",
      "1518-11-01 00:27:00\n",
      "28\n",
      "1518-11-01 00:28:00\n",
      "29\n",
      "1518-11-01 00:29:00\n",
      "30\n",
      "1518-11-01 00:30:00\n",
      "31\n",
      "1518-11-01 00:31:00\n",
      "32\n",
      "1518-11-01 00:32:00\n",
      "33\n",
      "1518-11-01 00:33:00\n",
      "34\n",
      "1518-11-01 00:34:00\n",
      "35\n",
      "1518-11-01 00:35:00\n",
      "36\n",
      "1518-11-01 00:36:00\n",
      "37\n",
      "1518-11-01 00:37:00\n",
      "38\n",
      "1518-11-01 00:38:00\n",
      "39\n",
      "1518-11-01 00:39:00\n",
      "40\n",
      "1518-11-01 00:40:00\n",
      "41\n",
      "1518-11-01 00:41:00\n",
      "42\n",
      "1518-11-01 00:42:00\n",
      "43\n",
      "1518-11-01 00:43:00\n",
      "44\n",
      "1518-11-01 00:44:00\n",
      "45\n",
      "1518-11-01 00:45:00\n",
      "46\n",
      "1518-11-01 00:46:00\n",
      "47\n",
      "1518-11-01 00:47:00\n",
      "48\n",
      "1518-11-01 00:48:00\n",
      "49\n",
      "1518-11-01 00:49:00\n",
      "50\n",
      "1518-11-01 00:50:00\n",
      "51\n",
      "1518-11-01 00:51:00\n",
      "52\n",
      "1518-11-01 00:52:00\n",
      "53\n",
      "1518-11-01 00:53:00\n",
      "54\n",
      "1518-11-01 00:54:00\n",
      "55\n",
      "1518-11-01 00:55:00\n"
     ]
    }
   ],
   "source": [
    "for i in range(\n",
    "    int((sorted_timestamps[-1] - sorted_timestamps[0]).seconds / 60) + 1\n",
    "):\n",
    "    new_timestamp = sorted_timestamps[0] + timedelta(seconds = i * 60)\n",
    "    print(new_timestamp)"
   ]
  },
  {
   "cell_type": "code",
   "execution_count": 73,
   "metadata": {},
   "outputs": [
    {
     "data": {
      "text/plain": [
       "55"
      ]
     },
     "execution_count": 73,
     "metadata": {},
     "output_type": "execute_result"
    }
   ],
   "source": [
    "int((sorted_timestamps[-1] - sorted_timestamps[0]).seconds / 60)"
   ]
  },
  {
   "cell_type": "code",
   "execution_count": 63,
   "metadata": {},
   "outputs": [
    {
     "data": {
      "text/plain": [
       "'43'"
      ]
     },
     "execution_count": 63,
     "metadata": {},
     "output_type": "execute_result"
    }
   ],
   "source": [
    "re.search('\\d+', 'Guard #43 wakes up').group()"
   ]
  },
  {
   "cell_type": "code",
   "execution_count": null,
   "metadata": {},
   "outputs": [],
   "source": [
    "# test part 1 solution\n",
    "\n",
    "\"\"\"\n",
    "\n",
    "test_code(func, example_dict_part_1)\n",
    "\n",
    "\"\"\""
   ]
  },
  {
   "cell_type": "markdown",
   "metadata": {},
   "source": [
    "### Part 2"
   ]
  },
  {
   "cell_type": "code",
   "execution_count": null,
   "metadata": {},
   "outputs": [],
   "source": [
    "# code for preparing and testing examples for part 2\n",
    "\n",
    "example_dict_part_2 = {\n",
    "    \"example_input\": \"example_output\"\n",
    "}"
   ]
  },
  {
   "cell_type": "code",
   "execution_count": null,
   "metadata": {},
   "outputs": [],
   "source": []
  },
  {
   "cell_type": "code",
   "execution_count": null,
   "metadata": {},
   "outputs": [],
   "source": [
    "# test part 2 solution\n",
    "\n",
    "\"\"\"\n",
    "\n",
    "test_code(func, example_dict_part_2)\n",
    "\n",
    "\"\"\""
   ]
  }
 ],
 "metadata": {
  "kernelspec": {
   "display_name": "Python 3.8.0 ('gatenlp')",
   "language": "python",
   "name": "python3"
  },
  "language_info": {
   "codemirror_mode": {
    "name": "ipython",
    "version": 3
   },
   "file_extension": ".py",
   "mimetype": "text/x-python",
   "name": "python",
   "nbconvert_exporter": "python",
   "pygments_lexer": "ipython3",
   "version": "3.8.0"
  },
  "orig_nbformat": 4,
  "vscode": {
   "interpreter": {
    "hash": "01a6e37e56735f6d4457edd4cd1aed8d51793622071af3fe7b9acd77ada366d8"
   }
  }
 },
 "nbformat": 4,
 "nbformat_minor": 2
}
